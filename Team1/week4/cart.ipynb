{
  "nbformat": 4,
  "nbformat_minor": 0,
  "metadata": {
    "colab": {
      "provenance": []
    },
    "kernelspec": {
      "name": "python3",
      "display_name": "Python 3"
    },
    "language_info": {
      "name": "python"
    }
  },
  "cells": [
    {
      "cell_type": "markdown",
      "source": [
        "#1. CART (Classification and Regression Tree)"
      ],
      "metadata": {
        "id": "H6t_JZDoecPH"
      }
    },
    {
      "cell_type": "markdown",
      "source": [
        "Classification"
      ],
      "metadata": {
        "id": "a0iQLqI9GubI"
      }
    },
    {
      "cell_type": "code",
      "source": [
        "from sklearn import datasets\n",
        "from sklearn import metrics\n",
        "from sklearn.tree import DecisionTreeClassifier\n",
        "from sklearn.tree import DecisionTreeRegressor\n",
        "from sklearn.model_selection import train_test_split\n",
        "import matplotlib.pyplot as plt\n",
        "import seaborn as sns"
      ],
      "metadata": {
        "id": "zosij0iCdfGM"
      },
      "execution_count": 3,
      "outputs": []
    },
    {
      "cell_type": "code",
      "source": [
        "dataset = datasets.load_wine()\n",
        "X = dataset.data; y = dataset.target\n",
        "X_train, X_test, y_train, y_test = train_test_split(X, y, test_size=0.25)"
      ],
      "metadata": {
        "id": "cS5BEk5PdlCM"
      },
      "execution_count": 4,
      "outputs": []
    },
    {
      "cell_type": "code",
      "source": [
        "X"
      ],
      "metadata": {
        "colab": {
          "base_uri": "https://localhost:8080/"
        },
        "id": "5gZFv5uNd0U0",
        "outputId": "c90b840e-acd7-41ea-c9e6-ce24412fd601"
      },
      "execution_count": 7,
      "outputs": [
        {
          "output_type": "execute_result",
          "data": {
            "text/plain": [
              "array([[1.423e+01, 1.710e+00, 2.430e+00, ..., 1.040e+00, 3.920e+00,\n",
              "        1.065e+03],\n",
              "       [1.320e+01, 1.780e+00, 2.140e+00, ..., 1.050e+00, 3.400e+00,\n",
              "        1.050e+03],\n",
              "       [1.316e+01, 2.360e+00, 2.670e+00, ..., 1.030e+00, 3.170e+00,\n",
              "        1.185e+03],\n",
              "       ...,\n",
              "       [1.327e+01, 4.280e+00, 2.260e+00, ..., 5.900e-01, 1.560e+00,\n",
              "        8.350e+02],\n",
              "       [1.317e+01, 2.590e+00, 2.370e+00, ..., 6.000e-01, 1.620e+00,\n",
              "        8.400e+02],\n",
              "       [1.413e+01, 4.100e+00, 2.740e+00, ..., 6.100e-01, 1.600e+00,\n",
              "        5.600e+02]])"
            ]
          },
          "metadata": {},
          "execution_count": 7
        }
      ]
    },
    {
      "cell_type": "code",
      "source": [
        "y"
      ],
      "metadata": {
        "colab": {
          "base_uri": "https://localhost:8080/"
        },
        "id": "1vRVgbI0d7Li",
        "outputId": "184348d5-9f4e-4e29-bb7a-fae65321d362"
      },
      "execution_count": 8,
      "outputs": [
        {
          "output_type": "execute_result",
          "data": {
            "text/plain": [
              "array([0, 0, 0, 0, 0, 0, 0, 0, 0, 0, 0, 0, 0, 0, 0, 0, 0, 0, 0, 0, 0, 0,\n",
              "       0, 0, 0, 0, 0, 0, 0, 0, 0, 0, 0, 0, 0, 0, 0, 0, 0, 0, 0, 0, 0, 0,\n",
              "       0, 0, 0, 0, 0, 0, 0, 0, 0, 0, 0, 0, 0, 0, 0, 1, 1, 1, 1, 1, 1, 1,\n",
              "       1, 1, 1, 1, 1, 1, 1, 1, 1, 1, 1, 1, 1, 1, 1, 1, 1, 1, 1, 1, 1, 1,\n",
              "       1, 1, 1, 1, 1, 1, 1, 1, 1, 1, 1, 1, 1, 1, 1, 1, 1, 1, 1, 1, 1, 1,\n",
              "       1, 1, 1, 1, 1, 1, 1, 1, 1, 1, 1, 1, 1, 1, 1, 1, 1, 1, 1, 1, 2, 2,\n",
              "       2, 2, 2, 2, 2, 2, 2, 2, 2, 2, 2, 2, 2, 2, 2, 2, 2, 2, 2, 2, 2, 2,\n",
              "       2, 2, 2, 2, 2, 2, 2, 2, 2, 2, 2, 2, 2, 2, 2, 2, 2, 2, 2, 2, 2, 2,\n",
              "       2, 2])"
            ]
          },
          "metadata": {},
          "execution_count": 8
        }
      ]
    },
    {
      "cell_type": "code",
      "source": [
        "model = DecisionTreeClassifier()\n",
        "model.fit(X_train, y_train)\n",
        "print(model)"
      ],
      "metadata": {
        "colab": {
          "base_uri": "https://localhost:8080/"
        },
        "id": "6hCaKKtpdk7s",
        "outputId": "1170233a-fc60-4f42-9080-790d35f49801"
      },
      "execution_count": 5,
      "outputs": [
        {
          "output_type": "stream",
          "name": "stdout",
          "text": [
            "DecisionTreeClassifier()\n"
          ]
        }
      ]
    },
    {
      "cell_type": "code",
      "source": [
        "expected_y  = y_test\n",
        "predicted_y = model.predict(X_test)"
      ],
      "metadata": {
        "id": "cCj0aOiqdk0r"
      },
      "execution_count": 9,
      "outputs": []
    },
    {
      "cell_type": "code",
      "source": [
        "print(metrics.classification_report(expected_y, predicted_y))\n",
        "print(metrics.confusion_matrix(expected_y, predicted_y))"
      ],
      "metadata": {
        "colab": {
          "base_uri": "https://localhost:8080/"
        },
        "id": "1D8xcTx6dkss",
        "outputId": "052215ed-6954-42de-c87d-57fa1d523c23"
      },
      "execution_count": 10,
      "outputs": [
        {
          "output_type": "stream",
          "name": "stdout",
          "text": [
            "              precision    recall  f1-score   support\n",
            "\n",
            "           0       0.75      1.00      0.86        15\n",
            "           1       0.93      0.72      0.81        18\n",
            "           2       1.00      0.92      0.96        12\n",
            "\n",
            "    accuracy                           0.87        45\n",
            "   macro avg       0.89      0.88      0.88        45\n",
            "weighted avg       0.89      0.87      0.87        45\n",
            "\n",
            "[[15  0  0]\n",
            " [ 5 13  0]\n",
            " [ 0  1 11]]\n"
          ]
        }
      ]
    },
    {
      "cell_type": "markdown",
      "source": [
        "Regression"
      ],
      "metadata": {
        "id": "W4Xo4lHjGyvZ"
      }
    },
    {
      "cell_type": "code",
      "execution_count": 2,
      "metadata": {
        "colab": {
          "base_uri": "https://localhost:8080/",
          "height": 295
        },
        "id": "ihAaHInCbltQ",
        "outputId": "d6acac29-e433-4523-cb0d-8636bd48b394"
      },
      "outputs": [
        {
          "output_type": "display_data",
          "data": {
            "text/plain": [
              "<Figure size 432x288 with 1 Axes>"
            ],
            "image/png": "[encoded data removed]"
          },
          "metadata": {
            "needs_background": "light"
          }
        }
      ],
      "source": [
        "import numpy as np\n",
        "from sklearn.tree import DecisionTreeRegressor\n",
        "import matplotlib.pyplot as plt\n",
        "\n",
        "# Create a random dataset\n",
        "rng = np.random.RandomState(1)\n",
        "X = np.sort(5 * rng.rand(80, 1), axis=0)\n",
        "y = np.sin(X).ravel()\n",
        "y[::5] += 3 * (0.5 - rng.rand(16))\n",
        "\n",
        "# Fit regression model\n",
        "regr_1 = DecisionTreeRegressor(criterion=\"squared_error\", max_depth=2)\n",
        "regr_2 = DecisionTreeRegressor(criterion=\"squared_error\", max_depth=5)\n",
        "regr_1.fit(X, y)\n",
        "regr_2.fit(X, y)\n",
        "\n",
        "# Predict\n",
        "X_test = np.arange(0.0, 5.0, 0.01)[:, np.newaxis]\n",
        "y_1 = regr_1.predict(X_test)\n",
        "y_2 = regr_2.predict(X_test)\n",
        "\n",
        "# Plot the results\n",
        "plt.figure()\n",
        "plt.scatter(X, y, s=20, edgecolor=\"black\",\n",
        "            c=\"darkorange\", label=\"data\")\n",
        "plt.plot(X_test, y_1, color=\"cornflowerblue\",\n",
        "         label=\"max_depth=2\", linewidth=2)\n",
        "plt.plot(X_test, y_2, color=\"yellowgreen\", label=\"max_depth=5\", linewidth=2)\n",
        "plt.xlabel(\"data\")\n",
        "plt.ylabel(\"target\")\n",
        "plt.title(\"Decision Tree Regression\")\n",
        "plt.legend()\n",
        "plt.show()"
      ]
    },
    {
      "cell_type": "markdown",
      "source": [
        "#2. ID3 (Iterative Dichotomiser 3)"
      ],
      "metadata": {
        "id": "ovuqhFMobmj9"
      }
    },
    {
      "cell_type": "markdown",
      "source": [
        "범주형 속성값만을 갖는 학습 데이터로부터 엔트로피 개념을 사용하여 결정 트리를 생성  \n",
        "ID3의 Impurity: 엔트로피 (Entropy)"
      ],
      "metadata": {
        "id": "3hApPwOmfnc6"
      }
    },
    {
      "cell_type": "markdown",
      "source": [
        "![이미지](https://tyami.github.io/assets/images/post/ML/2020-09-30-id3/2020-09-30-information-gain-example.png)"
      ],
      "metadata": {
        "id": "VDGngrZnfLj1"
      }
    },
    {
      "cell_type": "code",
      "source": [
        "from sklearn.datasets import load_iris\n",
        "from sklearn import tree\n",
        "iris = load_iris()\n",
        "X, y = iris.data, iris.target\n",
        "clf = tree.DecisionTreeClassifier(criterion = 'entropy')\n",
        "clf = clf.fit(X, y)"
      ],
      "metadata": {
        "id": "o9Nhvx_difOt"
      },
      "execution_count": 45,
      "outputs": []
    },
    {
      "cell_type": "code",
      "source": [
        "tree.plot_tree(clf)"
      ],
      "metadata": {
        "colab": {
          "base_uri": "https://localhost:8080/",
          "height": 560
        },
        "id": "f7R1UGimifMO",
        "outputId": "6185f247-7b87-4d68-c398-fdf4d98e277c"
      },
      "execution_count": 46,
      "outputs": [
        {
          "output_type": "execute_result",
          "data": {
            "text/plain": [
              "[Text(0.5, 0.9166666666666666, 'X[2] <= 2.45\\nentropy = 1.585\\nsamples = 150\\nvalue = [50, 50, 50]'),\n",
              " Text(0.4230769230769231, 0.75, 'entropy = 0.0\\nsamples = 50\\nvalue = [50, 0, 0]'),\n",
              " Text(0.5769230769230769, 0.75, 'X[3] <= 1.75\\nentropy = 1.0\\nsamples = 100\\nvalue = [0, 50, 50]'),\n",
              " Text(0.3076923076923077, 0.5833333333333334, 'X[2] <= 4.95\\nentropy = 0.445\\nsamples = 54\\nvalue = [0, 49, 5]'),\n",
              " Text(0.15384615384615385, 0.4166666666666667, 'X[3] <= 1.65\\nentropy = 0.146\\nsamples = 48\\nvalue = [0, 47, 1]'),\n",
              " Text(0.07692307692307693, 0.25, 'entropy = 0.0\\nsamples = 47\\nvalue = [0, 47, 0]'),\n",
              " Text(0.23076923076923078, 0.25, 'entropy = 0.0\\nsamples = 1\\nvalue = [0, 0, 1]'),\n",
              " Text(0.46153846153846156, 0.4166666666666667, 'X[3] <= 1.55\\nentropy = 0.918\\nsamples = 6\\nvalue = [0, 2, 4]'),\n",
              " Text(0.38461538461538464, 0.25, 'entropy = 0.0\\nsamples = 3\\nvalue = [0, 0, 3]'),\n",
              " Text(0.5384615384615384, 0.25, 'X[0] <= 6.95\\nentropy = 0.918\\nsamples = 3\\nvalue = [0, 2, 1]'),\n",
              " Text(0.46153846153846156, 0.08333333333333333, 'entropy = 0.0\\nsamples = 2\\nvalue = [0, 2, 0]'),\n",
              " Text(0.6153846153846154, 0.08333333333333333, 'entropy = 0.0\\nsamples = 1\\nvalue = [0, 0, 1]'),\n",
              " Text(0.8461538461538461, 0.5833333333333334, 'X[2] <= 4.85\\nentropy = 0.151\\nsamples = 46\\nvalue = [0, 1, 45]'),\n",
              " Text(0.7692307692307693, 0.4166666666666667, 'X[1] <= 3.1\\nentropy = 0.918\\nsamples = 3\\nvalue = [0, 1, 2]'),\n",
              " Text(0.6923076923076923, 0.25, 'entropy = 0.0\\nsamples = 2\\nvalue = [0, 0, 2]'),\n",
              " Text(0.8461538461538461, 0.25, 'entropy = 0.0\\nsamples = 1\\nvalue = [0, 1, 0]'),\n",
              " Text(0.9230769230769231, 0.4166666666666667, 'entropy = 0.0\\nsamples = 43\\nvalue = [0, 0, 43]')]"
            ]
          },
          "metadata": {},
          "execution_count": 46
        },
        {
          "output_type": "display_data",
          "data": {
            "text/plain": [
              "<Figure size 432x288 with 1 Axes>"
            ],
            "image/png": "[encoded data removed]"
          },
          "metadata": {
            "needs_background": "light"
          }
        }
      ]
    },
    {
      "cell_type": "code",
      "source": [
        "import graphviz \n",
        "dot_data = tree.export_graphviz(clf, out_file=None) \n",
        "graph = graphviz.Source(dot_data) \n",
        "graph"
      ],
      "metadata": {
        "colab": {
          "base_uri": "https://localhost:8080/",
          "height": 815
        },
        "id": "k6dRa_M4ifIg",
        "outputId": "fc916f42-c059-42ba-e0a5-efac0e8cae4c"
      },
      "execution_count": 47,
      "outputs": [
        {
          "output_type": "execute_result",
          "data": {
            "text/plain": [
              "<graphviz.files.Source at 0x7f7d793738d0>"
            ],
            "image/svg+xml": "<?xml version=\"1.0\" encoding=\"UTF-8\" standalone=\"no\"?>\n<!DOCTYPE svg PUBLIC \"-//W3C//DTD SVG 1.1//EN\"\n \"http://www.w3.org/Graphics/SVG/1.1/DTD/svg11.dtd\">\n<!-- Generated by graphviz version 2.40.1 (20161225.0304)\n -->\n<!-- Title: Tree Pages: 1 -->\n<svg width=\"810pt\" height=\"581pt\"\n viewBox=\"0.00 0.00 810.00 581.00\" xmlns=\"http://www.w3.org/2000/svg\" xmlns:xlink=\"http://www.w3.org/1999/xlink\">\n<g id=\"graph0\" class=\"graph\" transform=\"scale(1 1) rotate(0) translate(4 577)\">\n<title>Tree</title>\n<polygon fill=\"#ffffff\" stroke=\"transparent\" points=\"-4,4 -4,-577 806,-577 806,4 -4,4\"/>\n<!-- 0 -->\n<g id=\"node1\" class=\"node\">\n<title>0</title>\n<polygon fill=\"none\" stroke=\"#000000\" points=\"496.5,-573 356.5,-573 356.5,-505 496.5,-505 496.5,-573\"/>\n<text text-anchor=\"middle\" x=\"426.5\" y=\"-557.8\" font-family=\"Helvetica,sans-Serif\" font-size=\"14.00\" fill=\"#000000\">X[2] &lt;= 2.45</text>\n<text text-anchor=\"middle\" x=\"426.5\" y=\"-542.8\" font-family=\"Helvetica,sans-Serif\" font-size=\"14.00\" fill=\"#000000\">entropy = 1.585</text>\n<text text-anchor=\"middle\" x=\"426.5\" y=\"-527.8\" font-family=\"Helvetica,sans-Serif\" font-size=\"14.00\" fill=\"#000000\">samples = 150</text>\n<text text-anchor=\"middle\" x=\"426.5\" y=\"-512.8\" font-family=\"Helvetica,sans-Serif\" font-size=\"14.00\" fill=\"#000000\">value = [50, 50, 50]</text>\n</g>\n<!-- 1 -->\n<g id=\"node2\" class=\"node\">\n<title>1</title>\n<polygon fill=\"none\" stroke=\"#000000\" points=\"416,-461.5 293,-461.5 293,-408.5 416,-408.5 416,-461.5\"/>\n<text text-anchor=\"middle\" x=\"354.5\" y=\"-446.3\" font-family=\"Helvetica,sans-Serif\" font-size=\"14.00\" fill=\"#000000\">entropy = 0.0</text>\n<text text-anchor=\"middle\" x=\"354.5\" y=\"-431.3\" font-family=\"Helvetica,sans-Serif\" font-size=\"14.00\" fill=\"#000000\">samples = 50</text>\n<text text-anchor=\"middle\" x=\"354.5\" y=\"-416.3\" font-family=\"Helvetica,sans-Serif\" font-size=\"14.00\" fill=\"#000000\">value = [50, 0, 0]</text>\n</g>\n<!-- 0&#45;&gt;1 -->\n<g id=\"edge1\" class=\"edge\">\n<title>0&#45;&gt;1</title>\n<path fill=\"none\" stroke=\"#000000\" d=\"M402.9245,-504.9465C395.1463,-493.7113 386.4861,-481.2021 378.6645,-469.9043\"/>\n<polygon fill=\"#000000\" stroke=\"#000000\" points=\"381.4452,-467.7719 372.8753,-461.5422 375.6898,-471.7564 381.4452,-467.7719\"/>\n<text text-anchor=\"middle\" x=\"368.4032\" y=\"-482.4389\" font-family=\"Helvetica,sans-Serif\" font-size=\"14.00\" fill=\"#000000\">True</text>\n</g>\n<!-- 2 -->\n<g id=\"node3\" class=\"node\">\n<title>2</title>\n<polygon fill=\"none\" stroke=\"#000000\" points=\"565,-469 434,-469 434,-401 565,-401 565,-469\"/>\n<text text-anchor=\"middle\" x=\"499.5\" y=\"-453.8\" font-family=\"Helvetica,sans-Serif\" font-size=\"14.00\" fill=\"#000000\">X[3] &lt;= 1.75</text>\n<text text-anchor=\"middle\" x=\"499.5\" y=\"-438.8\" font-family=\"Helvetica,sans-Serif\" font-size=\"14.00\" fill=\"#000000\">entropy = 1.0</text>\n<text text-anchor=\"middle\" x=\"499.5\" y=\"-423.8\" font-family=\"Helvetica,sans-Serif\" font-size=\"14.00\" fill=\"#000000\">samples = 100</text>\n<text text-anchor=\"middle\" x=\"499.5\" y=\"-408.8\" font-family=\"Helvetica,sans-Serif\" font-size=\"14.00\" fill=\"#000000\">value = [0, 50, 50]</text>\n</g>\n<!-- 0&#45;&gt;2 -->\n<g id=\"edge2\" class=\"edge\">\n<title>0&#45;&gt;2</title>\n<path fill=\"none\" stroke=\"#000000\" d=\"M450.4029,-504.9465C456.5791,-496.1475 463.3038,-486.5672 469.739,-477.3993\"/>\n<polygon fill=\"#000000\" stroke=\"#000000\" points=\"472.6629,-479.3258 475.5434,-469.13 466.9334,-475.3041 472.6629,-479.3258\"/>\n<text text-anchor=\"middle\" x=\"479.8563\" y=\"-490.0552\" font-family=\"Helvetica,sans-Serif\" font-size=\"14.00\" fill=\"#000000\">False</text>\n</g>\n<!-- 3 -->\n<g id=\"node4\" class=\"node\">\n<title>3</title>\n<polygon fill=\"none\" stroke=\"#000000\" points=\"460,-365 337,-365 337,-297 460,-297 460,-365\"/>\n<text text-anchor=\"middle\" x=\"398.5\" y=\"-349.8\" font-family=\"Helvetica,sans-Serif\" font-size=\"14.00\" fill=\"#000000\">X[2] &lt;= 4.95</text>\n<text text-anchor=\"middle\" x=\"398.5\" y=\"-334.8\" font-family=\"Helvetica,sans-Serif\" font-size=\"14.00\" fill=\"#000000\">entropy = 0.445</text>\n<text text-anchor=\"middle\" x=\"398.5\" y=\"-319.8\" font-family=\"Helvetica,sans-Serif\" font-size=\"14.00\" fill=\"#000000\">samples = 54</text>\n<text text-anchor=\"middle\" x=\"398.5\" y=\"-304.8\" font-family=\"Helvetica,sans-Serif\" font-size=\"14.00\" fill=\"#000000\">value = [0, 49, 5]</text>\n</g>\n<!-- 2&#45;&gt;3 -->\n<g id=\"edge3\" class=\"edge\">\n<title>2&#45;&gt;3</title>\n<path fill=\"none\" stroke=\"#000000\" d=\"M466.4288,-400.9465C457.6221,-391.8782 448.0093,-381.9799 438.8597,-372.5585\"/>\n<polygon fill=\"#000000\" stroke=\"#000000\" points=\"441.1232,-369.8654 431.6455,-365.13 436.1015,-374.7422 441.1232,-369.8654\"/>\n</g>\n<!-- 12 -->\n<g id=\"node13\" class=\"node\">\n<title>12</title>\n<polygon fill=\"none\" stroke=\"#000000\" points=\"663,-365 540,-365 540,-297 663,-297 663,-365\"/>\n<text text-anchor=\"middle\" x=\"601.5\" y=\"-349.8\" font-family=\"Helvetica,sans-Serif\" font-size=\"14.00\" fill=\"#000000\">X[2] &lt;= 4.85</text>\n<text text-anchor=\"middle\" x=\"601.5\" y=\"-334.8\" font-family=\"Helvetica,sans-Serif\" font-size=\"14.00\" fill=\"#000000\">entropy = 0.151</text>\n<text text-anchor=\"middle\" x=\"601.5\" y=\"-319.8\" font-family=\"Helvetica,sans-Serif\" font-size=\"14.00\" fill=\"#000000\">samples = 46</text>\n<text text-anchor=\"middle\" x=\"601.5\" y=\"-304.8\" font-family=\"Helvetica,sans-Serif\" font-size=\"14.00\" fill=\"#000000\">value = [0, 1, 45]</text>\n</g>\n<!-- 2&#45;&gt;12 -->\n<g id=\"edge12\" class=\"edge\">\n<title>2&#45;&gt;12</title>\n<path fill=\"none\" stroke=\"#000000\" d=\"M532.8986,-400.9465C541.8806,-391.7884 551.6928,-381.7838 561.015,-372.2788\"/>\n<polygon fill=\"#000000\" stroke=\"#000000\" points=\"563.523,-374.7201 568.0263,-365.13 558.5254,-369.8187 563.523,-374.7201\"/>\n</g>\n<!-- 4 -->\n<g id=\"node5\" class=\"node\">\n<title>4</title>\n<polygon fill=\"none\" stroke=\"#000000\" points=\"260,-261 137,-261 137,-193 260,-193 260,-261\"/>\n<text text-anchor=\"middle\" x=\"198.5\" y=\"-245.8\" font-family=\"Helvetica,sans-Serif\" font-size=\"14.00\" fill=\"#000000\">X[3] &lt;= 1.65</text>\n<text text-anchor=\"middle\" x=\"198.5\" y=\"-230.8\" font-family=\"Helvetica,sans-Serif\" font-size=\"14.00\" fill=\"#000000\">entropy = 0.146</text>\n<text text-anchor=\"middle\" x=\"198.5\" y=\"-215.8\" font-family=\"Helvetica,sans-Serif\" font-size=\"14.00\" fill=\"#000000\">samples = 48</text>\n<text text-anchor=\"middle\" x=\"198.5\" y=\"-200.8\" font-family=\"Helvetica,sans-Serif\" font-size=\"14.00\" fill=\"#000000\">value = [0, 47, 1]</text>\n</g>\n<!-- 3&#45;&gt;4 -->\n<g id=\"edge4\" class=\"edge\">\n<title>3&#45;&gt;4</title>\n<path fill=\"none\" stroke=\"#000000\" d=\"M336.8615,-298.948C315.4757,-287.8274 291.3309,-275.2721 269.2676,-263.7991\"/>\n<polygon fill=\"#000000\" stroke=\"#000000\" points=\"270.7662,-260.6335 260.2793,-259.1252 267.5367,-266.8441 270.7662,-260.6335\"/>\n</g>\n<!-- 7 -->\n<g id=\"node8\" class=\"node\">\n<title>7</title>\n<polygon fill=\"none\" stroke=\"#000000\" points=\"457.5,-261 339.5,-261 339.5,-193 457.5,-193 457.5,-261\"/>\n<text text-anchor=\"middle\" x=\"398.5\" y=\"-245.8\" font-family=\"Helvetica,sans-Serif\" font-size=\"14.00\" fill=\"#000000\">X[3] &lt;= 1.55</text>\n<text text-anchor=\"middle\" x=\"398.5\" y=\"-230.8\" font-family=\"Helvetica,sans-Serif\" font-size=\"14.00\" fill=\"#000000\">entropy = 0.918</text>\n<text text-anchor=\"middle\" x=\"398.5\" y=\"-215.8\" font-family=\"Helvetica,sans-Serif\" font-size=\"14.00\" fill=\"#000000\">samples = 6</text>\n<text text-anchor=\"middle\" x=\"398.5\" y=\"-200.8\" font-family=\"Helvetica,sans-Serif\" font-size=\"14.00\" fill=\"#000000\">value = [0, 2, 4]</text>\n</g>\n<!-- 3&#45;&gt;7 -->\n<g id=\"edge7\" class=\"edge\">\n<title>3&#45;&gt;7</title>\n<path fill=\"none\" stroke=\"#000000\" d=\"M398.5,-296.9465C398.5,-288.776 398.5,-279.9318 398.5,-271.3697\"/>\n<polygon fill=\"#000000\" stroke=\"#000000\" points=\"402.0001,-271.13 398.5,-261.13 395.0001,-271.13 402.0001,-271.13\"/>\n</g>\n<!-- 5 -->\n<g id=\"node6\" class=\"node\">\n<title>5</title>\n<polygon fill=\"none\" stroke=\"#000000\" points=\"123,-149.5 0,-149.5 0,-96.5 123,-96.5 123,-149.5\"/>\n<text text-anchor=\"middle\" x=\"61.5\" y=\"-134.3\" font-family=\"Helvetica,sans-Serif\" font-size=\"14.00\" fill=\"#000000\">entropy = 0.0</text>\n<text text-anchor=\"middle\" x=\"61.5\" y=\"-119.3\" font-family=\"Helvetica,sans-Serif\" font-size=\"14.00\" fill=\"#000000\">samples = 47</text>\n<text text-anchor=\"middle\" x=\"61.5\" y=\"-104.3\" font-family=\"Helvetica,sans-Serif\" font-size=\"14.00\" fill=\"#000000\">value = [0, 47, 0]</text>\n</g>\n<!-- 4&#45;&gt;5 -->\n<g id=\"edge5\" class=\"edge\">\n<title>4&#45;&gt;5</title>\n<path fill=\"none\" stroke=\"#000000\" d=\"M153.6411,-192.9465C137.8252,-180.9403 120.0927,-167.4791 104.4393,-155.5962\"/>\n<polygon fill=\"#000000\" stroke=\"#000000\" points=\"106.5455,-152.8009 96.4642,-149.5422 102.3129,-158.3764 106.5455,-152.8009\"/>\n</g>\n<!-- 6 -->\n<g id=\"node7\" class=\"node\">\n<title>6</title>\n<polygon fill=\"none\" stroke=\"#000000\" points=\"256,-149.5 141,-149.5 141,-96.5 256,-96.5 256,-149.5\"/>\n<text text-anchor=\"middle\" x=\"198.5\" y=\"-134.3\" font-family=\"Helvetica,sans-Serif\" font-size=\"14.00\" fill=\"#000000\">entropy = 0.0</text>\n<text text-anchor=\"middle\" x=\"198.5\" y=\"-119.3\" font-family=\"Helvetica,sans-Serif\" font-size=\"14.00\" fill=\"#000000\">samples = 1</text>\n<text text-anchor=\"middle\" x=\"198.5\" y=\"-104.3\" font-family=\"Helvetica,sans-Serif\" font-size=\"14.00\" fill=\"#000000\">value = [0, 0, 1]</text>\n</g>\n<!-- 4&#45;&gt;6 -->\n<g id=\"edge6\" class=\"edge\">\n<title>4&#45;&gt;6</title>\n<path fill=\"none\" stroke=\"#000000\" d=\"M198.5,-192.9465C198.5,-182.2621 198.5,-170.4254 198.5,-159.5742\"/>\n<polygon fill=\"#000000\" stroke=\"#000000\" points=\"202.0001,-159.5421 198.5,-149.5422 195.0001,-159.5422 202.0001,-159.5421\"/>\n</g>\n<!-- 8 -->\n<g id=\"node9\" class=\"node\">\n<title>8</title>\n<polygon fill=\"none\" stroke=\"#000000\" points=\"389,-149.5 274,-149.5 274,-96.5 389,-96.5 389,-149.5\"/>\n<text text-anchor=\"middle\" x=\"331.5\" y=\"-134.3\" font-family=\"Helvetica,sans-Serif\" font-size=\"14.00\" fill=\"#000000\">entropy = 0.0</text>\n<text text-anchor=\"middle\" x=\"331.5\" y=\"-119.3\" font-family=\"Helvetica,sans-Serif\" font-size=\"14.00\" fill=\"#000000\">samples = 3</text>\n<text text-anchor=\"middle\" x=\"331.5\" y=\"-104.3\" font-family=\"Helvetica,sans-Serif\" font-size=\"14.00\" fill=\"#000000\">value = [0, 0, 3]</text>\n</g>\n<!-- 7&#45;&gt;8 -->\n<g id=\"edge8\" class=\"edge\">\n<title>7&#45;&gt;8</title>\n<path fill=\"none\" stroke=\"#000000\" d=\"M376.5617,-192.9465C369.3946,-181.8215 361.4227,-169.4473 354.2007,-158.237\"/>\n<polygon fill=\"#000000\" stroke=\"#000000\" points=\"356.9574,-156.0532 348.5993,-149.5422 351.0728,-159.8442 356.9574,-156.0532\"/>\n</g>\n<!-- 9 -->\n<g id=\"node10\" class=\"node\">\n<title>9</title>\n<polygon fill=\"none\" stroke=\"#000000\" points=\"525.5,-157 407.5,-157 407.5,-89 525.5,-89 525.5,-157\"/>\n<text text-anchor=\"middle\" x=\"466.5\" y=\"-141.8\" font-family=\"Helvetica,sans-Serif\" font-size=\"14.00\" fill=\"#000000\">X[0] &lt;= 6.95</text>\n<text text-anchor=\"middle\" x=\"466.5\" y=\"-126.8\" font-family=\"Helvetica,sans-Serif\" font-size=\"14.00\" fill=\"#000000\">entropy = 0.918</text>\n<text text-anchor=\"middle\" x=\"466.5\" y=\"-111.8\" font-family=\"Helvetica,sans-Serif\" font-size=\"14.00\" fill=\"#000000\">samples = 3</text>\n<text text-anchor=\"middle\" x=\"466.5\" y=\"-96.8\" font-family=\"Helvetica,sans-Serif\" font-size=\"14.00\" fill=\"#000000\">value = [0, 2, 1]</text>\n</g>\n<!-- 7&#45;&gt;9 -->\n<g id=\"edge9\" class=\"edge\">\n<title>7&#45;&gt;9</title>\n<path fill=\"none\" stroke=\"#000000\" d=\"M420.7657,-192.9465C426.4602,-184.2373 432.6552,-174.7626 438.5938,-165.6801\"/>\n<polygon fill=\"#000000\" stroke=\"#000000\" points=\"441.6411,-167.4151 444.1842,-157.13 435.7823,-163.5843 441.6411,-167.4151\"/>\n</g>\n<!-- 10 -->\n<g id=\"node11\" class=\"node\">\n<title>10</title>\n<polygon fill=\"none\" stroke=\"#000000\" points=\"457,-53 342,-53 342,0 457,0 457,-53\"/>\n<text text-anchor=\"middle\" x=\"399.5\" y=\"-37.8\" font-family=\"Helvetica,sans-Serif\" font-size=\"14.00\" fill=\"#000000\">entropy = 0.0</text>\n<text text-anchor=\"middle\" x=\"399.5\" y=\"-22.8\" font-family=\"Helvetica,sans-Serif\" font-size=\"14.00\" fill=\"#000000\">samples = 2</text>\n<text text-anchor=\"middle\" x=\"399.5\" y=\"-7.8\" font-family=\"Helvetica,sans-Serif\" font-size=\"14.00\" fill=\"#000000\">value = [0, 2, 0]</text>\n</g>\n<!-- 9&#45;&gt;10 -->\n<g id=\"edge10\" class=\"edge\">\n<title>9&#45;&gt;10</title>\n<path fill=\"none\" stroke=\"#000000\" d=\"M442.8783,-88.9777C436.7113,-80.0954 430.0539,-70.5067 423.8499,-61.5711\"/>\n<polygon fill=\"#000000\" stroke=\"#000000\" points=\"426.6497,-59.4666 418.0715,-53.2485 420.8997,-63.4589 426.6497,-59.4666\"/>\n</g>\n<!-- 11 -->\n<g id=\"node12\" class=\"node\">\n<title>11</title>\n<polygon fill=\"none\" stroke=\"#000000\" points=\"590,-53 475,-53 475,0 590,0 590,-53\"/>\n<text text-anchor=\"middle\" x=\"532.5\" y=\"-37.8\" font-family=\"Helvetica,sans-Serif\" font-size=\"14.00\" fill=\"#000000\">entropy = 0.0</text>\n<text text-anchor=\"middle\" x=\"532.5\" y=\"-22.8\" font-family=\"Helvetica,sans-Serif\" font-size=\"14.00\" fill=\"#000000\">samples = 1</text>\n<text text-anchor=\"middle\" x=\"532.5\" y=\"-7.8\" font-family=\"Helvetica,sans-Serif\" font-size=\"14.00\" fill=\"#000000\">value = [0, 0, 1]</text>\n</g>\n<!-- 9&#45;&gt;11 -->\n<g id=\"edge11\" class=\"edge\">\n<title>9&#45;&gt;11</title>\n<path fill=\"none\" stroke=\"#000000\" d=\"M489.7691,-88.9777C495.844,-80.0954 502.4021,-70.5067 508.5135,-61.5711\"/>\n<polygon fill=\"#000000\" stroke=\"#000000\" points=\"511.4493,-63.4785 514.2057,-53.2485 505.6714,-59.5267 511.4493,-63.4785\"/>\n</g>\n<!-- 13 -->\n<g id=\"node14\" class=\"node\">\n<title>13</title>\n<polygon fill=\"none\" stroke=\"#000000\" points=\"660.5,-261 542.5,-261 542.5,-193 660.5,-193 660.5,-261\"/>\n<text text-anchor=\"middle\" x=\"601.5\" y=\"-245.8\" font-family=\"Helvetica,sans-Serif\" font-size=\"14.00\" fill=\"#000000\">X[1] &lt;= 3.1</text>\n<text text-anchor=\"middle\" x=\"601.5\" y=\"-230.8\" font-family=\"Helvetica,sans-Serif\" font-size=\"14.00\" fill=\"#000000\">entropy = 0.918</text>\n<text text-anchor=\"middle\" x=\"601.5\" y=\"-215.8\" font-family=\"Helvetica,sans-Serif\" font-size=\"14.00\" fill=\"#000000\">samples = 3</text>\n<text text-anchor=\"middle\" x=\"601.5\" y=\"-200.8\" font-family=\"Helvetica,sans-Serif\" font-size=\"14.00\" fill=\"#000000\">value = [0, 1, 2]</text>\n</g>\n<!-- 12&#45;&gt;13 -->\n<g id=\"edge13\" class=\"edge\">\n<title>12&#45;&gt;13</title>\n<path fill=\"none\" stroke=\"#000000\" d=\"M601.5,-296.9465C601.5,-288.776 601.5,-279.9318 601.5,-271.3697\"/>\n<polygon fill=\"#000000\" stroke=\"#000000\" points=\"605.0001,-271.13 601.5,-261.13 598.0001,-271.13 605.0001,-271.13\"/>\n</g>\n<!-- 16 -->\n<g id=\"node17\" class=\"node\">\n<title>16</title>\n<polygon fill=\"none\" stroke=\"#000000\" points=\"802,-253.5 679,-253.5 679,-200.5 802,-200.5 802,-253.5\"/>\n<text text-anchor=\"middle\" x=\"740.5\" y=\"-238.3\" font-family=\"Helvetica,sans-Serif\" font-size=\"14.00\" fill=\"#000000\">entropy = 0.0</text>\n<text text-anchor=\"middle\" x=\"740.5\" y=\"-223.3\" font-family=\"Helvetica,sans-Serif\" font-size=\"14.00\" fill=\"#000000\">samples = 43</text>\n<text text-anchor=\"middle\" x=\"740.5\" y=\"-208.3\" font-family=\"Helvetica,sans-Serif\" font-size=\"14.00\" fill=\"#000000\">value = [0, 0, 43]</text>\n</g>\n<!-- 12&#45;&gt;16 -->\n<g id=\"edge16\" class=\"edge\">\n<title>12&#45;&gt;16</title>\n<path fill=\"none\" stroke=\"#000000\" d=\"M647.0138,-296.9465C663.0606,-284.9403 681.0519,-271.4791 696.9339,-259.5962\"/>\n<polygon fill=\"#000000\" stroke=\"#000000\" points=\"699.1152,-262.3354 705.0254,-253.5422 694.9217,-256.7306 699.1152,-262.3354\"/>\n</g>\n<!-- 14 -->\n<g id=\"node15\" class=\"node\">\n<title>14</title>\n<polygon fill=\"none\" stroke=\"#000000\" points=\"659,-149.5 544,-149.5 544,-96.5 659,-96.5 659,-149.5\"/>\n<text text-anchor=\"middle\" x=\"601.5\" y=\"-134.3\" font-family=\"Helvetica,sans-Serif\" font-size=\"14.00\" fill=\"#000000\">entropy = 0.0</text>\n<text text-anchor=\"middle\" x=\"601.5\" y=\"-119.3\" font-family=\"Helvetica,sans-Serif\" font-size=\"14.00\" fill=\"#000000\">samples = 2</text>\n<text text-anchor=\"middle\" x=\"601.5\" y=\"-104.3\" font-family=\"Helvetica,sans-Serif\" font-size=\"14.00\" fill=\"#000000\">value = [0, 0, 2]</text>\n</g>\n<!-- 13&#45;&gt;14 -->\n<g id=\"edge14\" class=\"edge\">\n<title>13&#45;&gt;14</title>\n<path fill=\"none\" stroke=\"#000000\" d=\"M601.5,-192.9465C601.5,-182.2621 601.5,-170.4254 601.5,-159.5742\"/>\n<polygon fill=\"#000000\" stroke=\"#000000\" points=\"605.0001,-159.5421 601.5,-149.5422 598.0001,-159.5422 605.0001,-159.5421\"/>\n</g>\n<!-- 15 -->\n<g id=\"node16\" class=\"node\">\n<title>15</title>\n<polygon fill=\"none\" stroke=\"#000000\" points=\"792,-149.5 677,-149.5 677,-96.5 792,-96.5 792,-149.5\"/>\n<text text-anchor=\"middle\" x=\"734.5\" y=\"-134.3\" font-family=\"Helvetica,sans-Serif\" font-size=\"14.00\" fill=\"#000000\">entropy = 0.0</text>\n<text text-anchor=\"middle\" x=\"734.5\" y=\"-119.3\" font-family=\"Helvetica,sans-Serif\" font-size=\"14.00\" fill=\"#000000\">samples = 1</text>\n<text text-anchor=\"middle\" x=\"734.5\" y=\"-104.3\" font-family=\"Helvetica,sans-Serif\" font-size=\"14.00\" fill=\"#000000\">value = [0, 1, 0]</text>\n</g>\n<!-- 13&#45;&gt;15 -->\n<g id=\"edge15\" class=\"edge\">\n<title>13&#45;&gt;15</title>\n<path fill=\"none\" stroke=\"#000000\" d=\"M645.0492,-192.9465C660.2625,-181.0504 677.3023,-167.726 692.3957,-155.9237\"/>\n<polygon fill=\"#000000\" stroke=\"#000000\" points=\"694.8351,-158.4592 700.5567,-149.5422 690.5231,-152.9449 694.8351,-158.4592\"/>\n</g>\n</g>\n</svg>\n"
          },
          "metadata": {},
          "execution_count": 47
        }
      ]
    },
    {
      "cell_type": "code",
      "source": [
        "X_pred = clf.predict(X)"
      ],
      "metadata": {
        "id": "QpgDM5cNifFy"
      },
      "execution_count": 48,
      "outputs": []
    },
    {
      "cell_type": "code",
      "source": [
        "X_pred == y"
      ],
      "metadata": {
        "colab": {
          "base_uri": "https://localhost:8080/"
        },
        "id": "LkyEM5KEifDt",
        "outputId": "4bde44ef-6ca6-46f2-c02a-b316ed0bb374"
      },
      "execution_count": 49,
      "outputs": [
        {
          "output_type": "execute_result",
          "data": {
            "text/plain": [
              "array([ True,  True,  True,  True,  True,  True,  True,  True,  True,\n",
              "        True,  True,  True,  True,  True,  True,  True,  True,  True,\n",
              "        True,  True,  True,  True,  True,  True,  True,  True,  True,\n",
              "        True,  True,  True,  True,  True,  True,  True,  True,  True,\n",
              "        True,  True,  True,  True,  True,  True,  True,  True,  True,\n",
              "        True,  True,  True,  True,  True,  True,  True,  True,  True,\n",
              "        True,  True,  True,  True,  True,  True,  True,  True,  True,\n",
              "        True,  True,  True,  True,  True,  True,  True,  True,  True,\n",
              "        True,  True,  True,  True,  True,  True,  True,  True,  True,\n",
              "        True,  True,  True,  True,  True,  True,  True,  True,  True,\n",
              "        True,  True,  True,  True,  True,  True,  True,  True,  True,\n",
              "        True,  True,  True,  True,  True,  True,  True,  True,  True,\n",
              "        True,  True,  True,  True,  True,  True,  True,  True,  True,\n",
              "        True,  True,  True,  True,  True,  True,  True,  True,  True,\n",
              "        True,  True,  True,  True,  True,  True,  True,  True,  True,\n",
              "        True,  True,  True,  True,  True,  True,  True,  True,  True,\n",
              "        True,  True,  True,  True,  True,  True])"
            ]
          },
          "metadata": {},
          "execution_count": 49
        }
      ]
    },
    {
      "cell_type": "markdown",
      "source": [
        "#3. C4.5"
      ],
      "metadata": {
        "id": "Jqf3-IRHifBV"
      }
    },
    {
      "cell_type": "markdown",
      "source": [
        "ID3 알고리즘에 비해 개선된 점  \n",
        "정교한 불순도 지표 (Information gain ratio) 활용 -> 과적합 방지  \n",
        "입력값으로 범주형 변수 뿐 아니라 연속형 변수를 사용 가능  \n",
        "결측치가 포함된 데이터도 사용 가능  \n",
        "과적합을 방지하는 가지치기  "
      ],
      "metadata": {
        "id": "8Hkxnlk1ie-j"
      }
    },
    {
      "cell_type": "code",
      "source": [
        "import math\n",
        "class C45:\n",
        "\n",
        "\t\"\"\"Creates a decision tree with C4.5 algorithm\"\"\"\n",
        "\tdef __init__(self, pathToData,pathToNames):\n",
        "\t\tself.filePathToData = pathToData\n",
        "\t\tself.filePathToNames = pathToNames\n",
        "\t\tself.data = []\n",
        "\t\tself.classes = []\n",
        "\t\tself.numAttributes = -1 \n",
        "\t\tself.attrValues = {}\n",
        "\t\tself.attributes = []\n",
        "\t\tself.tree = None\n",
        "\n",
        "\tdef fetchData(self):\n",
        "\t\twith open(self.filePathToNames, \"r\") as file:\n",
        "\t\t\tclasses = file.readline()\n",
        "\t\t\tself.classes = [x.strip() for x in classes.split(\",\")]\n",
        "\t\t\t#add attributes\n",
        "\t\t\tfor line in file:\n",
        "\t\t\t\t[attribute, values] = [x.strip() for x in line.split(\":\")]\n",
        "\t\t\t\tvalues = [x.strip() for x in values.split(\",\")]\n",
        "\t\t\t\tself.attrValues[attribute] = values\n",
        "\t\tself.numAttributes = len(self.attrValues.keys())\n",
        "\t\tself.attributes = list(self.attrValues.keys())\n",
        "\t\twith open(self.filePathToData, \"r\") as file:\n",
        "\t\t\tfor line in file:\n",
        "\t\t\t\trow = [x.strip() for x in line.split(\",\")]\n",
        "\t\t\t\tif row != [] or row != [\"\"]:\n",
        "\t\t\t\t\tself.data.append(row)\n",
        "\n",
        "\tdef preprocessData(self):\n",
        "\t\tfor index,row in enumerate(self.data):\n",
        "\t\t\tfor attr_index in range(self.numAttributes):\n",
        "\t\t\t\tif(not self.isAttrDiscrete(self.attributes[attr_index])):\n",
        "\t\t\t\t\tself.data[index][attr_index] = float(self.data[index][attr_index])\n",
        "\n",
        "\tdef printTree(self):\n",
        "\t\tself.printNode(self.tree)\n",
        "\n",
        "\tdef printNode(self, node, indent=\"\"):\n",
        "\t\tif not node.isLeaf:\n",
        "\t\t\tif node.threshold is None:\n",
        "\t\t\t\t#discrete\n",
        "\t\t\t\tfor index,child in enumerate(node.children):\n",
        "\t\t\t\t\tif child.isLeaf:\n",
        "\t\t\t\t\t\tprint(indent + node.label + \" = \" + attributes[index] + \" : \" + child.label)\n",
        "\t\t\t\t\telse:\n",
        "\t\t\t\t\t\tprint(indent + node.label + \" = \" + attributes[index] + \" : \")\n",
        "\t\t\t\t\t\tself.printNode(child, indent + \"\t\")\n",
        "\t\t\telse:\n",
        "\t\t\t\t#numerical\n",
        "\t\t\t\tleftChild = node.children[0]\n",
        "\t\t\t\trightChild = node.children[1]\n",
        "\t\t\t\tif leftChild.isLeaf:\n",
        "\t\t\t\t\tprint(indent + node.label + \" <= \" + str(node.threshold) + \" : \" + leftChild.label)\n",
        "\t\t\t\telse:\n",
        "\t\t\t\t\tprint(indent + node.label + \" <= \" + str(node.threshold)+\" : \")\n",
        "\t\t\t\t\tself.printNode(leftChild, indent + \"\t\")\n",
        "\n",
        "\t\t\t\tif rightChild.isLeaf:\n",
        "\t\t\t\t\tprint(indent + node.label + \" > \" + str(node.threshold) + \" : \" + rightChild.label)\n",
        "\t\t\t\telse:\n",
        "\t\t\t\t\tprint(indent + node.label + \" > \" + str(node.threshold) + \" : \")\n",
        "\t\t\t\t\tself.printNode(rightChild , indent + \"\t\")\n",
        "\n",
        "\n",
        "\n",
        "\tdef generateTree(self):\n",
        "\t\tself.tree = self.recursiveGenerateTree(self.data, self.attributes)\n",
        "\n",
        "\tdef recursiveGenerateTree(self, curData, curAttributes):\n",
        "\t\tallSame = self.allSameClass(curData)\n",
        "\n",
        "\t\tif len(curData) == 0:\n",
        "\t\t\t#Fail\n",
        "\t\t\treturn Node(True, \"Fail\", None)\n",
        "\t\telif allSame is not False:\n",
        "\t\t\t#return a node with that class\n",
        "\t\t\treturn Node(True, allSame, None)\n",
        "\t\telif len(curAttributes) == 0:\n",
        "\t\t\t#return a node with the majority class\n",
        "\t\t\tmajClass = self.getMajClass(curData)\n",
        "\t\t\treturn Node(True, majClass, None)\n",
        "\t\telse:\n",
        "\t\t\t(best,best_threshold,splitted) = self.splitAttribute(curData, curAttributes)\n",
        "\t\t\tremainingAttributes = curAttributes[:]\n",
        "\t\t\tremainingAttributes.remove(best)\n",
        "\t\t\tnode = Node(False, best, best_threshold)\n",
        "\t\t\tnode.children = [self.recursiveGenerateTree(subset, remainingAttributes) for subset in splitted]\n",
        "\t\t\treturn node\n",
        "\n",
        "\tdef getMajClass(self, curData):\n",
        "\t\tfreq = [0]*len(self.classes)\n",
        "\t\tfor row in curData:\n",
        "\t\t\tindex = self.classes.index(row[-1])\n",
        "\t\t\tfreq[index] += 1\n",
        "\t\tmaxInd = freq.index(max(freq))\n",
        "\t\treturn self.classes[maxInd]\n",
        "\n",
        "\n",
        "\tdef allSameClass(self, data):\n",
        "\t\tfor row in data:\n",
        "\t\t\tif row[-1] != data[0][-1]:\n",
        "\t\t\t\treturn False\n",
        "\t\treturn data[0][-1]\n",
        "\n",
        "\tdef isAttrDiscrete(self, attribute):\n",
        "\t\tif attribute not in self.attributes:\n",
        "\t\t\traise ValueError(\"Attribute not listed\")\n",
        "\t\telif len(self.attrValues[attribute]) == 1 and self.attrValues[attribute][0] == \"continuous\":\n",
        "\t\t\treturn False\n",
        "\t\telse:\n",
        "\t\t\treturn True\n",
        "\n",
        "\tdef splitAttribute(self, curData, curAttributes):\n",
        "\t\tsplitted = []\n",
        "\t\tmaxEnt = -1*float(\"inf\")\n",
        "\t\tbest_attribute = -1\n",
        "\t\t#None for discrete attributes, threshold value for continuous attributes\n",
        "\t\tbest_threshold = None\n",
        "\t\tfor attribute in curAttributes:\n",
        "\t\t\tindexOfAttribute = self.attributes.index(attribute)\n",
        "\t\t\tif self.isAttrDiscrete(attribute):\n",
        "\t\t\t\t#split curData into n-subsets, where n is the number of \n",
        "\t\t\t\t#different values of attribute i. Choose the attribute with\n",
        "\t\t\t\t#the max gain\n",
        "\t\t\t\tvaluesForAttribute = self.attrValues[attribute]\n",
        "\t\t\t\tsubsets = [[] for a in valuesForAttribute]\n",
        "\t\t\t\tfor row in curData:\n",
        "\t\t\t\t\tfor index in range(len(valuesForAttribute)):\n",
        "\t\t\t\t\t\tif row[i] == valuesForAttribute[index]:\n",
        "\t\t\t\t\t\t\tsubsets[index].append(row)\n",
        "\t\t\t\t\t\t\tbreak\n",
        "\t\t\t\te = gain(curData, subsets)\n",
        "\t\t\t\tif e > maxEnt:\n",
        "\t\t\t\t\tmaxEnt = e\n",
        "\t\t\t\t\tsplitted = subsets\n",
        "\t\t\t\t\tbest_attribute = attribute\n",
        "\t\t\t\t\tbest_threshold = None\n",
        "\t\t\telse:\n",
        "\t\t\t\t#sort the data according to the column.Then try all \n",
        "\t\t\t\t#possible adjacent pairs. Choose the one that \n",
        "\t\t\t\t#yields maximum gain\n",
        "\t\t\t\tcurData.sort(key = lambda x: x[indexOfAttribute])\n",
        "\t\t\t\tfor j in range(0, len(curData) - 1):\n",
        "\t\t\t\t\tif curData[j][indexOfAttribute] != curData[j+1][indexOfAttribute]:\n",
        "\t\t\t\t\t\tthreshold = (curData[j][indexOfAttribute] + curData[j+1][indexOfAttribute]) / 2\n",
        "\t\t\t\t\t\tless = []\n",
        "\t\t\t\t\t\tgreater = []\n",
        "\t\t\t\t\t\tfor row in curData:\n",
        "\t\t\t\t\t\t\tif(row[indexOfAttribute] > threshold):\n",
        "\t\t\t\t\t\t\t\tgreater.append(row)\n",
        "\t\t\t\t\t\t\telse:\n",
        "\t\t\t\t\t\t\t\tless.append(row)\n",
        "\t\t\t\t\t\te = self.gain(curData, [less, greater])\n",
        "\t\t\t\t\t\tif e >= maxEnt:\n",
        "\t\t\t\t\t\t\tsplitted = [less, greater]\n",
        "\t\t\t\t\t\t\tmaxEnt = e\n",
        "\t\t\t\t\t\t\tbest_attribute = attribute\n",
        "\t\t\t\t\t\t\tbest_threshold = threshold\n",
        "\t\treturn (best_attribute,best_threshold,splitted)\n",
        "\n",
        "\tdef gain(self,unionSet, subsets):\n",
        "\t\t#input : data and disjoint subsets of it\n",
        "\t\t#output : information gain\n",
        "\t\tS = len(unionSet)\n",
        "\t\t#calculate impurity before split\n",
        "\t\timpurityBeforeSplit = self.entropy(unionSet)\n",
        "\t\t#calculate impurity after split\n",
        "\t\tweights = [len(subset)/S for subset in subsets]\n",
        "\t\timpurityAfterSplit = 0\n",
        "\t\tfor i in range(len(subsets)):\n",
        "\t\t\timpurityAfterSplit += weights[i]*self.entropy(subsets[i])\n",
        "\t\t#calculate total gain\n",
        "\t\ttotalGain = impurityBeforeSplit - impurityAfterSplit\n",
        "\t\treturn totalGain\n",
        "\n",
        "\tdef entropy(self, dataSet):\n",
        "\t\tS = len(dataSet)\n",
        "\t\tif S == 0:\n",
        "\t\t\treturn 0\n",
        "\t\tnum_classes = [0 for i in self.classes]\n",
        "\t\tfor row in dataSet:\n",
        "\t\t\tclassIndex = list(self.classes).index(row[-1])\n",
        "\t\t\tnum_classes[classIndex] += 1\n",
        "\t\tnum_classes = [x/S for x in num_classes]\n",
        "\t\tent = 0\n",
        "\t\tfor num in num_classes:\n",
        "\t\t\tent += num*self.log(num)\n",
        "\t\treturn ent*-1\n",
        "\n",
        "\n",
        "\tdef log(self, x):\n",
        "\t\tif x == 0:\n",
        "\t\t\treturn 0\n",
        "\t\telse:\n",
        "\t\t\treturn math.log(x,2)\n",
        "\n",
        "class Node:\n",
        "\tdef __init__(self,isLeaf, label, threshold):\n",
        "\t\tself.label = label\n",
        "\t\tself.threshold = threshold\n",
        "\t\tself.isLeaf = isLeaf\n",
        "\t\tself.children = []"
      ],
      "metadata": {
        "id": "CzyrmrEbkhet"
      },
      "execution_count": 52,
      "outputs": []
    },
    {
      "cell_type": "code",
      "source": [
        "import pdb\n",
        "from c45 import C45\n",
        "\n",
        "c1 = C45(\"../data/iris/iris.data\", \"../data/iris/iris.names\")\n",
        "c1.fetchData()\n",
        "c1.preprocessData()\n",
        "c1.generateTree()\n",
        "c1.printTree()"
      ],
      "metadata": {
        "id": "uZuZhYcTknMN"
      },
      "execution_count": null,
      "outputs": []
    }
  ]
}