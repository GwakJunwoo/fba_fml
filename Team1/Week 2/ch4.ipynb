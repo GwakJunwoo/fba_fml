{
 "cells": [
  {
   "cell_type": "code",
   "execution_count": 3,
   "metadata": {},
   "outputs": [],
   "source": [
    "from sklearn.linear_model import LinearRegression\n",
    "import matplotlib.pyplot as plt\n",
    "import numpy as np\n",
    "from sklearn.preprocessing import StandardScaler, PolynomialFeatures"
   ]
  },
  {
   "cell_type": "markdown",
   "metadata": {},
   "source": [
    "### 4.1. 선형회귀"
   ]
  },
  {
   "cell_type": "markdown",
   "metadata": {},
   "source": [
    "#### 4.1.1. 정규방정식"
   ]
  },
  {
   "cell_type": "markdown",
   "metadata": {},
   "source": [
    "$\\operatorname{MSE}\\left(\\mathbf{X}, h_{\\theta}\\right)=\\frac{1}{m} \\sum_{i=1}^{m}\\left(\\boldsymbol{\\theta}^{\\top} \\mathbf{x}^{(i)}-y^{(i)}\\right)^{2}$\n",
    "\n",
    "parameter와 independent varaiable x간의 선형결합과 label y간의 차이(error)를 mean-squared한 값이 MSE다. "
   ]
  },
  {
   "cell_type": "markdown",
   "metadata": {},
   "source": [
    "$\\widehat{\\boldsymbol{\\theta}}=\\left(\\mathbf{X}^{\\top} \\mathbf{X}\\right)^{-1} \\quad \\mathbf{X}^{\\top} \\quad \\mathbf{y}$"
   ]
  },
  {
   "cell_type": "code",
   "execution_count": 6,
   "metadata": {},
   "outputs": [
    {
     "name": "stdout",
     "output_type": "stream",
     "text": [
      "[[3.95044236 3.04930117]] is estimated parameter\n"
     ]
    }
   ],
   "source": [
    "X = np.random.rand(100,1)\n",
    "X_new = np.random.rand(1,1)\n",
    "y = 4 + 3* X + np.random.randn(100,1)\n",
    "\n",
    "X_b = np.c_[np.ones((100,1)), X]\n",
    "theta_best = np.linalg.inv(X_b.T.dot(X_b)).dot(X_b.T).dot(y)\n",
    "print(f'{theta_best.T} is estimated parameter')"
   ]
  },
  {
   "cell_type": "code",
   "execution_count": 7,
   "metadata": {},
   "outputs": [
    {
     "name": "stdout",
     "output_type": "stream",
     "text": [
      "[3.95044236], [3.04930117] is estimated parameter\n"
     ]
    },
    {
     "data": {
      "image/png": "[encoded data removed]",
      "text/plain": [
       "<Figure size 720x360 with 1 Axes>"
      ]
     },
     "metadata": {
      "needs_background": "light"
     },
     "output_type": "display_data"
    }
   ],
   "source": [
    "lin_reg = LinearRegression()\n",
    "lin_reg.fit(X,y)\n",
    "\n",
    "plt.figure(figsize=(10,5))\n",
    "plt.scatter(X, y)\n",
    "plt.scatter(X_new, lin_reg.predict(X_new), c='red')\n",
    "plt.plot(X, lin_reg.intercept_ + lin_reg.coef_ * X, c='green')\n",
    "print(f'{lin_reg.intercept_}, {lin_reg.coef_[0]} is estimated parameter')"
   ]
  },
  {
   "cell_type": "code",
   "execution_count": 5,
   "metadata": {},
   "outputs": [
    {
     "data": {
      "text/plain": [
       "array([[3.92268324],\n",
       "       [3.04001465]])"
      ]
     },
     "execution_count": 5,
     "metadata": {},
     "output_type": "execute_result"
    }
   ],
   "source": [
    "X_b = np.c_[np.ones((100,1)), X]\n",
    "theta_best_svd, residuals, rank, s = np.linalg.lstsq(X_b, y, rcond=1e-6)\n",
    "theta_best_svd"
   ]
  },
  {
   "cell_type": "markdown",
   "metadata": {},
   "source": [
    "m < n 이거나 특정 feature가 중복되어 행렬 ${X}^{T}{X}$의 역행렬이 없다면 정규방정식을 통해 theta를 구할수가 없다. \n",
    "\n",
    "따라서 $\\hat{\\boldsymbol{\\theta}}=\\mathbf{X}^{+} \\mathbf{y}$을 활용하면 유사역행렬(pseudoinverse mtx, ${X}^{+}$)을 통해 theta를 항상 구할 수 있게된다. 이는 SVD를 통해 계산된다.\n",
    "\n",
    "\n",
    "정규방정식은 ${X}^{T}{X}$의 역행렬을 계산하기 때문에 Big-O가 ${O(n^{2.4})}$나 ${O(n^{3})}$ 사이다. 즉 feature수 n이 두배 늘어나면 계산량 또한 5.3~8배 증가한다. \n",
    "\n",
    "그에 반해 LinearRegression Method의 SVD는 ${O(n^{2})}$이기 때문에 정규방정식 대비 빠른 연산속도를 보인다. "
   ]
  },
  {
   "cell_type": "markdown",
   "metadata": {},
   "source": [
    "### 4.2. 경사하강법"
   ]
  },
  {
   "cell_type": "markdown",
   "metadata": {},
   "source": [
    "#### 4.2.1. Batch Gradient Descent"
   ]
  },
  {
   "cell_type": "markdown",
   "metadata": {},
   "source": [
    "![](2022-08-17-14-41-08.png)\n",
    "\n",
    "feature의 scale이 다르면 최적화 알고리즘의 학습이 느려지기 때문에 StandardScaler를 활용하여 GD 학습속도를 향상시킬 수 있다."
   ]
  },
  {
   "cell_type": "markdown",
   "metadata": {},
   "source": [
    "$\\frac{\\partial}{\\partial \\theta_{j}} \\operatorname{MSE}(\\boldsymbol{\\theta})=\\frac{2}{m} \\sum_{i=1}^{m}\\left(\\boldsymbol{\\theta}^{\\top} \\mathbf{x}^{(i)}-y^{(i)}\\right) x_{j}^{(i)}$\n",
    "\n",
    "\n",
    "$\\nabla_{\\boldsymbol{\\theta}} \\operatorname{MSE}(\\boldsymbol{\\theta})=\\left(\\begin{array}{c}\\frac{\\partial}{\\partial \\theta_{0}} \\operatorname{MSE}(\\boldsymbol{\\theta}) \\\\ \\frac{\\partial}{\\partial \\theta_{1}} \\operatorname{MSE}(\\boldsymbol{\\theta}) \\\\ \\vdots \\\\ \\frac{\\partial}{\\partial \\theta_{n}} \\operatorname{MSE}(\\boldsymbol{\\theta})\\end{array}\\right)=\\frac{2}{m} \\mathbf{X}^{\\top}(\\mathbf{X} \\boldsymbol{\\theta}-\\mathbf{y})$\n",
    "\n",
    "$\\boldsymbol{\\theta}^{(\\text {next step })}=\\boldsymbol{\\theta}-\\eta \\nabla_{\\boldsymbol{\\theta}} \\operatorname{MSE}(\\boldsymbol{\\theta})$\n",
    "\n",
    "\n",
    "theta에 대한 MSE의 편도함수를 계산하여 cost function의 Gradient Vector를 산출한다. GD Algorithm의 매 step마다 전체 훈련세트 X에 대해 계산하기 때문에 Batch Gradient Descent라고 부른다. \n",
    "\n",
    "그러나 특성수에 대해 민감하지 않기 때문에 Noraml Equation, SVD decomposition보다 속도가 빠르다."
   ]
  },
  {
   "cell_type": "code",
   "execution_count": 7,
   "metadata": {},
   "outputs": [
    {
     "name": "stdout",
     "output_type": "stream",
     "text": [
      "[[3.92268588]\n",
      " [3.04001005]]\n"
     ]
    }
   ],
   "source": [
    "eta = 0.1\n",
    "n_iterations = 1000\n",
    "m = 100\n",
    "\n",
    "theta = np.random.randn(2,1)\n",
    "\n",
    "for iter in range(n_iterations):\n",
    "    grad = 2/m * X_b.T.dot(X_b.dot(theta)-y)\n",
    "    theta -= eta * grad\n",
    "\n",
    "print(theta)"
   ]
  },
  {
   "cell_type": "markdown",
   "metadata": {},
   "source": [
    "![](2022-08-17-15-06-27.png.png)"
   ]
  },
  {
   "cell_type": "markdown",
   "metadata": {},
   "source": [
    "적절한 eta를 찾기 위해선 GridSearch 사용이 권장되며, 반복횟수를 제한하여 hyperparam을 탐색하는데 소요되는 시간을 제한해야한다.\n",
    "\n",
    "반복횟수를 크게 지정하고 gradient vector값이 작아지면, 즉 벡터의 norm이 허용오차 epsilon보다 작아지면 경사 하강법이 최솟값에 도달한 것으로 간주하고 알고리즘을 중지한다.\n",
    "\n",
    "이 때 더 정확한 솔루션을 얻기 위해 epsilon값을 줄이게 된다면 그 역수만큼 반복이 늘어나게된다."
   ]
  },
  {
   "cell_type": "markdown",
   "metadata": {},
   "source": [
    "#### 4.2.2. Stochastic Gradient Descent"
   ]
  },
  {
   "cell_type": "markdown",
   "metadata": {},
   "source": [
    "![](2022-08-19-05-01-37.png)"
   ]
  },
  {
   "cell_type": "markdown",
   "metadata": {},
   "source": [
    "Batch Gradient Descent의 가장 큰 문제점은 매 스텝 전체 훈련세트를 최적화에 활용한다는 점이다. 이 때문에 매 스텝에서 하나의 샘플을 무작위로 선택하여 gradient 값을 계산하는 SGD가 선호된다.\n",
    "\n",
    "그러나 SGD는 확률적이기 때문에 convex problem이 아닌, local minimum이 산재되어있는 경우에는 global solution을 찾는데에 효과적이지만 알고리즘이 중단되었을 때의 parameter가 최적의 값은 아니다. \n",
    "\n",
    "이 딜레마를 해결하기 위해서 우리는 학습률을 점진적으로 감소시켜, 초반에는 수렴을 빠르게하여 local minimum에 빠지지 않도록하고 후반부에는 서서히 움직여 global minimum을 찾을 수 있도록 한다."
   ]
  },
  {
   "cell_type": "code",
   "execution_count": 8,
   "metadata": {},
   "outputs": [
    {
     "name": "stdout",
     "output_type": "stream",
     "text": [
      "[[3.97620986 2.92040177]] is estimated parameter @ epoch 49\n"
     ]
    }
   ],
   "source": [
    "n_epochs = 50\n",
    "t0, t1 = 5, 50 # learning schedule hyperparameters\n",
    "def learning_schedule(t):\n",
    "    return t0 / (t + t1)\n",
    "theta = np.random.randn(2,1) # random initialization\n",
    "for epoch in range(n_epochs):\n",
    "    for i in range(m):\n",
    "        random_index = np.random.randint(m)\n",
    "        xi = X_b[random_index:random_index+1]\n",
    "        yi = y[random_index:random_index+1]\n",
    "        gradients = 2 * xi.T.dot(xi.dot(theta) - yi)\n",
    "        eta = learning_schedule(epoch * m + i)\n",
    "        theta = theta - eta * gradients\n",
    "print(f'{theta.T} is estimated parameter @ epoch {epoch}')"
   ]
  },
  {
   "cell_type": "markdown",
   "metadata": {},
   "source": [
    "![](2022-08-19-05-16-59.png)"
   ]
  },
  {
   "cell_type": "code",
   "execution_count": 9,
   "metadata": {},
   "outputs": [
    {
     "name": "stdout",
     "output_type": "stream",
     "text": [
      "[3.9189276] [2.83161543]\n"
     ]
    }
   ],
   "source": [
    "from sklearn.linear_model import SGDRegressor\n",
    "\n",
    "sgd_reg = SGDRegressor(max_iter = 1000, tol = 1e-3, penalty = None, eta0 = 0.1)\n",
    "sgd_reg.fit(X, y.ravel())\n",
    "print(sgd_reg.intercept_, sgd_reg.coef_)"
   ]
  },
  {
   "cell_type": "markdown",
   "metadata": {},
   "source": [
    "최적화 단계에서 활용되는 샘플은 무작위로 선택되기 때문에 모든 데이터에 대해 골고루 훈련이 진행되기 위해선 IID를 만들어줄 필요가 있다. \n",
    "\n",
    "SGDRegressor는 Sample shuffling을 자동으로 수행해주기 때문에 괜찮다."
   ]
  },
  {
   "cell_type": "markdown",
   "metadata": {},
   "source": [
    "#### 4.2.3. minibatch Gradient Descent"
   ]
  },
  {
   "cell_type": "markdown",
   "metadata": {},
   "source": [
    "![](2022-08-19-05-18-27.png)"
   ]
  },
  {
   "cell_type": "markdown",
   "metadata": {},
   "source": [
    "full training set을 기반으로 연산하는 BGD, 하나의 instance로 학습하는 SGD와 달리 mini-batch GD는 소분된 training set을 vector연산하여 위 두 method의 단점을 보완할 수 있다."
   ]
  },
  {
   "cell_type": "markdown",
   "metadata": {},
   "source": [
    "$$\n",
    "\\begin{array}{lllllll}\n",
    "\\text { Algorithm } & \\text { Large } m & \\text { Out-of-core support } & \\text { Large } n & \\text { Hyperparams } & \\text { Scaling required } & \\text { Scikit-Learn } \\\\\n",
    "\\hline \\text { Normal Equation } & \\text { Fast } & \\text { No } & \\text { Slow } & 0 & \\text { No } & \\text { N/A } \\\\\n",
    "\\text { SVD } & \\text { Fast } & \\text { No } & \\text { Slow } & 0 & \\text { No } & \\text { LinearRegression } \\\\\n",
    "\\text { Batch GD } & \\text { Slow } & \\text { No } & \\text { Fast } & 2 & \\text { Yes } & \\text { SGDRegressor } \\\\\n",
    "\\text { Stochastic GD } & \\text { Fast } & \\text { Yes } & \\text { Fast } & \\geq 2 & \\text { Yes } & \\text { SGDRegressor } \\\\\n",
    "\\text { Mini-batch GD } & \\text { Fast } & \\text { Yes } & \\text { Fast } & \\geq 2 & \\text { Yes } & \\text { SGDRegressor }\n",
    "\\end{array}\n",
    "$$"
   ]
  },
  {
   "cell_type": "markdown",
   "metadata": {},
   "source": [
    "### 4.3. 다항 회귀 "
   ]
  },
  {
   "cell_type": "markdown",
   "metadata": {},
   "source": [
    "sklearn의 PolynomialFeatures method는 독립변수 X를 n차항으로 확장시켜준다. 다변수회귀를 위해 이를 또다시 이를 LinearRegression 돌려줘야하긴 한다."
   ]
  },
  {
   "cell_type": "code",
   "execution_count": 10,
   "metadata": {},
   "outputs": [
    {
     "name": "stdout",
     "output_type": "stream",
     "text": [
      "[-1.00345135] [-1.00345135  1.00691461]\n"
     ]
    },
    {
     "data": {
      "text/plain": [
       "[<matplotlib.lines.Line2D at 0x1ff6b8db6a0>]"
      ]
     },
     "execution_count": 10,
     "metadata": {},
     "output_type": "execute_result"
    },
    {
     "data": {
      "image/png": "[encoded data removed]",
      "text/plain": [
       "<Figure size 720x432 with 1 Axes>"
      ]
     },
     "metadata": {
      "needs_background": "light"
     },
     "output_type": "display_data"
    }
   ],
   "source": [
    "X = 6 * np.random.rand(100, 1) -3\n",
    "y = 0.5 * X ** 2 + X + 2 + np.random.randn(100,1)\n",
    "\n",
    "poly_ft = PolynomialFeatures(degree=2, include_bias=False)\n",
    "X_poly = poly_ft.fit_transform(X)\n",
    "print(X[0], X_poly[0])\n",
    "\n",
    "plt.figure(figsize=(10,6))\n",
    "plt.scatter(X, y)\n",
    "poly_reg = LinearRegression(); poly_reg.fit(X_poly, y)\n",
    "y_pred = poly_reg.predict(poly_ft.fit_transform(np.linspace(-3,3,100).reshape(-1,1)))\n",
    "plt.plot(np.linspace(-3,3,100), y_pred, 'r-')"
   ]
  },
  {
   "cell_type": "markdown",
   "metadata": {},
   "source": [
    "### 4.4. 학습곡선"
   ]
  },
  {
   "cell_type": "code",
   "execution_count": 11,
   "metadata": {},
   "outputs": [
    {
     "data": {
      "image/png": "[encoded data removed]",
      "text/plain": [
       "<Figure size 720x432 with 1 Axes>"
      ]
     },
     "metadata": {
      "needs_background": "light"
     },
     "output_type": "display_data"
    }
   ],
   "source": [
    "from sklearn.metrics import mean_squared_error\n",
    "from sklearn.model_selection import train_test_split\n",
    "from sklearn.pipeline import Pipeline\n",
    "\n",
    "def plot_learning_curves(model, X, y):\n",
    "    X_train, X_val, y_train, y_val = train_test_split(X, y, test_size=0.2)\n",
    "    train_errors, val_errors = [], []\n",
    "    for m in range(1, len(X_train)):\n",
    "        model.fit(X_train[:m], y_train[:m])\n",
    "        y_train_predict = model.predict(X_train[:m])\n",
    "        y_val_predict = model.predict(X_val)\n",
    "        train_errors.append(mean_squared_error(y_train[:m], y_train_predict))\n",
    "        val_errors.append(mean_squared_error(y_val, y_val_predict))\n",
    "    plt.figure(figsize=(10,6)); plt.ylim(0.0, 3.0)\n",
    "    plt.plot(np.sqrt(train_errors), \"r-+\", linewidth=2, label=\"train\")\n",
    "    plt.plot(np.sqrt(val_errors), \"b-\", linewidth=3, label=\"val\")\n",
    "\n",
    "\n",
    "lin_reg = LinearRegression()\n",
    "plot_learning_curves(lin_reg, X, y)"
   ]
  },
  {
   "cell_type": "code",
   "execution_count": 12,
   "metadata": {},
   "outputs": [
    {
     "data": {
      "image/png": "[encoded data removed]",
      "text/plain": [
       "<Figure size 720x432 with 1 Axes>"
      ]
     },
     "metadata": {
      "needs_background": "light"
     },
     "output_type": "display_data"
    }
   ],
   "source": [
    "Polynomial_reg = Pipeline([\n",
    "    (\"poly_features\", PolynomialFeatures(degree=10, include_bias = False)),\n",
    "    (\"lin_reg\", LinearRegression())\n",
    "])\n",
    "\n",
    "plot_learning_curves(Polynomial_reg, X, y)"
   ]
  },
  {
   "cell_type": "markdown",
   "metadata": {},
   "source": [
    "* underfitting : RMSE가 높으며 두 곡선이 수평을 달린다. \n",
    "\n",
    "* overfitting : RMSE가 낮으나 훈련데이터와 검증데이터간의 RMSE 격차가 유의미하다. 과적합되었기에 초반부 훈련세트에 대한 RMSE가 낮은 수준을 유지할 수 있다. "
   ]
  },
  {
   "cell_type": "markdown",
   "metadata": {},
   "source": [
    "### 4.5. Regularization"
   ]
  },
  {
   "cell_type": "markdown",
   "metadata": {},
   "source": [
    "#### 4.5.1. Ridge Regression"
   ]
  },
  {
   "cell_type": "markdown",
   "metadata": {},
   "source": [
    "$J(\\boldsymbol{\\theta})=\\operatorname{MSE}(\\boldsymbol{\\theta})+\\alpha \\frac{1}{2} \\sum_{i=1}^{n} \\theta_{i}^{2}$"
   ]
  },
  {
   "cell_type": "markdown",
   "metadata": {},
   "source": [
    "![](2022-08-19-04-26-06.png)"
   ]
  },
  {
   "cell_type": "markdown",
   "metadata": {},
   "source": [
    "$\\hat{\\theta}=\\left(\\mathbf{X}^{\\top} \\mathbf{X}+\\alpha \\mathbf{A}\\right)^{-1} \\mathbf{X}^{\\top} \\quad \\mathbf{y}$\n",
    "\n",
    "일반 linear Regression과 같이 Ridge Regression을 통한 theta 구하기도 closed form과 GD로 나뉜다. 장단점은 이전과 같다."
   ]
  },
  {
   "cell_type": "code",
   "execution_count": 13,
   "metadata": {},
   "outputs": [
    {
     "name": "stdout",
     "output_type": "stream",
     "text": [
      "[5.03743114] [5.01025722]\n"
     ]
    }
   ],
   "source": [
    "from sklearn.linear_model import Ridge\n",
    "ridge_reg = Ridge(alpha=1, solver=\"cholesky\")\n",
    "ridge_reg.fit(X, y)\n",
    "ridge_pred = ridge_reg.predict([[1.5]])\n",
    "\n",
    "sgd_reg = SGDRegressor(penalty=\"l2\") # L2 norm을 적용하겠다는 뜻이니 Ridge Regression 호출\n",
    "sgd_reg.fit(X, y.ravel())\n",
    "sgd_pred = sgd_reg.predict([[1.5]])\n",
    "\n",
    "print(ridge_pred[0], sgd_pred)"
   ]
  },
  {
   "cell_type": "markdown",
   "metadata": {},
   "source": [
    "#### 4.5.2. Lasso Regression"
   ]
  },
  {
   "cell_type": "markdown",
   "metadata": {},
   "source": [
    "$J(\\boldsymbol{\\theta})=\\operatorname{MSE}(\\boldsymbol{\\theta})+\\alpha \\Sigma_{i=1}^{n}\\left|\\theta_{i}\\right|$"
   ]
  },
  {
   "cell_type": "code",
   "execution_count": 14,
   "metadata": {},
   "outputs": [
    {
     "data": {
      "text/plain": [
       "array([4.99431493])"
      ]
     },
     "execution_count": 14,
     "metadata": {},
     "output_type": "execute_result"
    }
   ],
   "source": [
    "from sklearn.linear_model import Lasso\n",
    "lasso_reg = Lasso(alpha=0.1)\n",
    "lasso_reg.fit(X, y)\n",
    "lasso_reg.predict([[1.5]])"
   ]
  },
  {
   "cell_type": "markdown",
   "metadata": {},
   "source": [
    "![](2022-08-20-01-45-02.png)\n",
    "\n",
    "Ridge와 대비되는 Lasso의 특징은, 가장 덜 중요한 feature의 weight값을 0 근사값으로 설정한다는 점이다.\n",
    "\n",
    "가령 위 그림의 오른쪽을 살피면 alpha=1e-07일 때 10차 다항식이 거의 3차식으로 변한 것을 확인할 수 있다. 고차항에 대한 weight가 거의 다 0으로 설정되었기 때문이다. 즉, Lasso를 통해 feature selection이 자동으로 진행된 셈이다.\n",
    "\n",
    "아래 그림을 살피면 좌측상단의 L1 penalty는 (2, .5)로 init param이 주어졌을 때, 최적화 초기단계에서는 param weight가 동일하게 줄어들지만 이후에는 (1.5, 0)에서 (0,0)으로 향하는 것을 확인할 수 있다. Lasso를 살피면 이러한 경향이 두드러지는데, (.25, -1)에서 initial point가 형성되었을 때, 두번째 weight값이 0으로 향한 다음에서야 global minimum을 찾아가고 있다. 만약 이 때 alpha값을 더 높였다면 global minimum이 원점에 더 가깝게 형성되었을테다. \n",
    "\n",
    "그와 달리 Ridge는 특정 feature를 eliminate하진 않는다. "
   ]
  },
  {
   "cell_type": "markdown",
   "metadata": {},
   "source": [
    "![](2022-08-20-01-12-42.png)"
   ]
  },
  {
   "cell_type": "markdown",
   "metadata": {},
   "source": [
    "$$\n",
    "g(\\boldsymbol{\\theta}, J)=\\nabla_{\\theta} \\operatorname{MSE}(\\boldsymbol{\\theta})+\\alpha\\left(\\begin{array}{c}\n",
    "\\operatorname{sign}\\left(\\theta_{1}\\right) \\\\\n",
    "\\operatorname{sign}\\left(\\theta_{2}\\right) \\\\\n",
    "\\vdots \\\\\n",
    "\\operatorname{sign}\\left(\\theta_{n}\\right)\n",
    "\\end{array}\\right) \\quad \\text { where } \\operatorname{sign}\\left(\\theta_{i}\\right)=\\left\\{\\begin{array}{cc}\n",
    "-1 & \\text { if } \\theta_{i}<0 \\\\\n",
    "0 & \\text { if } \\theta_{i}=0 \\\\\n",
    "+1 & \\text { if } \\theta_{i}>0\n",
    "\\end{array}\\right.\n",
    "$$"
   ]
  },
  {
   "cell_type": "markdown",
   "metadata": {},
   "source": [
    "Lasso의 cost function은 param = 0일 때 미분불가하다. 따라서 이를 보완하기 위한 방법으로 subgradient가 사용된다.\n",
    "\n"
   ]
  },
  {
   "cell_type": "markdown",
   "metadata": {},
   "source": [
    "#### 4.5.3. Elastic Net"
   ]
  },
  {
   "cell_type": "markdown",
   "metadata": {},
   "source": [
    "$J(\\boldsymbol{\\theta})=\\operatorname{MSE}(\\boldsymbol{\\theta})+r \\alpha \\sum_{i=1}^{n}\\left|\\theta_{i}\\right|+\\frac{1-r}{2} \\alpha \\sum_{i=1}^{n} \\theta_{i}^{2}$\n",
    "\n",
    "\n",
    "Elastic Net은 Ridge와 Lasso의 중간지점이다. L1, L2 penalty에 가중치 r을 부여하여 regularization의 성격을 조절할 수 있다. feature의 갯수가 instance의 갯수보다 많을 때, 혹은 특정 multicollinearity가 강하게 작용할 떄 Lasso를 적용하기란 무리가 뒤따를 수 있다. 이 떄문에 Lasso의 과격함을 완화하기 위한 방법으로 Elastic Net 사용이 요구된다. "
   ]
  },
  {
   "cell_type": "code",
   "execution_count": 17,
   "metadata": {},
   "outputs": [
    {
     "data": {
      "text/plain": [
       "array([-12.89719697])"
      ]
     },
     "execution_count": 17,
     "metadata": {},
     "output_type": "execute_result"
    }
   ],
   "source": [
    "from sklearn.linear_model import ElasticNet\n",
    "elastic_net = ElasticNet(alpha=0.1, l1_ratio=0.5)\n",
    "elastic_net.fit(X, y)\n",
    "elastic_net.predict([[1.5]])"
   ]
  },
  {
   "cell_type": "markdown",
   "metadata": {},
   "source": [
    "#### 4.5.4. Early Stopping"
   ]
  },
  {
   "cell_type": "markdown",
   "metadata": {},
   "source": [
    "만일 검증세트의 오차값이 minimum을 형성하고 넘어서기 시작하면 정규화를 멈춘다. \n",
    "\n",
    "아래 그림에서 볼 수 있듯이 epoch가 늘어날수록 훈련세트에 대한 오차값은 작아진다. 그러나 훈련을 거듭할수록 모형은 훈련세트에 과적합되기 시작하고, 이는 out of sample에 대한 오차값 상승으로 이어지기 때문에 좋지 못하다. 따라서 검증세트의 오차값이 minimum을 형성하는 순간 모형의 훈련을 종료한다. "
   ]
  },
  {
   "cell_type": "markdown",
   "metadata": {},
   "source": [
    "![](2022-08-19-04-31-12.png)"
   ]
  },
  {
   "cell_type": "code",
   "execution_count": 18,
   "metadata": {},
   "outputs": [],
   "source": [
    "from sklearn.base import clone\n",
    "from sklearn.model_selection import train_test_split\n",
    "\n",
    "# prepare the data\n",
    "X = 2*np.random.randn(100,1) - 3\n",
    "y = X**2 + 3*X + 2 + np.random.randn(100,1); y = y.ravel()\n",
    "X_train, X_val, y_train, y_val = train_test_split(X, y, test_size=0.8, random_state=42)\n",
    "\n",
    "poly_scaler = Pipeline([\n",
    "    (\"poly_features\", PolynomialFeatures(degree=90, include_bias=False)),\n",
    "    (\"std_scaler\", StandardScaler())\n",
    "])\n",
    "\n",
    "X_train_poly_scaled = poly_scaler.fit_transform(X_train)\n",
    "X_val_poly_scaled = poly_scaler.transform(X_val)\n",
    "sgd_reg = SGDRegressor(max_iter=1, tol=-np.infty, warm_start=True, penalty=None, learning_rate=\"constant\", eta0=0.0005)\n",
    "minimum_val_error = float(\"inf\")\n",
    "best_epoch = None\n",
    "best_model = None\n",
    "for epoch in range(1000):\n",
    "    sgd_reg.fit(X_train_poly_scaled, y_train) # continues where it left off\n",
    "    y_val_predict = sgd_reg.predict(X_val_poly_scaled)\n",
    "    val_error = mean_squared_error(y_val, y_val_predict)\n",
    "    if val_error < minimum_val_error:\n",
    "        minimum_val_error = val_error\n",
    "        best_epoch = epoch\n",
    "        best_model = clone(sgd_reg)"
   ]
  },
  {
   "cell_type": "markdown",
   "metadata": {},
   "source": [
    "### 4.6. Logistic Regression"
   ]
  },
  {
   "cell_type": "markdown",
   "metadata": {},
   "source": [
    "![](2022-08-21-01-38-12.png)"
   ]
  },
  {
   "cell_type": "code",
   "execution_count": 21,
   "metadata": {},
   "outputs": [
    {
     "data": {
      "text/plain": [
       "[<matplotlib.lines.Line2D at 0x1ff6ba4cd60>]"
      ]
     },
     "execution_count": 21,
     "metadata": {},
     "output_type": "execute_result"
    },
    {
     "data": {
      "image/png": "[encoded data removed]",
      "text/plain": [
       "<Figure size 432x288 with 1 Axes>"
      ]
     },
     "metadata": {
      "needs_background": "light"
     },
     "output_type": "display_data"
    }
   ],
   "source": [
    "from sklearn import datasets\n",
    "iris = datasets.load_iris()\n",
    "list(iris.keys())\n",
    "['data', 'target', 'target_names', 'DESCR', 'feature_names', 'filename']\n",
    "X = iris[\"data\"][:, 3:] # petal width\n",
    "y = (iris[\"target\"] == 2).astype(int)\n",
    "\n",
    "from sklearn.linear_model import LogisticRegression\n",
    "log_reg = LogisticRegression()\n",
    "log_reg.fit(X, y)\n",
    "\n",
    "X_new = np.linspace(0, 3, 1000).reshape(-1, 1)\n",
    "y_proba = log_reg.predict_proba(X_new)\n",
    "plt.plot(X_new, y_proba[:, 1], \"g-\", label=\"Iris virginica\")\n",
    "plt.plot(X_new, y_proba[:, 0], \"b--\", label=\"Not Iris virginica\")"
   ]
  },
  {
   "cell_type": "markdown",
   "metadata": {},
   "source": [
    "#### 4.6.1. SoftMax Regression"
   ]
  },
  {
   "cell_type": "markdown",
   "metadata": {},
   "source": [
    "$$\n",
    "\\hat{p}_{k}=\\sigma(\\mathbf{s}(\\mathbf{x}))_{k}=\\frac{\\exp \\left(s_{k}(\\mathbf{x})\\right)}{\\sum_{j=1}^{K} \\exp \\left(s_{j}(\\mathbf{x})\\right)}\n",
    "$$"
   ]
  },
  {
   "cell_type": "markdown",
   "metadata": {},
   "source": [
    "$$\n",
    "\\hat{y}=\\underset{k}{\\operatorname{argmax}} \\sigma(\\mathbf{s}(\\mathbf{x}))_{k}=\\underset{k}{\\operatorname{argmax}} s_{k}(\\mathbf{x})=\\underset{k}{\\operatorname{argmax}}\\left(\\left(\\boldsymbol{\\theta}^{(k)}\\right)^{\\top} \\mathbf{x}\\right)\n",
    "$$"
   ]
  },
  {
   "cell_type": "markdown",
   "metadata": {},
   "source": [
    "$$\n",
    "J(\\boldsymbol{\\Theta})=-\\frac{1}{m} \\sum_{i=1}^{m} \\sum_{k=1}^{K} y_{k}^{(i)} \\log \\left(\\hat{p}_{k}^{(i)}\\right)\n",
    "$$"
   ]
  },
  {
   "cell_type": "markdown",
   "metadata": {},
   "source": [
    "$$\n",
    "\\nabla_{\\boldsymbol{\\theta}}^{(k)} J(\\boldsymbol{\\Theta})=\\frac{1}{m} \\sum_{i=1}^{m}\\left(\\hat{p}_{k}^{(i)}-y_{k}^{(i)}\\right) \\mathbf{x}^{(i)}\n",
    "$$"
   ]
  },
  {
   "cell_type": "markdown",
   "metadata": {},
   "source": [
    "![](2022-08-21-01-37-17.png)"
   ]
  },
  {
   "cell_type": "code",
   "execution_count": 22,
   "metadata": {},
   "outputs": [
    {
     "data": {
      "text/plain": [
       "array([[6.38014896e-07, 5.74929995e-02, 9.42506362e-01]])"
      ]
     },
     "execution_count": 22,
     "metadata": {},
     "output_type": "execute_result"
    }
   ],
   "source": [
    "X = iris[\"data\"][:, (2, 3)] # petal length, petal width\n",
    "y = iris[\"target\"]\n",
    "softmax_reg = LogisticRegression(multi_class=\"multinomial\",solver=\"lbfgs\", C=10)\n",
    "softmax_reg.fit(X, y)\n",
    "\n",
    "softmax_reg.predict([[5,2]])\n",
    "softmax_reg.predict_proba([[5,2]])"
   ]
  },
  {
   "cell_type": "markdown",
   "metadata": {},
   "source": [
    "#### Problem1"
   ]
  },
  {
   "cell_type": "markdown",
   "metadata": {},
   "source": [
    "(b) Implement Batch Gradient Descent with early stopping for Softmax Regression"
   ]
  },
  {
   "cell_type": "code",
   "execution_count": 45,
   "metadata": {},
   "outputs": [],
   "source": [
    "from random import random\n",
    "\n",
    "\n",
    "X_b = np.c_[np.ones([len(X), 1]), X]\n",
    "\n",
    "X_train, X_test, y_train, y_test = train_test_split(X_b, y, test_size=0.2, random_state=42)\n",
    "X_train, X_val, y_train, y_val = train_test_split(X_train, y_train, test_size=0.2, random_state=42)"
   ]
  },
  {
   "cell_type": "code",
   "execution_count": 29,
   "metadata": {},
   "outputs": [
    {
     "data": {
      "text/plain": [
       "array([2, 1, 1, 0, 2, 2, 2, 0, 1, 2, 2, 1, 2, 1, 1, 0, 0, 1, 2, 0, 0, 2,\n",
       "       2, 1, 2, 1, 1, 0, 2, 0, 1, 2, 0, 2, 0, 0, 2, 0, 2, 1, 2, 0, 0, 0,\n",
       "       0, 2, 0, 0, 1, 2, 1, 0, 1, 2, 1, 2, 2, 2, 2, 1, 1, 0, 0, 0, 2, 0,\n",
       "       0, 0, 2, 1, 2, 1, 2, 1, 1, 0, 0, 2, 1, 0, 2, 1, 2, 1, 2, 1, 1, 2,\n",
       "       1, 1, 0, 2, 0, 1, 0, 0])"
      ]
     },
     "execution_count": 29,
     "metadata": {},
     "output_type": "execute_result"
    }
   ],
   "source": [
    "y_train"
   ]
  },
  {
   "cell_type": "code",
   "execution_count": 46,
   "metadata": {},
   "outputs": [],
   "source": [
    "def one_hot_encoding(y):\n",
    "    class_num = y.max() + 1; row = len(y)\n",
    "    res = np.zeros((row, class_num))\n",
    "    res[np.arange(row), y] = 1\n",
    "    return res\n",
    "\n",
    "y_train_enc = one_hot_encoding(y_train)\n",
    "y_val_enc = one_hot_encoding(y_val)\n",
    "y_test_enc = one_hot_encoding(y_test)\n",
    "\n",
    "def softmax_reg(x):\n",
    "    num = np.exp(x)\n",
    "    den = np.sum(num, axis=1, keepdims=True)\n",
    "    return num / den"
   ]
  },
  {
   "cell_type": "code",
   "execution_count": 48,
   "metadata": {},
   "outputs": [],
   "source": [
    "n_iterations = 1000\n",
    "eta = 0.01\n",
    "eps = 1e-7\n",
    "\n",
    "theta = np.random.randn(3, 3)\n",
    "\n",
    "for i in range(n_iterations):\n",
    "    x = X_train.dot(theta)\n",
    "    prob = softmax_reg(x)\n",
    "    err = prob - y_train_enc\n",
    "    grad = 1/len(X_train) * X_train.T.dot(err)\n",
    "    theta -= grad * eta"
   ]
  },
  {
   "cell_type": "code",
   "execution_count": 49,
   "metadata": {},
   "outputs": [
    {
     "data": {
      "text/plain": [
       "array([[ 0.59878519, -0.11614019, -1.69189633],\n",
       "       [-0.98861436, -0.07517049,  0.24706473],\n",
       "       [ 0.80358142, -0.69091499, -0.40170642]])"
      ]
     },
     "execution_count": 49,
     "metadata": {},
     "output_type": "execute_result"
    }
   ],
   "source": [
    "theta"
   ]
  },
  {
   "cell_type": "markdown",
   "metadata": {},
   "source": [
    "(c) Why \n",
    "\n",
    "* Ridge over non-regularized Regression?\n",
    "\n",
    "모형의 차수가 높아질수록 trainset에 대한 모형의 과적합이 심해진다. 이 때문에 weight값의 크기를 조정하여 testset에 대한 모형의 설명력을 높이기 위해 Ridge를 사용한다.\n",
    "\n",
    "* Lasso over Ridge?\n",
    "\n",
    "다만 L2 Norm을 사용하는 Ridge와 달리 L1 Norm을 사용하는 Lasso는 feature selection의 기능까지 수행한다. dataset에 대한 설명력이 떨어지는 feature(고차항)에 대해선 그 weight값을 0으로 줄여주기 때문에 효과적이다.\n",
    "\n",
    "* Elastic Net over Lasso?\n",
    "\n",
    "Elastic Net은 Lasso와 Ridge를 결합한 형태로, instance수 대비 feature수가 더 많을 때나 multicollinearity가 강하게 작용할 때 Lasso를 적용하기란 다소 무리가 따르기 때문에 사용한다."
   ]
  }
 ],
 "metadata": {
  "kernelspec": {
   "display_name": "Python 3 (ipykernel)",
   "language": "python",
   "name": "python3"
  },
  "language_info": {
   "codemirror_mode": {
    "name": "ipython",
    "version": 3
   },
   "file_extension": ".py",
   "mimetype": "text/x-python",
   "name": "python",
   "nbconvert_exporter": "python",
   "pygments_lexer": "ipython3",
   "version": "3.9.7"
  },
  "vscode": {
   "interpreter": {
    "hash": "453c6a251d01d2b145c14d54216914f00870abc3639d0c85e21c1e8fecbc91a8"
   }
  }
 },
 "nbformat": 4,
 "nbformat_minor": 2
}
