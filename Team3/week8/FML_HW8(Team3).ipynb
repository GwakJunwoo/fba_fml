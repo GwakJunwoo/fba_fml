{
  "nbformat": 4,
  "nbformat_minor": 0,
  "metadata": {
    "colab": {
      "provenance": [],
      "collapsed_sections": [
        "8SYE9rdWYUad",
        "D6-CBWMAZ9ZQ",
        "LREQyBF9apL5",
        "ioyxEDPHaqWA",
        "xDk5o9ujayiX",
        "RlihaJzpbHZX",
        "V46JhN_WcMdV",
        "5oBYPDNnfGrc",
        "Vj1pwkDxcqgJ",
        "LMfUAmCTdEwO",
        "Uh2vDHC5dW6V",
        "iYsk_7_1eHQD",
        "aoCDmkDgen1Q",
        "pxQOeMdghuhp",
        "1aj-sXWMjaBK",
        "kSpiTf3Km0Q7",
        "wgOVEYP9nAgB"
      ]
    },
    "kernelspec": {
      "name": "python3",
      "display_name": "Python 3"
    },
    "language_info": {
      "name": "python"
    },
    "accelerator": "GPU",
    "gpuClass": "standard"
  },
  "cells": [
    {
      "cell_type": "markdown",
      "source": [
        "## 1"
      ],
      "metadata": {
        "id": "8SYE9rdWYUad"
      }
    },
    {
      "cell_type": "markdown",
      "source": [
        "### (a)"
      ],
      "metadata": {
        "id": "D6-CBWMAZ9ZQ"
      }
    },
    {
      "cell_type": "markdown",
      "source": [
        "#### Setting"
      ],
      "metadata": {
        "id": "LREQyBF9apL5"
      }
    },
    {
      "cell_type": "code",
      "source": [
        "import tensorflow as tf\n",
        "import keras\n",
        "\n",
        "import numpy as np\n",
        "import pandas as pd\n",
        "\n",
        "%matplotlib inline\n",
        "import matplotlib.pyplot as plt\n",
        "import matplotlib as mpl\n",
        "mpl.rc('axes', labelsize=14)\n",
        "mpl.rc('xtick', labelsize=12)\n",
        "mpl.rc('ytick', labelsize=12)"
      ],
      "metadata": {
        "id": "rhvlAr1XZ_p4"
      },
      "execution_count": 1,
      "outputs": []
    },
    {
      "cell_type": "markdown",
      "source": [
        "#### Vanishing/Exploding Gradients Problem"
      ],
      "metadata": {
        "id": "ioyxEDPHaqWA"
      }
    },
    {
      "cell_type": "code",
      "source": [
        "def logit(z):\n",
        "    return 1 / (1 + np.exp(-z))"
      ],
      "metadata": {
        "id": "AgrUPzaSampm"
      },
      "execution_count": 2,
      "outputs": []
    },
    {
      "cell_type": "code",
      "source": [
        "z = np.linspace(-5, 5, 200)\n",
        "\n",
        "plt.plot([-5, 5], [0, 0], 'k-')\n",
        "plt.plot([-5, 5], [1, 1], 'k--')\n",
        "plt.plot([0, 0], [-0.2, 1.2], 'k-')\n",
        "plt.plot([-5, 5], [-3/4, 7/4], 'g--')\n",
        "plt.plot(z, logit(z), \"b-\", linewidth=2)\n",
        "props = dict(facecolor='black', shrink=0.1)\n",
        "plt.annotate('Saturating', xytext=(3.5, 0.7), xy=(5, 1), arrowprops=props, fontsize=14, ha=\"center\")\n",
        "plt.annotate('Saturating', xytext=(-3.5, 0.3), xy=(-5, 0), arrowprops=props, fontsize=14, ha=\"center\")\n",
        "plt.annotate('Linear', xytext=(2, 0.2), xy=(0, 0.5), arrowprops=props, fontsize=14, ha=\"center\")\n",
        "plt.grid(True)\n",
        "plt.title(\"Sigmoid activation function\", fontsize=14)\n",
        "plt.axis([-5, 5, -0.2, 1.2])\n",
        "plt.show()"
      ],
      "metadata": {
        "colab": {
          "base_uri": "https://localhost:8080/",
          "height": 0
        },
        "id": "NwVam860au53",
        "outputId": "311c243c-38c9-4413-9bdd-db41a9b50bbf"
      },
      "execution_count": 3,
      "outputs": [
        {
          "output_type": "display_data",
          "data": {
            "text/plain": [
              "<Figure size 432x288 with 1 Axes>"
            ],
            "image/png": "[encoded data removed]"
          },
          "metadata": {
            "needs_background": "light"
          }
        }
      ]
    },
    {
      "cell_type": "markdown",
      "source": [
        "#### Xavier and He Initialization"
      ],
      "metadata": {
        "id": "xDk5o9ujayiX"
      }
    },
    {
      "cell_type": "code",
      "source": [
        "keras.layers.Dense(10, activation='relu', kernel_initializer='he_normal')"
      ],
      "metadata": {
        "colab": {
          "base_uri": "https://localhost:8080/"
        },
        "id": "KhBQqBhNa8rR",
        "outputId": "203f1d0a-10ce-4731-ce21-f80dd7337a7a"
      },
      "execution_count": 4,
      "outputs": [
        {
          "output_type": "execute_result",
          "data": {
            "text/plain": [
              "<keras.layers.core.dense.Dense at 0x7f0d9fd56f10>"
            ]
          },
          "metadata": {},
          "execution_count": 4
        }
      ]
    },
    {
      "cell_type": "code",
      "source": [
        "init = keras.initializers.VarianceScaling(scale=2., mode='fan_avg',\n",
        "                                          distribution='uniform')\n",
        "keras.layers.Dense(10, activation=\"relu\", kernel_initializer=init)"
      ],
      "metadata": {
        "colab": {
          "base_uri": "https://localhost:8080/"
        },
        "id": "IZ5HBvW8bEhJ",
        "outputId": "fcefe0a2-acce-4784-e614-2181f0161c6b"
      },
      "execution_count": 5,
      "outputs": [
        {
          "output_type": "execute_result",
          "data": {
            "text/plain": [
              "<keras.layers.core.dense.Dense at 0x7f0da0220fd0>"
            ]
          },
          "metadata": {},
          "execution_count": 5
        }
      ]
    },
    {
      "cell_type": "markdown",
      "source": [
        "#### Nonsaturating Activation Functions"
      ],
      "metadata": {
        "id": "RlihaJzpbHZX"
      }
    },
    {
      "cell_type": "markdown",
      "source": [
        "Leaky Relu"
      ],
      "metadata": {
        "id": "zoxzuMV3bNyn"
      }
    },
    {
      "cell_type": "code",
      "source": [
        "def leaky_relu(z, alpha=0.01):\n",
        "    return np.maximum(alpha*z, z)"
      ],
      "metadata": {
        "id": "9Jt8C0C7a9tI"
      },
      "execution_count": 6,
      "outputs": []
    },
    {
      "cell_type": "code",
      "source": [
        "plt.plot(z, leaky_relu(z, 0.05), \"b-\", linewidth=2)\n",
        "plt.plot([-5, 5], [0, 0], 'k-')\n",
        "plt.plot([0, 0], [-0.5, 4.2], 'k-')\n",
        "plt.grid(True)\n",
        "props = dict(facecolor='black', shrink=0.1)\n",
        "plt.annotate('Leak', xytext=(-3.5, 0.5), xy=(-5, -0.2), arrowprops=props, fontsize=14, ha=\"center\")\n",
        "plt.title(\"Leaky ReLU activation function\", fontsize=14)\n",
        "plt.axis([-5, 5, -0.5, 4.2])\n",
        "plt.show()"
      ],
      "metadata": {
        "colab": {
          "base_uri": "https://localhost:8080/",
          "height": 0
        },
        "id": "Rm7wkI57bPW0",
        "outputId": "300e6841-3a4d-43c4-f5db-864e8570eb33"
      },
      "execution_count": 7,
      "outputs": [
        {
          "output_type": "display_data",
          "data": {
            "text/plain": [
              "<Figure size 432x288 with 1 Axes>"
            ],
            "image/png": "[encoded data removed]"
          },
          "metadata": {
            "needs_background": "light"
          }
        }
      ]
    },
    {
      "cell_type": "code",
      "source": [
        "[m for m in dir(keras.activations) if not m.startswith(\"_\")]"
      ],
      "metadata": {
        "colab": {
          "base_uri": "https://localhost:8080/"
        },
        "id": "tsNMcnUjbQ2I",
        "outputId": "aed57c43-e5ed-4c61-de2c-81098be6d98b"
      },
      "execution_count": 8,
      "outputs": [
        {
          "output_type": "execute_result",
          "data": {
            "text/plain": [
              "['ELU',\n",
              " 'LeakyReLU',\n",
              " 'PReLU',\n",
              " 'ReLU',\n",
              " 'Softmax',\n",
              " 'ThresholdedReLU',\n",
              " 'activation_layers',\n",
              " 'backend',\n",
              " 'deserialize',\n",
              " 'deserialize_keras_object',\n",
              " 'elu',\n",
              " 'exponential',\n",
              " 'gelu',\n",
              " 'get',\n",
              " 'get_globals',\n",
              " 'hard_sigmoid',\n",
              " 'keras_export',\n",
              " 'leaky_relu',\n",
              " 'linear',\n",
              " 'log_softmax',\n",
              " 'prelu',\n",
              " 'relu',\n",
              " 'relu6',\n",
              " 'selu',\n",
              " 'serialize',\n",
              " 'serialize_keras_object',\n",
              " 'sigmoid',\n",
              " 'silu',\n",
              " 'softmax',\n",
              " 'softplus',\n",
              " 'softsign',\n",
              " 'swish',\n",
              " 'tanh',\n",
              " 'tf',\n",
              " 'thresholded_relu']"
            ]
          },
          "metadata": {},
          "execution_count": 8
        }
      ]
    },
    {
      "cell_type": "code",
      "source": [
        "[m for m in dir(keras.layers) if \"relu\" in m.lower()]"
      ],
      "metadata": {
        "colab": {
          "base_uri": "https://localhost:8080/"
        },
        "id": "p0ymuXMibVCR",
        "outputId": "290a9ec9-d998-4fcb-9c96-22a17e941e98"
      },
      "execution_count": 9,
      "outputs": [
        {
          "output_type": "execute_result",
          "data": {
            "text/plain": [
              "['LeakyReLU', 'PReLU', 'ReLU', 'ThresholdedReLU']"
            ]
          },
          "metadata": {},
          "execution_count": 9
        }
      ]
    },
    {
      "cell_type": "markdown",
      "source": [
        "mnist using Leaky Relu"
      ],
      "metadata": {
        "id": "tirs0JE8ba5e"
      }
    },
    {
      "cell_type": "code",
      "source": [
        "(X_train_full, y_train_full), (X_test, y_test) = keras.datasets.fashion_mnist.load_data()\n",
        "X_train_full = X_train_full / 255.0\n",
        "X_test = X_test / 255.0\n",
        "X_valid, X_train = X_train_full[:5000], X_train_full[5000:]\n",
        "y_valid, y_train = y_train_full[:5000], y_train_full[5000:]"
      ],
      "metadata": {
        "colab": {
          "base_uri": "https://localhost:8080/"
        },
        "id": "Gsh76Q0KbXiw",
        "outputId": "c35f7ca2-41f3-4290-be8e-c0b7ada4be81"
      },
      "execution_count": 10,
      "outputs": [
        {
          "output_type": "stream",
          "name": "stdout",
          "text": [
            "Downloading data from https://storage.googleapis.com/tensorflow/tf-keras-datasets/train-labels-idx1-ubyte.gz\n",
            "29515/29515 [==============================] - 0s 0us/step\n",
            "Downloading data from https://storage.googleapis.com/tensorflow/tf-keras-datasets/train-images-idx3-ubyte.gz\n",
            "26421880/26421880 [==============================] - 1s 0us/step\n",
            "Downloading data from https://storage.googleapis.com/tensorflow/tf-keras-datasets/t10k-labels-idx1-ubyte.gz\n",
            "5148/5148 [==============================] - 0s 0us/step\n",
            "Downloading data from https://storage.googleapis.com/tensorflow/tf-keras-datasets/t10k-images-idx3-ubyte.gz\n",
            "4422102/4422102 [==============================] - 0s 0us/step\n"
          ]
        }
      ]
    },
    {
      "cell_type": "code",
      "source": [
        "tf.random.set_seed(42)\n",
        "np.random.seed(42)\n",
        "\n",
        "model = keras.models.Sequential([\n",
        "    keras.layers.Flatten(input_shape=[28, 28]),\n",
        "    keras.layers.Dense(300, kernel_initializer=\"he_normal\"),\n",
        "    keras.layers.LeakyReLU(),\n",
        "    keras.layers.Dense(100, kernel_initializer=\"he_normal\"),\n",
        "    keras.layers.LeakyReLU(),\n",
        "    keras.layers.Dense(10, activation=\"softmax\")\n",
        "])"
      ],
      "metadata": {
        "id": "YFv2gX6ebaCS"
      },
      "execution_count": 11,
      "outputs": []
    },
    {
      "cell_type": "code",
      "source": [
        "model.compile(loss=\"sparse_categorical_crossentropy\",\n",
        "              optimizer=keras.optimizers.SGD(learning_rate=1e-3),\n",
        "              metrics=[\"accuracy\"])"
      ],
      "metadata": {
        "id": "9XFrvfqLbgQb"
      },
      "execution_count": 12,
      "outputs": []
    },
    {
      "cell_type": "code",
      "source": [
        "history = model.fit(X_train, y_train, epochs=10,\n",
        "                    validation_data=(X_valid, y_valid))"
      ],
      "metadata": {
        "colab": {
          "base_uri": "https://localhost:8080/"
        },
        "id": "6SoeDFIXbhrD",
        "outputId": "1ba388ad-14ec-4229-bd0f-ea2061755302"
      },
      "execution_count": 13,
      "outputs": [
        {
          "output_type": "stream",
          "name": "stdout",
          "text": [
            "Epoch 1/10\n",
            "1719/1719 [==============================] - 12s 5ms/step - loss: 1.2819 - accuracy: 0.6229 - val_loss: 0.8886 - val_accuracy: 0.7160\n",
            "Epoch 2/10\n",
            "1719/1719 [==============================] - 9s 5ms/step - loss: 0.7955 - accuracy: 0.7361 - val_loss: 0.7130 - val_accuracy: 0.7658\n",
            "Epoch 3/10\n",
            "1719/1719 [==============================] - 8s 5ms/step - loss: 0.6816 - accuracy: 0.7721 - val_loss: 0.6427 - val_accuracy: 0.7900\n",
            "Epoch 4/10\n",
            "1719/1719 [==============================] - 5s 3ms/step - loss: 0.6217 - accuracy: 0.7944 - val_loss: 0.5900 - val_accuracy: 0.8066\n",
            "Epoch 5/10\n",
            "1719/1719 [==============================] - 5s 3ms/step - loss: 0.5832 - accuracy: 0.8074 - val_loss: 0.5582 - val_accuracy: 0.8198\n",
            "Epoch 6/10\n",
            "1719/1719 [==============================] - 5s 3ms/step - loss: 0.5553 - accuracy: 0.8157 - val_loss: 0.5350 - val_accuracy: 0.8238\n",
            "Epoch 7/10\n",
            "1719/1719 [==============================] - 5s 3ms/step - loss: 0.5338 - accuracy: 0.8225 - val_loss: 0.5157 - val_accuracy: 0.8306\n",
            "Epoch 8/10\n",
            "1719/1719 [==============================] - 5s 3ms/step - loss: 0.5172 - accuracy: 0.8272 - val_loss: 0.5079 - val_accuracy: 0.8280\n",
            "Epoch 9/10\n",
            "1719/1719 [==============================] - 6s 3ms/step - loss: 0.5040 - accuracy: 0.8289 - val_loss: 0.4895 - val_accuracy: 0.8388\n",
            "Epoch 10/10\n",
            "1719/1719 [==============================] - 5s 3ms/step - loss: 0.4924 - accuracy: 0.8320 - val_loss: 0.4817 - val_accuracy: 0.8396\n"
          ]
        }
      ]
    },
    {
      "cell_type": "markdown",
      "source": [
        "mnist using PReLU"
      ],
      "metadata": {
        "id": "uullcpGsbmOp"
      }
    },
    {
      "cell_type": "code",
      "source": [
        "tf.random.set_seed(42)\n",
        "np.random.seed(42)\n",
        "\n",
        "model = keras.models.Sequential([\n",
        "    keras.layers.Flatten(input_shape=[28, 28]),\n",
        "    keras.layers.Dense(300, kernel_initializer=\"he_normal\"),\n",
        "    keras.layers.PReLU(),\n",
        "    keras.layers.Dense(100, kernel_initializer=\"he_normal\"),\n",
        "    keras.layers.PReLU(),\n",
        "    keras.layers.Dense(10, activation=\"softmax\")\n",
        "])"
      ],
      "metadata": {
        "id": "V2YS34JVbi-F"
      },
      "execution_count": 14,
      "outputs": []
    },
    {
      "cell_type": "code",
      "source": [
        "model.compile(loss=\"sparse_categorical_crossentropy\",\n",
        "              optimizer=keras.optimizers.SGD(learning_rate=1e-3),\n",
        "              metrics=[\"accuracy\"])"
      ],
      "metadata": {
        "id": "i8uj27TccIeo"
      },
      "execution_count": 15,
      "outputs": []
    },
    {
      "cell_type": "code",
      "source": [
        "history = model.fit(X_train, y_train, epochs=10,\n",
        "                    validation_data=(X_valid, y_valid))"
      ],
      "metadata": {
        "colab": {
          "base_uri": "https://localhost:8080/"
        },
        "id": "iynFvTJHcJ2m",
        "outputId": "aa338df5-3cf8-4826-91c4-a74845930934"
      },
      "execution_count": 16,
      "outputs": [
        {
          "output_type": "stream",
          "name": "stdout",
          "text": [
            "Epoch 1/10\n",
            "1719/1719 [==============================] - 7s 4ms/step - loss: 1.3461 - accuracy: 0.6209 - val_loss: 0.9255 - val_accuracy: 0.7186\n",
            "Epoch 2/10\n",
            "1719/1719 [==============================] - 6s 3ms/step - loss: 0.8197 - accuracy: 0.7356 - val_loss: 0.7305 - val_accuracy: 0.7630\n",
            "Epoch 3/10\n",
            "1719/1719 [==============================] - 6s 4ms/step - loss: 0.6966 - accuracy: 0.7693 - val_loss: 0.6565 - val_accuracy: 0.7880\n",
            "Epoch 4/10\n",
            "1719/1719 [==============================] - 6s 3ms/step - loss: 0.6331 - accuracy: 0.7909 - val_loss: 0.6003 - val_accuracy: 0.8046\n",
            "Epoch 5/10\n",
            "1719/1719 [==============================] - 7s 4ms/step - loss: 0.5917 - accuracy: 0.8057 - val_loss: 0.5656 - val_accuracy: 0.8180\n",
            "Epoch 6/10\n",
            "1719/1719 [==============================] - 6s 4ms/step - loss: 0.5618 - accuracy: 0.8136 - val_loss: 0.5406 - val_accuracy: 0.8244\n",
            "Epoch 7/10\n",
            "1719/1719 [==============================] - 6s 4ms/step - loss: 0.5390 - accuracy: 0.8207 - val_loss: 0.5197 - val_accuracy: 0.8312\n",
            "Epoch 8/10\n",
            "1719/1719 [==============================] - 6s 3ms/step - loss: 0.5213 - accuracy: 0.8257 - val_loss: 0.5114 - val_accuracy: 0.8312\n",
            "Epoch 9/10\n",
            "1719/1719 [==============================] - 6s 3ms/step - loss: 0.5070 - accuracy: 0.8289 - val_loss: 0.4917 - val_accuracy: 0.8380\n",
            "Epoch 10/10\n",
            "1719/1719 [==============================] - 6s 3ms/step - loss: 0.4945 - accuracy: 0.8316 - val_loss: 0.4826 - val_accuracy: 0.8398\n"
          ]
        }
      ]
    },
    {
      "cell_type": "markdown",
      "source": [
        "#### ELU"
      ],
      "metadata": {
        "id": "V46JhN_WcMdV"
      }
    },
    {
      "cell_type": "code",
      "source": [
        "def elu(z, alpha=1):\n",
        "    return np.where(z < 0, alpha * (np.exp(z) - 1), z)"
      ],
      "metadata": {
        "id": "IIvS_fcQcRGH"
      },
      "execution_count": 17,
      "outputs": []
    },
    {
      "cell_type": "code",
      "source": [
        "plt.plot(z, elu(z), \"b-\", linewidth=2)\n",
        "plt.plot([-5, 5], [0, 0], 'k-')\n",
        "plt.plot([-5, 5], [-1, -1], 'k--')\n",
        "plt.plot([0, 0], [-2.2, 3.2], 'k-')\n",
        "plt.grid(True)\n",
        "plt.title(r\"ELU activation function ($\\alpha=1$)\", fontsize=14)\n",
        "plt.axis([-5, 5, -2.2, 3.2])\n",
        "plt.show()"
      ],
      "metadata": {
        "colab": {
          "base_uri": "https://localhost:8080/",
          "height": 0
        },
        "id": "RZB_mcVccT69",
        "outputId": "63a95a50-9852-4135-c919-e73f858b63b3"
      },
      "execution_count": 18,
      "outputs": [
        {
          "output_type": "display_data",
          "data": {
            "text/plain": [
              "<Figure size 432x288 with 1 Axes>"
            ],
            "image/png": "[encoded data removed]"
          },
          "metadata": {
            "needs_background": "light"
          }
        }
      ]
    },
    {
      "cell_type": "code",
      "source": [
        "keras.layers.Dense(10, activation=\"elu\")"
      ],
      "metadata": {
        "colab": {
          "base_uri": "https://localhost:8080/"
        },
        "id": "Z_fDFd9CcV0n",
        "outputId": "e062ad1a-ab06-46dd-ec38-b8319ec9916a"
      },
      "execution_count": 19,
      "outputs": [
        {
          "output_type": "execute_result",
          "data": {
            "text/plain": [
              "<keras.layers.core.dense.Dense at 0x7f0e0bd9bc90>"
            ]
          },
          "metadata": {},
          "execution_count": 19
        }
      ]
    },
    {
      "cell_type": "markdown",
      "source": [
        "#### SELU"
      ],
      "metadata": {
        "id": "5oBYPDNnfGrc"
      }
    },
    {
      "cell_type": "code",
      "source": [
        "np.random.seed(42)\n",
        "tf.random.set_seed(42)"
      ],
      "metadata": {
        "id": "A3GNFh-gfH9L"
      },
      "execution_count": 20,
      "outputs": []
    },
    {
      "cell_type": "code",
      "source": [
        "model = keras.models.Sequential()\n",
        "model.add(keras.layers.Flatten(input_shape=[28, 28]))\n",
        "model.add(keras.layers.Dense(300, activation=\"selu\",\n",
        "                             kernel_initializer=\"lecun_normal\"))\n",
        "for layer in range(99):\n",
        "    model.add(keras.layers.Dense(100, activation=\"selu\",\n",
        "                                 kernel_initializer=\"lecun_normal\"))\n",
        "model.add(keras.layers.Dense(10, activation=\"softmax\"))"
      ],
      "metadata": {
        "id": "0iel7t4efKqJ"
      },
      "execution_count": 21,
      "outputs": []
    },
    {
      "cell_type": "code",
      "source": [
        "model.compile(loss=\"sparse_categorical_crossentropy\",\n",
        "              optimizer=keras.optimizers.SGD(learning_rate=1e-3),\n",
        "              metrics=[\"accuracy\"])"
      ],
      "metadata": {
        "id": "p0cwbvIjfLr_"
      },
      "execution_count": 22,
      "outputs": []
    },
    {
      "cell_type": "code",
      "source": [
        "pixel_means = X_train.mean(axis=0, keepdims=True)\n",
        "pixel_stds = X_train.std(axis=0, keepdims=True)\n",
        "X_train_scaled = (X_train - pixel_means) / pixel_stds\n",
        "X_valid_scaled = (X_valid - pixel_means) / pixel_stds\n",
        "X_test_scaled = (X_test - pixel_means) / pixel_stds"
      ],
      "metadata": {
        "id": "swOvbcD3fMz8"
      },
      "execution_count": 23,
      "outputs": []
    },
    {
      "cell_type": "code",
      "source": [
        "history = model.fit(X_train_scaled, y_train, epochs=5,\n",
        "                    validation_data=(X_valid_scaled, y_valid))"
      ],
      "metadata": {
        "colab": {
          "base_uri": "https://localhost:8080/"
        },
        "id": "ZUS3y0DzfPV1",
        "outputId": "824bdf33-1816-40f6-bbe4-3e5aef0dbbc8"
      },
      "execution_count": 24,
      "outputs": [
        {
          "output_type": "stream",
          "name": "stdout",
          "text": [
            "Epoch 1/5\n",
            "1719/1719 [==============================] - 24s 12ms/step - loss: 1.1625 - accuracy: 0.5499 - val_loss: 0.9437 - val_accuracy: 0.6524\n",
            "Epoch 2/5\n",
            "1719/1719 [==============================] - 20s 12ms/step - loss: 0.8210 - accuracy: 0.7065 - val_loss: 0.7209 - val_accuracy: 0.7506\n",
            "Epoch 3/5\n",
            "1719/1719 [==============================] - 20s 11ms/step - loss: 0.6995 - accuracy: 0.7487 - val_loss: 0.6662 - val_accuracy: 0.7504\n",
            "Epoch 4/5\n",
            "1719/1719 [==============================] - 19s 11ms/step - loss: 0.6042 - accuracy: 0.7761 - val_loss: 0.5765 - val_accuracy: 0.7906\n",
            "Epoch 5/5\n",
            "1719/1719 [==============================] - 19s 11ms/step - loss: 0.5981 - accuracy: 0.7805 - val_loss: 0.5173 - val_accuracy: 0.8094\n"
          ]
        }
      ]
    },
    {
      "cell_type": "code",
      "source": [
        "model = keras.models.Sequential()\n",
        "model.add(keras.layers.Flatten(input_shape=[28, 28]))\n",
        "model.add(keras.layers.Dense(300, activation=\"relu\", kernel_initializer=\"he_normal\"))\n",
        "for layer in range(99):\n",
        "    model.add(keras.layers.Dense(100, activation=\"relu\", kernel_initializer=\"he_normal\"))\n",
        "model.add(keras.layers.Dense(10, activation=\"softmax\"))"
      ],
      "metadata": {
        "id": "aAjgdYgBfQ4R"
      },
      "execution_count": 25,
      "outputs": []
    },
    {
      "cell_type": "code",
      "source": [
        "model.compile(loss=\"sparse_categorical_crossentropy\",\n",
        "              optimizer=keras.optimizers.SGD(learning_rate=1e-3),\n",
        "              metrics=[\"accuracy\"])"
      ],
      "metadata": {
        "id": "YxwVEnZafUCq"
      },
      "execution_count": 26,
      "outputs": []
    },
    {
      "cell_type": "code",
      "source": [
        "history = model.fit(X_train_scaled, y_train, epochs=5,\n",
        "                    validation_data=(X_valid_scaled, y_valid))"
      ],
      "metadata": {
        "colab": {
          "base_uri": "https://localhost:8080/"
        },
        "id": "g4BrxMzBfVZy",
        "outputId": "29d0a147-8ba8-4fbf-fd3b-166b43bf0544"
      },
      "execution_count": 27,
      "outputs": [
        {
          "output_type": "stream",
          "name": "stdout",
          "text": [
            "Epoch 1/5\n",
            "1719/1719 [==============================] - 23s 12ms/step - loss: 1.9143 - accuracy: 0.2535 - val_loss: 2.1174 - val_accuracy: 0.2342\n",
            "Epoch 2/5\n",
            "1719/1719 [==============================] - 20s 11ms/step - loss: 1.3576 - accuracy: 0.4469 - val_loss: 1.0083 - val_accuracy: 0.5658\n",
            "Epoch 3/5\n",
            "1719/1719 [==============================] - 19s 11ms/step - loss: 1.0855 - accuracy: 0.5614 - val_loss: 0.8964 - val_accuracy: 0.6566\n",
            "Epoch 4/5\n",
            "1719/1719 [==============================] - 19s 11ms/step - loss: 0.8909 - accuracy: 0.6460 - val_loss: 0.8405 - val_accuracy: 0.6730\n",
            "Epoch 5/5\n",
            "1719/1719 [==============================] - 19s 11ms/step - loss: 0.9576 - accuracy: 0.6293 - val_loss: 0.7908 - val_accuracy: 0.6896\n"
          ]
        }
      ]
    },
    {
      "cell_type": "markdown",
      "source": [
        "#### Batch Normalization"
      ],
      "metadata": {
        "id": "Vj1pwkDxcqgJ"
      }
    },
    {
      "cell_type": "code",
      "source": [
        "model = keras.models.Sequential([\n",
        "    keras.layers.Flatten(input_shape=[28, 28]),\n",
        "    keras.layers.BatchNormalization(),\n",
        "    keras.layers.Dense(300, activation=\"relu\"),\n",
        "    keras.layers.BatchNormalization(),\n",
        "    keras.layers.Dense(100, activation=\"relu\"),\n",
        "    keras.layers.BatchNormalization(),\n",
        "    keras.layers.Dense(10, activation=\"softmax\")\n",
        "])"
      ],
      "metadata": {
        "id": "csxU-Fcdcs3i"
      },
      "execution_count": 28,
      "outputs": []
    },
    {
      "cell_type": "code",
      "source": [
        "model.summary()"
      ],
      "metadata": {
        "colab": {
          "base_uri": "https://localhost:8080/"
        },
        "id": "LyD9FK2TcuoT",
        "outputId": "886d8bd2-e547-43bc-c40e-3210537d29b8"
      },
      "execution_count": 29,
      "outputs": [
        {
          "output_type": "stream",
          "name": "stdout",
          "text": [
            "Model: \"sequential_4\"\n",
            "_________________________________________________________________\n",
            " Layer (type)                Output Shape              Param #   \n",
            "=================================================================\n",
            " flatten_4 (Flatten)         (None, 784)               0         \n",
            "                                                                 \n",
            " batch_normalization (BatchN  (None, 784)              3136      \n",
            " ormalization)                                                   \n",
            "                                                                 \n",
            " dense_211 (Dense)           (None, 300)               235500    \n",
            "                                                                 \n",
            " batch_normalization_1 (Batc  (None, 300)              1200      \n",
            " hNormalization)                                                 \n",
            "                                                                 \n",
            " dense_212 (Dense)           (None, 100)               30100     \n",
            "                                                                 \n",
            " batch_normalization_2 (Batc  (None, 100)              400       \n",
            " hNormalization)                                                 \n",
            "                                                                 \n",
            " dense_213 (Dense)           (None, 10)                1010      \n",
            "                                                                 \n",
            "=================================================================\n",
            "Total params: 271,346\n",
            "Trainable params: 268,978\n",
            "Non-trainable params: 2,368\n",
            "_________________________________________________________________\n"
          ]
        }
      ]
    },
    {
      "cell_type": "code",
      "source": [
        "model.compile(loss=\"sparse_categorical_crossentropy\",\n",
        "              optimizer=keras.optimizers.SGD(learning_rate=1e-3),\n",
        "              metrics=[\"accuracy\"])"
      ],
      "metadata": {
        "id": "hAOooiQgc6sn"
      },
      "execution_count": 30,
      "outputs": []
    },
    {
      "cell_type": "code",
      "source": [
        "history = model.fit(X_train, y_train, epochs=10,\n",
        "                    validation_data=(X_valid, y_valid))"
      ],
      "metadata": {
        "colab": {
          "base_uri": "https://localhost:8080/"
        },
        "id": "dGMS8bl6c9EQ",
        "outputId": "c0ef947b-ac2c-4beb-fb9f-b6648d08b3df"
      },
      "execution_count": 31,
      "outputs": [
        {
          "output_type": "stream",
          "name": "stdout",
          "text": [
            "Epoch 1/10\n",
            "1719/1719 [==============================] - 8s 5ms/step - loss: 0.8661 - accuracy: 0.7119 - val_loss: 0.5674 - val_accuracy: 0.8064\n",
            "Epoch 2/10\n",
            "1719/1719 [==============================] - 8s 4ms/step - loss: 0.5733 - accuracy: 0.8014 - val_loss: 0.4864 - val_accuracy: 0.8378\n",
            "Epoch 3/10\n",
            "1719/1719 [==============================] - 8s 4ms/step - loss: 0.5143 - accuracy: 0.8221 - val_loss: 0.4480 - val_accuracy: 0.8456\n",
            "Epoch 4/10\n",
            "1719/1719 [==============================] - 8s 4ms/step - loss: 0.4763 - accuracy: 0.8347 - val_loss: 0.4260 - val_accuracy: 0.8558\n",
            "Epoch 5/10\n",
            "1719/1719 [==============================] - 8s 4ms/step - loss: 0.4517 - accuracy: 0.8429 - val_loss: 0.4106 - val_accuracy: 0.8624\n",
            "Epoch 6/10\n",
            "1719/1719 [==============================] - 8s 4ms/step - loss: 0.4356 - accuracy: 0.8472 - val_loss: 0.3987 - val_accuracy: 0.8646\n",
            "Epoch 7/10\n",
            "1719/1719 [==============================] - 8s 5ms/step - loss: 0.4217 - accuracy: 0.8514 - val_loss: 0.3887 - val_accuracy: 0.8650\n",
            "Epoch 8/10\n",
            "1719/1719 [==============================] - 8s 4ms/step - loss: 0.4111 - accuracy: 0.8565 - val_loss: 0.3814 - val_accuracy: 0.8700\n",
            "Epoch 9/10\n",
            "1719/1719 [==============================] - 8s 4ms/step - loss: 0.3999 - accuracy: 0.8596 - val_loss: 0.3749 - val_accuracy: 0.8716\n",
            "Epoch 10/10\n",
            "1719/1719 [==============================] - 8s 5ms/step - loss: 0.3899 - accuracy: 0.8613 - val_loss: 0.3684 - val_accuracy: 0.8738\n"
          ]
        }
      ]
    },
    {
      "cell_type": "code",
      "source": [
        "model = keras.models.Sequential([\n",
        "    keras.layers.Flatten(input_shape=[28, 28]),\n",
        "    keras.layers.BatchNormalization(),\n",
        "    keras.layers.Dense(300, use_bias=False),\n",
        "    keras.layers.BatchNormalization(),\n",
        "    keras.layers.Activation(\"relu\"),\n",
        "    keras.layers.Dense(100, use_bias=False),\n",
        "    keras.layers.BatchNormalization(),\n",
        "    keras.layers.Activation(\"relu\"),\n",
        "    keras.layers.Dense(10, activation=\"softmax\")\n",
        "])"
      ],
      "metadata": {
        "id": "08A3R09kc_91"
      },
      "execution_count": 32,
      "outputs": []
    },
    {
      "cell_type": "code",
      "source": [
        "model.compile(loss=\"sparse_categorical_crossentropy\",\n",
        "              optimizer=keras.optimizers.SGD(learning_rate=1e-3),\n",
        "              metrics=[\"accuracy\"])"
      ],
      "metadata": {
        "id": "PptEPG2KdBck"
      },
      "execution_count": 33,
      "outputs": []
    },
    {
      "cell_type": "code",
      "source": [
        "history = model.fit(X_train, y_train, epochs=10,\n",
        "                    validation_data=(X_valid, y_valid))"
      ],
      "metadata": {
        "colab": {
          "base_uri": "https://localhost:8080/"
        },
        "id": "-ZUNlkfIdCmx",
        "outputId": "e8fd00e8-1b89-47fe-9fb9-ed43633f1710"
      },
      "execution_count": 34,
      "outputs": [
        {
          "output_type": "stream",
          "name": "stdout",
          "text": [
            "Epoch 1/10\n",
            "1719/1719 [==============================] - 9s 5ms/step - loss: 1.0569 - accuracy: 0.6798 - val_loss: 0.6812 - val_accuracy: 0.7876\n",
            "Epoch 2/10\n",
            "1719/1719 [==============================] - 8s 4ms/step - loss: 0.6827 - accuracy: 0.7813 - val_loss: 0.5585 - val_accuracy: 0.8230\n",
            "Epoch 3/10\n",
            "1719/1719 [==============================] - 8s 4ms/step - loss: 0.5990 - accuracy: 0.8015 - val_loss: 0.5022 - val_accuracy: 0.8360\n",
            "Epoch 4/10\n",
            "1719/1719 [==============================] - 8s 4ms/step - loss: 0.5466 - accuracy: 0.8161 - val_loss: 0.4672 - val_accuracy: 0.8442\n",
            "Epoch 5/10\n",
            "1719/1719 [==============================] - 8s 4ms/step - loss: 0.5139 - accuracy: 0.8248 - val_loss: 0.4439 - val_accuracy: 0.8530\n",
            "Epoch 6/10\n",
            "1719/1719 [==============================] - 8s 4ms/step - loss: 0.4916 - accuracy: 0.8308 - val_loss: 0.4264 - val_accuracy: 0.8594\n",
            "Epoch 7/10\n",
            "1719/1719 [==============================] - 8s 5ms/step - loss: 0.4738 - accuracy: 0.8375 - val_loss: 0.4135 - val_accuracy: 0.8600\n",
            "Epoch 8/10\n",
            "1719/1719 [==============================] - 8s 4ms/step - loss: 0.4589 - accuracy: 0.8414 - val_loss: 0.4034 - val_accuracy: 0.8642\n",
            "Epoch 9/10\n",
            "1719/1719 [==============================] - 8s 4ms/step - loss: 0.4473 - accuracy: 0.8445 - val_loss: 0.3945 - val_accuracy: 0.8664\n",
            "Epoch 10/10\n",
            "1719/1719 [==============================] - 8s 5ms/step - loss: 0.4339 - accuracy: 0.8479 - val_loss: 0.3866 - val_accuracy: 0.8676\n"
          ]
        }
      ]
    },
    {
      "cell_type": "markdown",
      "source": [
        "#### Gradient Clipping"
      ],
      "metadata": {
        "id": "LMfUAmCTdEwO"
      }
    },
    {
      "cell_type": "code",
      "source": [
        "optimizer = keras.optimizers.SGD(clipvalue=1.0)"
      ],
      "metadata": {
        "id": "OwQOyPESdS46"
      },
      "execution_count": 35,
      "outputs": []
    },
    {
      "cell_type": "code",
      "source": [
        "optimizer = keras.optimizers.SGD(clipnorm=1.0)"
      ],
      "metadata": {
        "id": "qiepEnCWdV1M"
      },
      "execution_count": 36,
      "outputs": []
    },
    {
      "cell_type": "markdown",
      "source": [
        "#### Reusing Pretrained Layers"
      ],
      "metadata": {
        "id": "Uh2vDHC5dW6V"
      }
    },
    {
      "cell_type": "markdown",
      "source": [
        "Reusing a Keras model"
      ],
      "metadata": {
        "id": "196blG9Zdgq3"
      }
    },
    {
      "cell_type": "code",
      "source": [
        "def split_dataset(X, y):\n",
        "    y_5_or_6 = (y == 5) | (y == 6) # sandals or shirts\n",
        "    y_A = y[~y_5_or_6]\n",
        "    y_A[y_A > 6] -= 2 # class indices 7, 8, 9 should be moved to 5, 6, 7\n",
        "    y_B = (y[y_5_or_6] == 6).astype(np.float32) # binary classification task: is it a shirt (class 6)?\n",
        "    return ((X[~y_5_or_6], y_A),\n",
        "            (X[y_5_or_6], y_B))\n",
        "\n",
        "(X_train_A, y_train_A), (X_train_B, y_train_B) = split_dataset(X_train, y_train)\n",
        "(X_valid_A, y_valid_A), (X_valid_B, y_valid_B) = split_dataset(X_valid, y_valid)\n",
        "(X_test_A, y_test_A), (X_test_B, y_test_B) = split_dataset(X_test, y_test)\n",
        "X_train_B = X_train_B[:200]\n",
        "y_train_B = y_train_B[:200]"
      ],
      "metadata": {
        "id": "gwZjEr7hdjue"
      },
      "execution_count": 37,
      "outputs": []
    },
    {
      "cell_type": "code",
      "source": [
        "tf.random.set_seed(42)\n",
        "np.random.seed(42)"
      ],
      "metadata": {
        "id": "fn7KCvEGdo8i"
      },
      "execution_count": 38,
      "outputs": []
    },
    {
      "cell_type": "code",
      "source": [
        "model_A = keras.models.Sequential()\n",
        "model_A.add(keras.layers.Flatten(input_shape=[28, 28]))\n",
        "for n_hidden in (300, 100, 50, 50, 50):\n",
        "    model_A.add(keras.layers.Dense(n_hidden, activation=\"selu\"))\n",
        "model_A.add(keras.layers.Dense(8, activation=\"softmax\"))"
      ],
      "metadata": {
        "id": "k_QiP1Idds9W"
      },
      "execution_count": 39,
      "outputs": []
    },
    {
      "cell_type": "code",
      "source": [
        "model_A.compile(loss=\"sparse_categorical_crossentropy\",\n",
        "                optimizer=keras.optimizers.SGD(learning_rate=1e-3),\n",
        "                metrics=[\"accuracy\"])"
      ],
      "metadata": {
        "id": "y0c2wjTydtnP"
      },
      "execution_count": 40,
      "outputs": []
    },
    {
      "cell_type": "code",
      "source": [
        "history = model_A.fit(X_train_A, y_train_A, epochs=20,\n",
        "                    validation_data=(X_valid_A, y_valid_A))"
      ],
      "metadata": {
        "id": "JyErbxrndvnI",
        "colab": {
          "base_uri": "https://localhost:8080/"
        },
        "outputId": "eb45627e-4083-4866-ddb5-63c5a9608a36"
      },
      "execution_count": 41,
      "outputs": [
        {
          "output_type": "stream",
          "name": "stdout",
          "text": [
            "Epoch 1/20\n",
            "1375/1375 [==============================] - 5s 4ms/step - loss: 0.5926 - accuracy: 0.8103 - val_loss: 0.3893 - val_accuracy: 0.8667\n",
            "Epoch 2/20\n",
            "1375/1375 [==============================] - 5s 3ms/step - loss: 0.3523 - accuracy: 0.8785 - val_loss: 0.3289 - val_accuracy: 0.8822\n",
            "Epoch 3/20\n",
            "1375/1375 [==============================] - 5s 3ms/step - loss: 0.3170 - accuracy: 0.8895 - val_loss: 0.3013 - val_accuracy: 0.8994\n",
            "Epoch 4/20\n",
            "1375/1375 [==============================] - 5s 3ms/step - loss: 0.2973 - accuracy: 0.8974 - val_loss: 0.2894 - val_accuracy: 0.9023\n",
            "Epoch 5/20\n",
            "1375/1375 [==============================] - 5s 3ms/step - loss: 0.2835 - accuracy: 0.9023 - val_loss: 0.2775 - val_accuracy: 0.9068\n",
            "Epoch 6/20\n",
            "1375/1375 [==============================] - 5s 3ms/step - loss: 0.2729 - accuracy: 0.9062 - val_loss: 0.2734 - val_accuracy: 0.9071\n",
            "Epoch 7/20\n",
            "1375/1375 [==============================] - 5s 3ms/step - loss: 0.2641 - accuracy: 0.9093 - val_loss: 0.2717 - val_accuracy: 0.9083\n",
            "Epoch 8/20\n",
            "1375/1375 [==============================] - 5s 3ms/step - loss: 0.2573 - accuracy: 0.9124 - val_loss: 0.2589 - val_accuracy: 0.9141\n",
            "Epoch 9/20\n",
            "1375/1375 [==============================] - 5s 3ms/step - loss: 0.2518 - accuracy: 0.9135 - val_loss: 0.2562 - val_accuracy: 0.9141\n",
            "Epoch 10/20\n",
            "1375/1375 [==============================] - 5s 3ms/step - loss: 0.2469 - accuracy: 0.9155 - val_loss: 0.2541 - val_accuracy: 0.9163\n",
            "Epoch 11/20\n",
            "1375/1375 [==============================] - 5s 3ms/step - loss: 0.2422 - accuracy: 0.9176 - val_loss: 0.2496 - val_accuracy: 0.9155\n",
            "Epoch 12/20\n",
            "1375/1375 [==============================] - 4s 3ms/step - loss: 0.2382 - accuracy: 0.9188 - val_loss: 0.2508 - val_accuracy: 0.9133\n",
            "Epoch 13/20\n",
            "1375/1375 [==============================] - 5s 3ms/step - loss: 0.2350 - accuracy: 0.9198 - val_loss: 0.2445 - val_accuracy: 0.9153\n",
            "Epoch 14/20\n",
            "1375/1375 [==============================] - 5s 3ms/step - loss: 0.2315 - accuracy: 0.9210 - val_loss: 0.2413 - val_accuracy: 0.9175\n",
            "Epoch 15/20\n",
            "1375/1375 [==============================] - 5s 3ms/step - loss: 0.2287 - accuracy: 0.9214 - val_loss: 0.2446 - val_accuracy: 0.9188\n",
            "Epoch 16/20\n",
            "1375/1375 [==============================] - 4s 3ms/step - loss: 0.2254 - accuracy: 0.9222 - val_loss: 0.2385 - val_accuracy: 0.9193\n",
            "Epoch 17/20\n",
            "1375/1375 [==============================] - 5s 3ms/step - loss: 0.2230 - accuracy: 0.9231 - val_loss: 0.2406 - val_accuracy: 0.9183\n",
            "Epoch 18/20\n",
            "1375/1375 [==============================] - 5s 3ms/step - loss: 0.2201 - accuracy: 0.9246 - val_loss: 0.2424 - val_accuracy: 0.9150\n",
            "Epoch 19/20\n",
            "1375/1375 [==============================] - 5s 3ms/step - loss: 0.2178 - accuracy: 0.9255 - val_loss: 0.2329 - val_accuracy: 0.9205\n",
            "Epoch 20/20\n",
            "1375/1375 [==============================] - 5s 3ms/step - loss: 0.2156 - accuracy: 0.9261 - val_loss: 0.2331 - val_accuracy: 0.9205\n"
          ]
        }
      ]
    },
    {
      "cell_type": "code",
      "source": [
        "model_A.save(\"my_model_A.h5\")"
      ],
      "metadata": {
        "id": "gsnysgekdys-"
      },
      "execution_count": 42,
      "outputs": []
    },
    {
      "cell_type": "code",
      "source": [
        "model_B = keras.models.Sequential()\n",
        "model_B.add(keras.layers.Flatten(input_shape=[28, 28]))\n",
        "for n_hidden in (300, 100, 50, 50, 50):\n",
        "    model_B.add(keras.layers.Dense(n_hidden, activation=\"selu\"))\n",
        "model_B.add(keras.layers.Dense(1, activation=\"sigmoid\"))"
      ],
      "metadata": {
        "id": "dPb_ILuJdzxj"
      },
      "execution_count": 43,
      "outputs": []
    },
    {
      "cell_type": "code",
      "source": [
        "model_B.compile(loss=\"binary_crossentropy\",\n",
        "                optimizer=keras.optimizers.SGD(learning_rate=1e-3),\n",
        "                metrics=[\"accuracy\"])"
      ],
      "metadata": {
        "id": "G9xLzcV-d0m7"
      },
      "execution_count": 44,
      "outputs": []
    },
    {
      "cell_type": "code",
      "source": [
        "history = model_B.fit(X_train_B, y_train_B, epochs=20,\n",
        "                      validation_data=(X_valid_B, y_valid_B))"
      ],
      "metadata": {
        "id": "HGg7-L4Gd1kL",
        "colab": {
          "base_uri": "https://localhost:8080/"
        },
        "outputId": "f30304ad-87b0-45fd-ebcf-9cf06dec3e50"
      },
      "execution_count": 45,
      "outputs": [
        {
          "output_type": "stream",
          "name": "stdout",
          "text": [
            "Epoch 1/20\n",
            "7/7 [==============================] - 1s 40ms/step - loss: 0.9573 - accuracy: 0.4650 - val_loss: 0.6314 - val_accuracy: 0.6004\n",
            "Epoch 2/20\n",
            "7/7 [==============================] - 0s 17ms/step - loss: 0.5692 - accuracy: 0.7450 - val_loss: 0.4784 - val_accuracy: 0.8529\n",
            "Epoch 3/20\n",
            "7/7 [==============================] - 0s 30ms/step - loss: 0.4503 - accuracy: 0.8650 - val_loss: 0.4102 - val_accuracy: 0.8945\n",
            "Epoch 4/20\n",
            "7/7 [==============================] - 0s 31ms/step - loss: 0.3879 - accuracy: 0.8950 - val_loss: 0.3647 - val_accuracy: 0.9178\n",
            "Epoch 5/20\n",
            "7/7 [==============================] - 0s 18ms/step - loss: 0.3435 - accuracy: 0.9250 - val_loss: 0.3300 - val_accuracy: 0.9320\n",
            "Epoch 6/20\n",
            "7/7 [==============================] - 0s 17ms/step - loss: 0.3081 - accuracy: 0.9300 - val_loss: 0.3019 - val_accuracy: 0.9402\n",
            "Epoch 7/20\n",
            "7/7 [==============================] - 0s 30ms/step - loss: 0.2800 - accuracy: 0.9350 - val_loss: 0.2804 - val_accuracy: 0.9422\n",
            "Epoch 8/20\n",
            "7/7 [==============================] - 0s 16ms/step - loss: 0.2564 - accuracy: 0.9450 - val_loss: 0.2606 - val_accuracy: 0.9473\n",
            "Epoch 9/20\n",
            "7/7 [==============================] - 0s 17ms/step - loss: 0.2362 - accuracy: 0.9550 - val_loss: 0.2428 - val_accuracy: 0.9523\n",
            "Epoch 10/20\n",
            "7/7 [==============================] - 0s 16ms/step - loss: 0.2188 - accuracy: 0.9600 - val_loss: 0.2281 - val_accuracy: 0.9544\n",
            "Epoch 11/20\n",
            "7/7 [==============================] - 0s 16ms/step - loss: 0.2036 - accuracy: 0.9700 - val_loss: 0.2150 - val_accuracy: 0.9584\n",
            "Epoch 12/20\n",
            "7/7 [==============================] - 0s 31ms/step - loss: 0.1898 - accuracy: 0.9700 - val_loss: 0.2036 - val_accuracy: 0.9584\n",
            "Epoch 13/20\n",
            "7/7 [==============================] - 0s 17ms/step - loss: 0.1773 - accuracy: 0.9750 - val_loss: 0.1931 - val_accuracy: 0.9615\n",
            "Epoch 14/20\n",
            "7/7 [==============================] - 0s 17ms/step - loss: 0.1668 - accuracy: 0.9800 - val_loss: 0.1838 - val_accuracy: 0.9635\n",
            "Epoch 15/20\n",
            "7/7 [==============================] - 0s 17ms/step - loss: 0.1570 - accuracy: 0.9900 - val_loss: 0.1746 - val_accuracy: 0.9686\n",
            "Epoch 16/20\n",
            "7/7 [==============================] - 0s 16ms/step - loss: 0.1481 - accuracy: 0.9900 - val_loss: 0.1674 - val_accuracy: 0.9686\n",
            "Epoch 17/20\n",
            "7/7 [==============================] - 0s 16ms/step - loss: 0.1406 - accuracy: 0.9900 - val_loss: 0.1604 - val_accuracy: 0.9706\n",
            "Epoch 18/20\n",
            "7/7 [==============================] - 0s 16ms/step - loss: 0.1334 - accuracy: 0.9900 - val_loss: 0.1539 - val_accuracy: 0.9706\n",
            "Epoch 19/20\n",
            "7/7 [==============================] - 0s 16ms/step - loss: 0.1268 - accuracy: 0.9900 - val_loss: 0.1482 - val_accuracy: 0.9716\n",
            "Epoch 20/20\n",
            "7/7 [==============================] - 0s 16ms/step - loss: 0.1208 - accuracy: 0.9900 - val_loss: 0.1431 - val_accuracy: 0.9716\n"
          ]
        }
      ]
    },
    {
      "cell_type": "code",
      "source": [
        "model_B.summary()"
      ],
      "metadata": {
        "id": "Ps43dwO8d4ct",
        "colab": {
          "base_uri": "https://localhost:8080/"
        },
        "outputId": "8d0e9d3b-490d-452f-e725-00c7efa5ed9d"
      },
      "execution_count": 46,
      "outputs": [
        {
          "output_type": "stream",
          "name": "stdout",
          "text": [
            "Model: \"sequential_7\"\n",
            "_________________________________________________________________\n",
            " Layer (type)                Output Shape              Param #   \n",
            "=================================================================\n",
            " flatten_7 (Flatten)         (None, 784)               0         \n",
            "                                                                 \n",
            " dense_223 (Dense)           (None, 300)               235500    \n",
            "                                                                 \n",
            " dense_224 (Dense)           (None, 100)               30100     \n",
            "                                                                 \n",
            " dense_225 (Dense)           (None, 50)                5050      \n",
            "                                                                 \n",
            " dense_226 (Dense)           (None, 50)                2550      \n",
            "                                                                 \n",
            " dense_227 (Dense)           (None, 50)                2550      \n",
            "                                                                 \n",
            " dense_228 (Dense)           (None, 1)                 51        \n",
            "                                                                 \n",
            "=================================================================\n",
            "Total params: 275,801\n",
            "Trainable params: 275,801\n",
            "Non-trainable params: 0\n",
            "_________________________________________________________________\n"
          ]
        }
      ]
    },
    {
      "cell_type": "code",
      "source": [
        "model_A = keras.models.load_model(\"my_model_A.h5\")\n",
        "model_B_on_A = keras.models.Sequential(model_A.layers[:-1])\n",
        "model_B_on_A.add(keras.layers.Dense(1, activation=\"sigmoid\"))"
      ],
      "metadata": {
        "id": "9B_1FNoYd5ka"
      },
      "execution_count": 47,
      "outputs": []
    },
    {
      "cell_type": "code",
      "source": [
        "model_A_clone = keras.models.clone_model(model_A)\n",
        "model_A_clone.set_weights(model_A.get_weights())\n",
        "model_B_on_A = keras.models.Sequential(model_A_clone.layers[:-1])\n",
        "model_B_on_A.add(keras.layers.Dense(1, activation=\"sigmoid\"))"
      ],
      "metadata": {
        "id": "RTSCnlQ1d7hJ"
      },
      "execution_count": 48,
      "outputs": []
    },
    {
      "cell_type": "code",
      "source": [
        "for layer in model_B_on_A.layers[:-1]:\n",
        "    layer.trainable = False\n",
        "\n",
        "model_B_on_A.compile(loss=\"binary_crossentropy\",\n",
        "                     optimizer=keras.optimizers.SGD(learning_rate=1e-3),\n",
        "                     metrics=[\"accuracy\"])"
      ],
      "metadata": {
        "id": "txSbfomqd9kS"
      },
      "execution_count": 49,
      "outputs": []
    },
    {
      "cell_type": "code",
      "source": [
        "history = model_B_on_A.fit(X_train_B, y_train_B, epochs=4,\n",
        "                           validation_data=(X_valid_B, y_valid_B))\n",
        "\n",
        "for layer in model_B_on_A.layers[:-1]:\n",
        "    layer.trainable = True\n",
        "\n",
        "model_B_on_A.compile(loss=\"binary_crossentropy\",\n",
        "                     optimizer=keras.optimizers.SGD(learning_rate=1e-3),\n",
        "                     metrics=[\"accuracy\"])\n",
        "history = model_B_on_A.fit(X_train_B, y_train_B, epochs=16,\n",
        "                           validation_data=(X_valid_B, y_valid_B))"
      ],
      "metadata": {
        "id": "WJNyoGJid_uT",
        "colab": {
          "base_uri": "https://localhost:8080/"
        },
        "outputId": "0b21f621-5c7f-4596-9149-f3f9e556dd84"
      },
      "execution_count": 50,
      "outputs": [
        {
          "output_type": "stream",
          "name": "stdout",
          "text": [
            "Epoch 1/4\n",
            "7/7 [==============================] - 1s 41ms/step - loss: 0.2658 - accuracy: 0.9400 - val_loss: 0.2802 - val_accuracy: 0.9260\n",
            "Epoch 2/4\n",
            "7/7 [==============================] - 0s 16ms/step - loss: 0.2561 - accuracy: 0.9400 - val_loss: 0.2706 - val_accuracy: 0.9290\n",
            "Epoch 3/4\n",
            "7/7 [==============================] - 0s 29ms/step - loss: 0.2467 - accuracy: 0.9400 - val_loss: 0.2618 - val_accuracy: 0.9331\n",
            "Epoch 4/4\n",
            "7/7 [==============================] - 0s 16ms/step - loss: 0.2381 - accuracy: 0.9400 - val_loss: 0.2536 - val_accuracy: 0.9371\n",
            "Epoch 1/16\n",
            "7/7 [==============================] - 1s 51ms/step - loss: 0.2130 - accuracy: 0.9450 - val_loss: 0.2051 - val_accuracy: 0.9645\n",
            "Epoch 2/16\n",
            "7/7 [==============================] - 0s 16ms/step - loss: 0.1702 - accuracy: 0.9550 - val_loss: 0.1724 - val_accuracy: 0.9716\n",
            "Epoch 3/16\n",
            "7/7 [==============================] - 0s 16ms/step - loss: 0.1410 - accuracy: 0.9650 - val_loss: 0.1496 - val_accuracy: 0.9817\n",
            "Epoch 4/16\n",
            "7/7 [==============================] - 0s 30ms/step - loss: 0.1200 - accuracy: 0.9800 - val_loss: 0.1329 - val_accuracy: 0.9828\n",
            "Epoch 5/16\n",
            "7/7 [==============================] - 0s 17ms/step - loss: 0.1048 - accuracy: 0.9900 - val_loss: 0.1204 - val_accuracy: 0.9858\n",
            "Epoch 6/16\n",
            "7/7 [==============================] - 0s 19ms/step - loss: 0.0931 - accuracy: 0.9950 - val_loss: 0.1105 - val_accuracy: 0.9858\n",
            "Epoch 7/16\n",
            "7/7 [==============================] - 0s 18ms/step - loss: 0.0839 - accuracy: 0.9950 - val_loss: 0.1024 - val_accuracy: 0.9858\n",
            "Epoch 8/16\n",
            "7/7 [==============================] - 0s 18ms/step - loss: 0.0764 - accuracy: 0.9950 - val_loss: 0.0956 - val_accuracy: 0.9868\n",
            "Epoch 9/16\n",
            "7/7 [==============================] - 0s 17ms/step - loss: 0.0700 - accuracy: 0.9950 - val_loss: 0.0894 - val_accuracy: 0.9868\n",
            "Epoch 10/16\n",
            "7/7 [==============================] - 0s 17ms/step - loss: 0.0642 - accuracy: 0.9950 - val_loss: 0.0846 - val_accuracy: 0.9878\n",
            "Epoch 11/16\n",
            "7/7 [==============================] - 0s 16ms/step - loss: 0.0598 - accuracy: 0.9950 - val_loss: 0.0802 - val_accuracy: 0.9888\n",
            "Epoch 12/16\n",
            "7/7 [==============================] - 0s 29ms/step - loss: 0.0556 - accuracy: 1.0000 - val_loss: 0.0764 - val_accuracy: 0.9888\n",
            "Epoch 13/16\n",
            "7/7 [==============================] - 0s 18ms/step - loss: 0.0518 - accuracy: 1.0000 - val_loss: 0.0730 - val_accuracy: 0.9888\n",
            "Epoch 14/16\n",
            "7/7 [==============================] - 0s 18ms/step - loss: 0.0486 - accuracy: 1.0000 - val_loss: 0.0702 - val_accuracy: 0.9878\n",
            "Epoch 15/16\n",
            "7/7 [==============================] - 0s 17ms/step - loss: 0.0460 - accuracy: 1.0000 - val_loss: 0.0677 - val_accuracy: 0.9878\n",
            "Epoch 16/16\n",
            "7/7 [==============================] - 0s 16ms/step - loss: 0.0436 - accuracy: 1.0000 - val_loss: 0.0654 - val_accuracy: 0.9878\n"
          ]
        }
      ]
    },
    {
      "cell_type": "code",
      "source": [
        "model_B.evaluate(X_test_B, y_test_B)"
      ],
      "metadata": {
        "id": "1dvI8bY-eCij",
        "colab": {
          "base_uri": "https://localhost:8080/"
        },
        "outputId": "f780fcfe-f610-4612-a4a4-b385823b3a0c"
      },
      "execution_count": 51,
      "outputs": [
        {
          "output_type": "stream",
          "name": "stdout",
          "text": [
            "63/63 [==============================] - 0s 3ms/step - loss: 0.1408 - accuracy: 0.9705\n"
          ]
        },
        {
          "output_type": "execute_result",
          "data": {
            "text/plain": [
              "[0.1408407837152481, 0.9704999923706055]"
            ]
          },
          "metadata": {},
          "execution_count": 51
        }
      ]
    },
    {
      "cell_type": "code",
      "source": [
        "model_B_on_A.evaluate(X_test_B, y_test_B)"
      ],
      "metadata": {
        "id": "lx5rOcgHeExL",
        "colab": {
          "base_uri": "https://localhost:8080/"
        },
        "outputId": "c98d273f-358e-40e0-c8bc-6c662121cdb1"
      },
      "execution_count": 52,
      "outputs": [
        {
          "output_type": "stream",
          "name": "stdout",
          "text": [
            "63/63 [==============================] - 0s 3ms/step - loss: 0.0564 - accuracy: 0.9940\n"
          ]
        },
        {
          "output_type": "execute_result",
          "data": {
            "text/plain": [
              "[0.05638745427131653, 0.9940000176429749]"
            ]
          },
          "metadata": {},
          "execution_count": 52
        }
      ]
    },
    {
      "cell_type": "markdown",
      "source": [
        "#### Faster Optimizers"
      ],
      "metadata": {
        "id": "iYsk_7_1eHQD"
      }
    },
    {
      "cell_type": "markdown",
      "source": [
        "Momentum optimization\n"
      ],
      "metadata": {
        "id": "kAzjA5bUeMb0"
      }
    },
    {
      "cell_type": "code",
      "source": [
        "optimizer = keras.optimizers.SGD(learning_rate=0.001, momentum=0.9)"
      ],
      "metadata": {
        "id": "xoPeBbHmeKKF"
      },
      "execution_count": 53,
      "outputs": []
    },
    {
      "cell_type": "markdown",
      "source": [
        "Nesterov Accelerated Gradient"
      ],
      "metadata": {
        "id": "StivaaeWeO5z"
      }
    },
    {
      "cell_type": "code",
      "source": [
        "optimizer = keras.optimizers.SGD(learning_rate=0.001, momentum=0.9, nesterov=True)"
      ],
      "metadata": {
        "id": "oIJLtlx5eQhA"
      },
      "execution_count": 54,
      "outputs": []
    },
    {
      "cell_type": "markdown",
      "source": [
        "AdaGrad"
      ],
      "metadata": {
        "id": "lhNKVRRdeSQ5"
      }
    },
    {
      "cell_type": "code",
      "source": [
        "optimizer = keras.optimizers.Adagrad(learning_rate=0.001)"
      ],
      "metadata": {
        "id": "SbWQafrReT3J"
      },
      "execution_count": 55,
      "outputs": []
    },
    {
      "cell_type": "markdown",
      "source": [
        "RMSProp"
      ],
      "metadata": {
        "id": "2CAd9uhveVDs"
      }
    },
    {
      "cell_type": "code",
      "source": [
        "optimizer = keras.optimizers.RMSprop(learning_rate=0.001, rho=0.9)"
      ],
      "metadata": {
        "id": "bgkvOFNLeWEU"
      },
      "execution_count": 56,
      "outputs": []
    },
    {
      "cell_type": "markdown",
      "source": [
        "Adam Optimization"
      ],
      "metadata": {
        "id": "-fsJaGxyeY14"
      }
    },
    {
      "cell_type": "code",
      "source": [
        "optimizer = keras.optimizers.Adam(learning_rate=0.001, beta_1=0.9, beta_2=0.999)"
      ],
      "metadata": {
        "id": "1XTLAjqveaMg"
      },
      "execution_count": 57,
      "outputs": []
    },
    {
      "cell_type": "markdown",
      "source": [
        "Adamax Optimization"
      ],
      "metadata": {
        "id": "10vWkZBueb0j"
      }
    },
    {
      "cell_type": "code",
      "source": [
        "optimizer = keras.optimizers.Adamax(learning_rate=0.001, beta_1=0.9, beta_2=0.999)"
      ],
      "metadata": {
        "id": "2F2l1Qx5ec4r"
      },
      "execution_count": 58,
      "outputs": []
    },
    {
      "cell_type": "markdown",
      "source": [
        "Nadam Optimization\n"
      ],
      "metadata": {
        "id": "_0JH5bf3eeA5"
      }
    },
    {
      "cell_type": "code",
      "source": [
        "optimizer = keras.optimizers.Nadam(learning_rate=0.001, beta_1=0.9, beta_2=0.999)"
      ],
      "metadata": {
        "id": "UXa1AVy0efGq"
      },
      "execution_count": 59,
      "outputs": []
    },
    {
      "cell_type": "markdown",
      "source": [
        "#### Learning Rate Scheduling"
      ],
      "metadata": {
        "id": "aoCDmkDgen1Q"
      }
    },
    {
      "cell_type": "markdown",
      "source": [
        "Power Scheduling  \n",
        "lr = lr0 / (1 + steps / s)**c\n",
        "* Keras uses c=1 and s = 1 / decay"
      ],
      "metadata": {
        "id": "J4N1E0B3epY7"
      }
    },
    {
      "cell_type": "code",
      "source": [
        "optimizer = keras.optimizers.SGD(learning_rate=0.01, decay=1e-4)"
      ],
      "metadata": {
        "id": "lolDxhpzexUy"
      },
      "execution_count": 60,
      "outputs": []
    },
    {
      "cell_type": "code",
      "source": [
        "model = keras.models.Sequential([\n",
        "    keras.layers.Flatten(input_shape=[28, 28]),\n",
        "    keras.layers.Dense(300, activation=\"selu\", kernel_initializer=\"lecun_normal\"),\n",
        "    keras.layers.Dense(100, activation=\"selu\", kernel_initializer=\"lecun_normal\"),\n",
        "    keras.layers.Dense(10, activation=\"softmax\")\n",
        "])\n",
        "model.compile(loss=\"sparse_categorical_crossentropy\", optimizer=optimizer, metrics=[\"accuracy\"])"
      ],
      "metadata": {
        "id": "d4paUMXOey_k"
      },
      "execution_count": 61,
      "outputs": []
    },
    {
      "cell_type": "code",
      "source": [
        "n_epochs = 25\n",
        "history = model.fit(X_train_scaled, y_train, epochs=n_epochs,\n",
        "                    validation_data=(X_valid_scaled, y_valid))"
      ],
      "metadata": {
        "id": "bE2Ur--FeyO0",
        "colab": {
          "base_uri": "https://localhost:8080/"
        },
        "outputId": "4d6dbc1c-f952-45ea-ff8c-b2f724cf7770"
      },
      "execution_count": 62,
      "outputs": [
        {
          "output_type": "stream",
          "name": "stdout",
          "text": [
            "Epoch 1/25\n",
            "1719/1719 [==============================] - 6s 3ms/step - loss: 0.4898 - accuracy: 0.8265 - val_loss: 0.4063 - val_accuracy: 0.8612\n",
            "Epoch 2/25\n",
            "1719/1719 [==============================] - 5s 3ms/step - loss: 0.3792 - accuracy: 0.8651 - val_loss: 0.3730 - val_accuracy: 0.8720\n",
            "Epoch 3/25\n",
            "1719/1719 [==============================] - 6s 3ms/step - loss: 0.3467 - accuracy: 0.8776 - val_loss: 0.3746 - val_accuracy: 0.8722\n",
            "Epoch 4/25\n",
            "1719/1719 [==============================] - 6s 3ms/step - loss: 0.3258 - accuracy: 0.8844 - val_loss: 0.3510 - val_accuracy: 0.8782\n",
            "Epoch 5/25\n",
            "1719/1719 [==============================] - 5s 3ms/step - loss: 0.3107 - accuracy: 0.8897 - val_loss: 0.3446 - val_accuracy: 0.8786\n",
            "Epoch 6/25\n",
            "1719/1719 [==============================] - 5s 3ms/step - loss: 0.2972 - accuracy: 0.8939 - val_loss: 0.3417 - val_accuracy: 0.8832\n",
            "Epoch 7/25\n",
            "1719/1719 [==============================] - 5s 3ms/step - loss: 0.2871 - accuracy: 0.8981 - val_loss: 0.3380 - val_accuracy: 0.8826\n",
            "Epoch 8/25\n",
            "1719/1719 [==============================] - 5s 3ms/step - loss: 0.2779 - accuracy: 0.9012 - val_loss: 0.3420 - val_accuracy: 0.8790\n",
            "Epoch 9/25\n",
            "1719/1719 [==============================] - 5s 3ms/step - loss: 0.2697 - accuracy: 0.9028 - val_loss: 0.3289 - val_accuracy: 0.8844\n",
            "Epoch 10/25\n",
            "1719/1719 [==============================] - 5s 3ms/step - loss: 0.2624 - accuracy: 0.9061 - val_loss: 0.3283 - val_accuracy: 0.8862\n",
            "Epoch 11/25\n",
            "1719/1719 [==============================] - 5s 3ms/step - loss: 0.2564 - accuracy: 0.9090 - val_loss: 0.3265 - val_accuracy: 0.8880\n",
            "Epoch 12/25\n",
            "1719/1719 [==============================] - 5s 3ms/step - loss: 0.2504 - accuracy: 0.9113 - val_loss: 0.3337 - val_accuracy: 0.8808\n",
            "Epoch 13/25\n",
            "1719/1719 [==============================] - 5s 3ms/step - loss: 0.2447 - accuracy: 0.9132 - val_loss: 0.3245 - val_accuracy: 0.8906\n",
            "Epoch 14/25\n",
            "1719/1719 [==============================] - 5s 3ms/step - loss: 0.2407 - accuracy: 0.9145 - val_loss: 0.3287 - val_accuracy: 0.8860\n",
            "Epoch 15/25\n",
            "1719/1719 [==============================] - 5s 3ms/step - loss: 0.2354 - accuracy: 0.9166 - val_loss: 0.3227 - val_accuracy: 0.8888\n",
            "Epoch 16/25\n",
            "1719/1719 [==============================] - 5s 3ms/step - loss: 0.2314 - accuracy: 0.9185 - val_loss: 0.3205 - val_accuracy: 0.8914\n",
            "Epoch 17/25\n",
            "1719/1719 [==============================] - 5s 3ms/step - loss: 0.2275 - accuracy: 0.9188 - val_loss: 0.3242 - val_accuracy: 0.8896\n",
            "Epoch 18/25\n",
            "1719/1719 [==============================] - 5s 3ms/step - loss: 0.2235 - accuracy: 0.9213 - val_loss: 0.3192 - val_accuracy: 0.8924\n",
            "Epoch 19/25\n",
            "1719/1719 [==============================] - 5s 3ms/step - loss: 0.2202 - accuracy: 0.9229 - val_loss: 0.3227 - val_accuracy: 0.8898\n",
            "Epoch 20/25\n",
            "1719/1719 [==============================] - 5s 3ms/step - loss: 0.2169 - accuracy: 0.9240 - val_loss: 0.3203 - val_accuracy: 0.8914\n",
            "Epoch 21/25\n",
            "1719/1719 [==============================] - 5s 3ms/step - loss: 0.2132 - accuracy: 0.9253 - val_loss: 0.3200 - val_accuracy: 0.8900\n",
            "Epoch 22/25\n",
            "1719/1719 [==============================] - 5s 3ms/step - loss: 0.2107 - accuracy: 0.9266 - val_loss: 0.3183 - val_accuracy: 0.8888\n",
            "Epoch 23/25\n",
            "1719/1719 [==============================] - 5s 3ms/step - loss: 0.2078 - accuracy: 0.9274 - val_loss: 0.3203 - val_accuracy: 0.8922\n",
            "Epoch 24/25\n",
            "1719/1719 [==============================] - 5s 3ms/step - loss: 0.2049 - accuracy: 0.9292 - val_loss: 0.3204 - val_accuracy: 0.8904\n",
            "Epoch 25/25\n",
            "1719/1719 [==============================] - 5s 3ms/step - loss: 0.2028 - accuracy: 0.9290 - val_loss: 0.3196 - val_accuracy: 0.8894\n"
          ]
        }
      ]
    },
    {
      "cell_type": "code",
      "source": [
        "import math\n",
        "\n",
        "learning_rate = 0.01\n",
        "decay = 1e-4\n",
        "batch_size = 32\n",
        "n_steps_per_epoch = math.ceil(len(X_train) / batch_size)\n",
        "epochs = np.arange(n_epochs)\n",
        "lrs = learning_rate / (1 + decay * epochs * n_steps_per_epoch)\n",
        "\n",
        "plt.plot(epochs, lrs,  \"o-\")\n",
        "plt.axis([0, n_epochs - 1, 0, 0.01])\n",
        "plt.xlabel(\"Epoch\")\n",
        "plt.ylabel(\"Learning Rate\")\n",
        "plt.title(\"Power Scheduling\", fontsize=14)\n",
        "plt.grid(True)\n",
        "plt.show()"
      ],
      "metadata": {
        "id": "Mm8rqnAYe4Ru",
        "colab": {
          "base_uri": "https://localhost:8080/",
          "height": 0
        },
        "outputId": "3fc3f460-974b-4a75-caad-796003aeb265"
      },
      "execution_count": 63,
      "outputs": [
        {
          "output_type": "display_data",
          "data": {
            "text/plain": [
              "<Figure size 432x288 with 1 Axes>"
            ],
            "image/png": "[encoded data removed]"
          },
          "metadata": {
            "needs_background": "light"
          }
        }
      ]
    },
    {
      "cell_type": "markdown",
      "source": [
        "Exponential Scheduling\n",
        "* lr = lr0 * 0.1**(epoch / s)"
      ],
      "metadata": {
        "id": "WAGAWJv1hBlC"
      }
    },
    {
      "cell_type": "code",
      "source": [
        "def exponential_decay_fn(epoch):\n",
        "    return 0.01 * 0.1**(epoch / 20)"
      ],
      "metadata": {
        "id": "8hFv39ZxhFDR"
      },
      "execution_count": 64,
      "outputs": []
    },
    {
      "cell_type": "code",
      "source": [
        "def exponential_decay(lr0, s):\n",
        "    def exponential_decay_fn(epoch):\n",
        "        return lr0 * 0.1**(epoch / s)\n",
        "    return exponential_decay_fn\n",
        "\n",
        "exponential_decay_fn = exponential_decay(lr0=0.01, s=20)"
      ],
      "metadata": {
        "id": "KsgM6r2ShILo"
      },
      "execution_count": 65,
      "outputs": []
    },
    {
      "cell_type": "code",
      "source": [
        "model = keras.models.Sequential([\n",
        "    keras.layers.Flatten(input_shape=[28, 28]),\n",
        "    keras.layers.Dense(300, activation=\"selu\", kernel_initializer=\"lecun_normal\"),\n",
        "    keras.layers.Dense(100, activation=\"selu\", kernel_initializer=\"lecun_normal\"),\n",
        "    keras.layers.Dense(10, activation=\"softmax\")\n",
        "])\n",
        "model.compile(loss=\"sparse_categorical_crossentropy\", optimizer=\"nadam\", metrics=[\"accuracy\"])\n",
        "n_epochs = 25"
      ],
      "metadata": {
        "id": "ADDNUWbfhJq_"
      },
      "execution_count": 66,
      "outputs": []
    },
    {
      "cell_type": "code",
      "source": [
        "lr_scheduler = keras.callbacks.LearningRateScheduler(exponential_decay_fn)\n",
        "history = model.fit(X_train_scaled, y_train, epochs=n_epochs,\n",
        "                    validation_data=(X_valid_scaled, y_valid),\n",
        "                    callbacks=[lr_scheduler])"
      ],
      "metadata": {
        "id": "mncCjnkChLPR",
        "colab": {
          "base_uri": "https://localhost:8080/"
        },
        "outputId": "1a55ba42-f422-4eb6-8311-32ceb8c4d3a9"
      },
      "execution_count": 67,
      "outputs": [
        {
          "output_type": "stream",
          "name": "stdout",
          "text": [
            "Epoch 1/25\n",
            "1719/1719 [==============================] - 8s 4ms/step - loss: 0.8553 - accuracy: 0.7520 - val_loss: 0.8148 - val_accuracy: 0.7606 - lr: 0.0100\n",
            "Epoch 2/25\n",
            "1719/1719 [==============================] - 7s 4ms/step - loss: 0.6708 - accuracy: 0.7975 - val_loss: 0.6270 - val_accuracy: 0.8050 - lr: 0.0089\n",
            "Epoch 3/25\n",
            "1719/1719 [==============================] - 7s 4ms/step - loss: 0.5758 - accuracy: 0.8210 - val_loss: 0.7486 - val_accuracy: 0.7726 - lr: 0.0079\n",
            "Epoch 4/25\n",
            "1719/1719 [==============================] - 7s 4ms/step - loss: 0.5436 - accuracy: 0.8319 - val_loss: 0.4777 - val_accuracy: 0.8560 - lr: 0.0071\n",
            "Epoch 5/25\n",
            "1719/1719 [==============================] - 7s 4ms/step - loss: 0.4844 - accuracy: 0.8470 - val_loss: 0.4761 - val_accuracy: 0.8704 - lr: 0.0063\n",
            "Epoch 6/25\n",
            "1719/1719 [==============================] - 7s 4ms/step - loss: 0.4440 - accuracy: 0.8593 - val_loss: 0.6010 - val_accuracy: 0.8604 - lr: 0.0056\n",
            "Epoch 7/25\n",
            "1719/1719 [==============================] - 7s 4ms/step - loss: 0.3999 - accuracy: 0.8727 - val_loss: 0.4788 - val_accuracy: 0.8574 - lr: 0.0050\n",
            "Epoch 8/25\n",
            "1719/1719 [==============================] - 7s 4ms/step - loss: 0.3843 - accuracy: 0.8729 - val_loss: 0.4829 - val_accuracy: 0.8436 - lr: 0.0045\n",
            "Epoch 9/25\n",
            "1719/1719 [==============================] - 7s 4ms/step - loss: 0.3435 - accuracy: 0.8860 - val_loss: 0.4548 - val_accuracy: 0.8630 - lr: 0.0040\n",
            "Epoch 10/25\n",
            "1719/1719 [==============================] - 7s 4ms/step - loss: 0.3204 - accuracy: 0.8939 - val_loss: 0.4655 - val_accuracy: 0.8774 - lr: 0.0035\n",
            "Epoch 11/25\n",
            "1719/1719 [==============================] - 7s 4ms/step - loss: 0.2978 - accuracy: 0.8987 - val_loss: 0.4347 - val_accuracy: 0.8796 - lr: 0.0032\n",
            "Epoch 12/25\n",
            "1719/1719 [==============================] - 7s 4ms/step - loss: 0.2769 - accuracy: 0.9067 - val_loss: 0.4958 - val_accuracy: 0.8630 - lr: 0.0028\n",
            "Epoch 13/25\n",
            "1719/1719 [==============================] - 7s 4ms/step - loss: 0.2602 - accuracy: 0.9112 - val_loss: 0.4787 - val_accuracy: 0.8834 - lr: 0.0025\n",
            "Epoch 14/25\n",
            "1719/1719 [==============================] - 7s 4ms/step - loss: 0.2415 - accuracy: 0.9169 - val_loss: 0.4992 - val_accuracy: 0.8840 - lr: 0.0022\n",
            "Epoch 15/25\n",
            "1719/1719 [==============================] - 7s 4ms/step - loss: 0.2246 - accuracy: 0.9237 - val_loss: 0.4458 - val_accuracy: 0.8810 - lr: 0.0020\n",
            "Epoch 16/25\n",
            "1719/1719 [==============================] - 7s 4ms/step - loss: 0.2039 - accuracy: 0.9278 - val_loss: 0.4509 - val_accuracy: 0.8858 - lr: 0.0018\n",
            "Epoch 17/25\n",
            "1719/1719 [==============================] - 7s 4ms/step - loss: 0.1931 - accuracy: 0.9322 - val_loss: 0.4810 - val_accuracy: 0.8836 - lr: 0.0016\n",
            "Epoch 18/25\n",
            "1719/1719 [==============================] - 7s 4ms/step - loss: 0.1793 - accuracy: 0.9380 - val_loss: 0.4913 - val_accuracy: 0.8856 - lr: 0.0014\n",
            "Epoch 19/25\n",
            "1719/1719 [==============================] - 7s 4ms/step - loss: 0.1677 - accuracy: 0.9424 - val_loss: 0.5491 - val_accuracy: 0.8882 - lr: 0.0013\n",
            "Epoch 20/25\n",
            "1719/1719 [==============================] - 7s 4ms/step - loss: 0.1572 - accuracy: 0.9455 - val_loss: 0.4802 - val_accuracy: 0.8872 - lr: 0.0011\n",
            "Epoch 21/25\n",
            "1719/1719 [==============================] - 7s 4ms/step - loss: 0.1449 - accuracy: 0.9498 - val_loss: 0.5268 - val_accuracy: 0.8882 - lr: 0.0010\n",
            "Epoch 22/25\n",
            "1719/1719 [==============================] - 7s 4ms/step - loss: 0.1366 - accuracy: 0.9528 - val_loss: 0.5726 - val_accuracy: 0.8910 - lr: 8.9125e-04\n",
            "Epoch 23/25\n",
            "1719/1719 [==============================] - 7s 4ms/step - loss: 0.1290 - accuracy: 0.9570 - val_loss: 0.6013 - val_accuracy: 0.8850 - lr: 7.9433e-04\n",
            "Epoch 24/25\n",
            "1719/1719 [==============================] - 7s 4ms/step - loss: 0.1197 - accuracy: 0.9603 - val_loss: 0.6284 - val_accuracy: 0.8904 - lr: 7.0795e-04\n",
            "Epoch 25/25\n",
            "1719/1719 [==============================] - 7s 4ms/step - loss: 0.1145 - accuracy: 0.9619 - val_loss: 0.6395 - val_accuracy: 0.8874 - lr: 6.3096e-04\n"
          ]
        }
      ]
    },
    {
      "cell_type": "code",
      "source": [
        "plt.plot(history.epoch, history.history[\"lr\"], \"o-\")\n",
        "plt.axis([0, n_epochs - 1, 0, 0.011])\n",
        "plt.xlabel(\"Epoch\")\n",
        "plt.ylabel(\"Learning Rate\")\n",
        "plt.title(\"Exponential Scheduling\", fontsize=14)\n",
        "plt.grid(True)\n",
        "plt.show()"
      ],
      "metadata": {
        "id": "a9e23Ts1hM3u",
        "colab": {
          "base_uri": "https://localhost:8080/",
          "height": 0
        },
        "outputId": "cae7a3af-c3d0-4b3e-e4e6-006166afb2e9"
      },
      "execution_count": 68,
      "outputs": [
        {
          "output_type": "display_data",
          "data": {
            "text/plain": [
              "<Figure size 432x288 with 1 Axes>"
            ],
            "image/png": "[encoded data removed]"
          },
          "metadata": {
            "needs_background": "light"
          }
        }
      ]
    },
    {
      "cell_type": "markdown",
      "source": [
        "Piecewise Constant Scheduling"
      ],
      "metadata": {
        "id": "scZHqpCzhTMI"
      }
    },
    {
      "cell_type": "code",
      "source": [
        "def piecewise_constant_fn(epoch):\n",
        "    if epoch < 5:\n",
        "        return 0.01\n",
        "    elif epoch < 15:\n",
        "        return 0.005\n",
        "    else:\n",
        "        return 0.001"
      ],
      "metadata": {
        "id": "e4cjDSdxhWU3"
      },
      "execution_count": 69,
      "outputs": []
    },
    {
      "cell_type": "code",
      "source": [
        "def piecewise_constant(boundaries, values):\n",
        "    boundaries = np.array([0] + boundaries)\n",
        "    values = np.array(values)\n",
        "    def piecewise_constant_fn(epoch):\n",
        "        return values[np.argmax(boundaries > epoch) - 1]\n",
        "    return piecewise_constant_fn\n",
        "\n",
        "piecewise_constant_fn = piecewise_constant([5, 15], [0.01, 0.005, 0.001])"
      ],
      "metadata": {
        "id": "OPVbvQtahXhy"
      },
      "execution_count": 70,
      "outputs": []
    },
    {
      "cell_type": "code",
      "source": [
        "lr_scheduler = keras.callbacks.LearningRateScheduler(piecewise_constant_fn)\n",
        "\n",
        "model = keras.models.Sequential([\n",
        "    keras.layers.Flatten(input_shape=[28, 28]),\n",
        "    keras.layers.Dense(300, activation=\"selu\", kernel_initializer=\"lecun_normal\"),\n",
        "    keras.layers.Dense(100, activation=\"selu\", kernel_initializer=\"lecun_normal\"),\n",
        "    keras.layers.Dense(10, activation=\"softmax\")\n",
        "])\n",
        "model.compile(loss=\"sparse_categorical_crossentropy\", optimizer=\"nadam\", metrics=[\"accuracy\"])\n",
        "n_epochs = 25\n",
        "history = model.fit(X_train_scaled, y_train, epochs=n_epochs,\n",
        "                    validation_data=(X_valid_scaled, y_valid),\n",
        "                    callbacks=[lr_scheduler])"
      ],
      "metadata": {
        "colab": {
          "base_uri": "https://localhost:8080/"
        },
        "id": "bhVL-mr_hZS-",
        "outputId": "210efa7b-0e73-4d28-a70c-8b2629418ffc"
      },
      "execution_count": 71,
      "outputs": [
        {
          "output_type": "stream",
          "name": "stdout",
          "text": [
            "Epoch 1/25\n",
            "1719/1719 [==============================] - 7s 4ms/step - loss: 0.8518 - accuracy: 0.7528 - val_loss: 0.7129 - val_accuracy: 0.7844 - lr: 0.0100\n",
            "Epoch 2/25\n",
            "1719/1719 [==============================] - 7s 4ms/step - loss: 1.0037 - accuracy: 0.7125 - val_loss: 0.9174 - val_accuracy: 0.7168 - lr: 0.0100\n",
            "Epoch 3/25\n",
            "1719/1719 [==============================] - 7s 4ms/step - loss: 0.8957 - accuracy: 0.7384 - val_loss: 1.6954 - val_accuracy: 0.5642 - lr: 0.0100\n",
            "Epoch 4/25\n",
            "1719/1719 [==============================] - 7s 4ms/step - loss: 0.9322 - accuracy: 0.7350 - val_loss: 0.9863 - val_accuracy: 0.6976 - lr: 0.0100\n",
            "Epoch 5/25\n",
            "1719/1719 [==============================] - 7s 4ms/step - loss: 0.9484 - accuracy: 0.6927 - val_loss: 1.0165 - val_accuracy: 0.6294 - lr: 0.0100\n",
            "Epoch 6/25\n",
            "1719/1719 [==============================] - 7s 4ms/step - loss: 0.7267 - accuracy: 0.7340 - val_loss: 0.7322 - val_accuracy: 0.7462 - lr: 0.0050\n",
            "Epoch 7/25\n",
            "1719/1719 [==============================] - 7s 4ms/step - loss: 0.6809 - accuracy: 0.7494 - val_loss: 0.7901 - val_accuracy: 0.7436 - lr: 0.0050\n",
            "Epoch 8/25\n",
            "1719/1719 [==============================] - 7s 4ms/step - loss: 0.6773 - accuracy: 0.7527 - val_loss: 0.8198 - val_accuracy: 0.7338 - lr: 0.0050\n",
            "Epoch 9/25\n",
            "1719/1719 [==============================] - 7s 4ms/step - loss: 0.6625 - accuracy: 0.7596 - val_loss: 0.8439 - val_accuracy: 0.7542 - lr: 0.0050\n",
            "Epoch 10/25\n",
            "1719/1719 [==============================] - 7s 4ms/step - loss: 0.6390 - accuracy: 0.7648 - val_loss: 0.7898 - val_accuracy: 0.7514 - lr: 0.0050\n",
            "Epoch 11/25\n",
            "1719/1719 [==============================] - 7s 4ms/step - loss: 0.6449 - accuracy: 0.7634 - val_loss: 0.7580 - val_accuracy: 0.7554 - lr: 0.0050\n",
            "Epoch 12/25\n",
            "1719/1719 [==============================] - 7s 4ms/step - loss: 0.6304 - accuracy: 0.7686 - val_loss: 0.7243 - val_accuracy: 0.7602 - lr: 0.0050\n",
            "Epoch 13/25\n",
            "1719/1719 [==============================] - 7s 4ms/step - loss: 0.6203 - accuracy: 0.7707 - val_loss: 0.8877 - val_accuracy: 0.7444 - lr: 0.0050\n",
            "Epoch 14/25\n",
            "1719/1719 [==============================] - 7s 4ms/step - loss: 0.6295 - accuracy: 0.7726 - val_loss: 0.7900 - val_accuracy: 0.7612 - lr: 0.0050\n",
            "Epoch 15/25\n",
            "1719/1719 [==============================] - 7s 4ms/step - loss: 0.6043 - accuracy: 0.7755 - val_loss: 0.8242 - val_accuracy: 0.7578 - lr: 0.0050\n",
            "Epoch 16/25\n",
            "1719/1719 [==============================] - 6s 4ms/step - loss: 0.4960 - accuracy: 0.7989 - val_loss: 0.6765 - val_accuracy: 0.7824 - lr: 0.0010\n",
            "Epoch 17/25\n",
            "1719/1719 [==============================] - 7s 4ms/step - loss: 0.4602 - accuracy: 0.8099 - val_loss: 0.6652 - val_accuracy: 0.7836 - lr: 0.0010\n",
            "Epoch 18/25\n",
            "1719/1719 [==============================] - 6s 4ms/step - loss: 0.4457 - accuracy: 0.8341 - val_loss: 0.5893 - val_accuracy: 0.8468 - lr: 0.0010\n",
            "Epoch 19/25\n",
            "1719/1719 [==============================] - 7s 4ms/step - loss: 0.3905 - accuracy: 0.8738 - val_loss: 0.5725 - val_accuracy: 0.8548 - lr: 0.0010\n",
            "Epoch 20/25\n",
            "1719/1719 [==============================] - 7s 4ms/step - loss: 0.3594 - accuracy: 0.8873 - val_loss: 0.5892 - val_accuracy: 0.8622 - lr: 0.0010\n",
            "Epoch 21/25\n",
            "1719/1719 [==============================] - 7s 4ms/step - loss: 0.3433 - accuracy: 0.8934 - val_loss: 0.5964 - val_accuracy: 0.8610 - lr: 0.0010\n",
            "Epoch 22/25\n",
            "1719/1719 [==============================] - 7s 4ms/step - loss: 0.3309 - accuracy: 0.8977 - val_loss: 0.5703 - val_accuracy: 0.8686 - lr: 0.0010\n",
            "Epoch 23/25\n",
            "1719/1719 [==============================] - 7s 4ms/step - loss: 0.3171 - accuracy: 0.9016 - val_loss: 0.5826 - val_accuracy: 0.8646 - lr: 0.0010\n",
            "Epoch 24/25\n",
            "1719/1719 [==============================] - 7s 4ms/step - loss: 0.3044 - accuracy: 0.9052 - val_loss: 0.5774 - val_accuracy: 0.8726 - lr: 0.0010\n",
            "Epoch 25/25\n",
            "1719/1719 [==============================] - 7s 4ms/step - loss: 0.3008 - accuracy: 0.9076 - val_loss: 0.5841 - val_accuracy: 0.8706 - lr: 0.0010\n"
          ]
        }
      ]
    },
    {
      "cell_type": "code",
      "source": [
        "plt.plot(history.epoch, [piecewise_constant_fn(epoch) for epoch in history.epoch], \"o-\")\n",
        "plt.axis([0, n_epochs - 1, 0, 0.011])\n",
        "plt.xlabel(\"Epoch\")\n",
        "plt.ylabel(\"Learning Rate\")\n",
        "plt.title(\"Piecewise Constant Scheduling\", fontsize=14)\n",
        "plt.grid(True)\n",
        "plt.show()"
      ],
      "metadata": {
        "colab": {
          "base_uri": "https://localhost:8080/",
          "height": 0
        },
        "id": "i2ST5QpThbYa",
        "outputId": "aa875633-9c53-4c36-a0c9-8c552eff746c"
      },
      "execution_count": 72,
      "outputs": [
        {
          "output_type": "display_data",
          "data": {
            "text/plain": [
              "<Figure size 432x288 with 1 Axes>"
            ],
            "image/png": "[encoded data removed]"
          },
          "metadata": {
            "needs_background": "light"
          }
        }
      ]
    },
    {
      "cell_type": "markdown",
      "source": [
        "Performance Scheduling"
      ],
      "metadata": {
        "id": "LpiLxbV-hdQ8"
      }
    },
    {
      "cell_type": "code",
      "source": [
        "lr_scheduler = keras.callbacks.ReduceLROnPlateau(factor=0.5, patience=5)\n",
        "\n",
        "model = keras.models.Sequential([\n",
        "    keras.layers.Flatten(input_shape=[28, 28]),\n",
        "    keras.layers.Dense(300, activation=\"selu\", kernel_initializer=\"lecun_normal\"),\n",
        "    keras.layers.Dense(100, activation=\"selu\", kernel_initializer=\"lecun_normal\"),\n",
        "    keras.layers.Dense(10, activation=\"softmax\")\n",
        "])\n",
        "optimizer = keras.optimizers.SGD(learning_rate=0.02, momentum=0.9)\n",
        "model.compile(loss=\"sparse_categorical_crossentropy\", optimizer=optimizer, metrics=[\"accuracy\"])\n",
        "n_epochs = 25\n",
        "history = model.fit(X_train_scaled, y_train, epochs=n_epochs,\n",
        "                    validation_data=(X_valid_scaled, y_valid),\n",
        "                    callbacks=[lr_scheduler])"
      ],
      "metadata": {
        "colab": {
          "base_uri": "https://localhost:8080/"
        },
        "id": "0CFF5rNihgAY",
        "outputId": "e14d9b41-24ed-4c4e-98fa-afaefd0e79c1"
      },
      "execution_count": 73,
      "outputs": [
        {
          "output_type": "stream",
          "name": "stdout",
          "text": [
            "Epoch 1/25\n",
            "1719/1719 [==============================] - 6s 3ms/step - loss: 0.6019 - accuracy: 0.8048 - val_loss: 0.5087 - val_accuracy: 0.8430 - lr: 0.0200\n",
            "Epoch 2/25\n",
            "1719/1719 [==============================] - 5s 3ms/step - loss: 0.4996 - accuracy: 0.8390 - val_loss: 0.6403 - val_accuracy: 0.8320 - lr: 0.0200\n",
            "Epoch 3/25\n",
            "1719/1719 [==============================] - 5s 3ms/step - loss: 0.5030 - accuracy: 0.8431 - val_loss: 0.5194 - val_accuracy: 0.8656 - lr: 0.0200\n",
            "Epoch 4/25\n",
            "1719/1719 [==============================] - 5s 3ms/step - loss: 0.5114 - accuracy: 0.8468 - val_loss: 0.4794 - val_accuracy: 0.8572 - lr: 0.0200\n",
            "Epoch 5/25\n",
            "1719/1719 [==============================] - 5s 3ms/step - loss: 0.5132 - accuracy: 0.8495 - val_loss: 0.5586 - val_accuracy: 0.8530 - lr: 0.0200\n",
            "Epoch 6/25\n",
            "1719/1719 [==============================] - 5s 3ms/step - loss: 0.4960 - accuracy: 0.8538 - val_loss: 0.5337 - val_accuracy: 0.8576 - lr: 0.0200\n",
            "Epoch 7/25\n",
            "1719/1719 [==============================] - 5s 3ms/step - loss: 0.5289 - accuracy: 0.8531 - val_loss: 0.7261 - val_accuracy: 0.8272 - lr: 0.0200\n",
            "Epoch 8/25\n",
            "1719/1719 [==============================] - 5s 3ms/step - loss: 0.5217 - accuracy: 0.8565 - val_loss: 0.9414 - val_accuracy: 0.7808 - lr: 0.0200\n",
            "Epoch 9/25\n",
            "1719/1719 [==============================] - 5s 3ms/step - loss: 0.5314 - accuracy: 0.8549 - val_loss: 0.5795 - val_accuracy: 0.8518 - lr: 0.0200\n",
            "Epoch 10/25\n",
            "1719/1719 [==============================] - 5s 3ms/step - loss: 0.2959 - accuracy: 0.8979 - val_loss: 0.3942 - val_accuracy: 0.8870 - lr: 0.0100\n",
            "Epoch 11/25\n",
            "1719/1719 [==============================] - 5s 3ms/step - loss: 0.2449 - accuracy: 0.9113 - val_loss: 0.4149 - val_accuracy: 0.8888 - lr: 0.0100\n",
            "Epoch 12/25\n",
            "1719/1719 [==============================] - 5s 3ms/step - loss: 0.2316 - accuracy: 0.9167 - val_loss: 0.4628 - val_accuracy: 0.8734 - lr: 0.0100\n",
            "Epoch 13/25\n",
            "1719/1719 [==============================] - 5s 3ms/step - loss: 0.2146 - accuracy: 0.9211 - val_loss: 0.4224 - val_accuracy: 0.8938 - lr: 0.0100\n",
            "Epoch 14/25\n",
            "1719/1719 [==============================] - 5s 3ms/step - loss: 0.1996 - accuracy: 0.9248 - val_loss: 0.4524 - val_accuracy: 0.8824 - lr: 0.0100\n",
            "Epoch 15/25\n",
            "1719/1719 [==============================] - 5s 3ms/step - loss: 0.1941 - accuracy: 0.9281 - val_loss: 0.4389 - val_accuracy: 0.8824 - lr: 0.0100\n",
            "Epoch 16/25\n",
            "1719/1719 [==============================] - 5s 3ms/step - loss: 0.1358 - accuracy: 0.9466 - val_loss: 0.4305 - val_accuracy: 0.8968 - lr: 0.0050\n",
            "Epoch 17/25\n",
            "1719/1719 [==============================] - 5s 3ms/step - loss: 0.1221 - accuracy: 0.9520 - val_loss: 0.4381 - val_accuracy: 0.8952 - lr: 0.0050\n",
            "Epoch 18/25\n",
            "1719/1719 [==============================] - 5s 3ms/step - loss: 0.1143 - accuracy: 0.9551 - val_loss: 0.4597 - val_accuracy: 0.8962 - lr: 0.0050\n",
            "Epoch 19/25\n",
            "1719/1719 [==============================] - 5s 3ms/step - loss: 0.1080 - accuracy: 0.9576 - val_loss: 0.4546 - val_accuracy: 0.8988 - lr: 0.0050\n",
            "Epoch 20/25\n",
            "1719/1719 [==============================] - 5s 3ms/step - loss: 0.1014 - accuracy: 0.9610 - val_loss: 0.4878 - val_accuracy: 0.8916 - lr: 0.0050\n",
            "Epoch 21/25\n",
            "1719/1719 [==============================] - 5s 3ms/step - loss: 0.0815 - accuracy: 0.9684 - val_loss: 0.4970 - val_accuracy: 0.8980 - lr: 0.0025\n",
            "Epoch 22/25\n",
            "1719/1719 [==============================] - 5s 3ms/step - loss: 0.0762 - accuracy: 0.9709 - val_loss: 0.5156 - val_accuracy: 0.8974 - lr: 0.0025\n",
            "Epoch 23/25\n",
            "1719/1719 [==============================] - 5s 3ms/step - loss: 0.0728 - accuracy: 0.9724 - val_loss: 0.5127 - val_accuracy: 0.8962 - lr: 0.0025\n",
            "Epoch 24/25\n",
            "1719/1719 [==============================] - 5s 3ms/step - loss: 0.0688 - accuracy: 0.9746 - val_loss: 0.5411 - val_accuracy: 0.8952 - lr: 0.0025\n",
            "Epoch 25/25\n",
            "1719/1719 [==============================] - 5s 3ms/step - loss: 0.0662 - accuracy: 0.9757 - val_loss: 0.5410 - val_accuracy: 0.8950 - lr: 0.0025\n"
          ]
        }
      ]
    },
    {
      "cell_type": "code",
      "source": [
        "plt.plot(history.epoch, history.history[\"lr\"], \"bo-\")\n",
        "plt.xlabel(\"Epoch\")\n",
        "plt.ylabel(\"Learning Rate\", color='b')\n",
        "plt.tick_params('y', colors='b')\n",
        "plt.gca().set_xlim(0, n_epochs - 1)\n",
        "plt.grid(True)\n",
        "\n",
        "ax2 = plt.gca().twinx()\n",
        "ax2.plot(history.epoch, history.history[\"val_loss\"], \"r^-\")\n",
        "ax2.set_ylabel('Validation Loss', color='r')\n",
        "ax2.tick_params('y', colors='r')\n",
        "\n",
        "plt.title(\"Reduce LR on Plateau\", fontsize=14)\n",
        "plt.show()"
      ],
      "metadata": {
        "colab": {
          "base_uri": "https://localhost:8080/",
          "height": 0
        },
        "id": "g03H1rtDhi20",
        "outputId": "6068895d-d1c7-4236-bc6e-bed58c540b43"
      },
      "execution_count": 74,
      "outputs": [
        {
          "output_type": "display_data",
          "data": {
            "text/plain": [
              "<Figure size 432x288 with 2 Axes>"
            ],
            "image/png": "[encoded data removed]"
          },
          "metadata": {
            "needs_background": "light"
          }
        }
      ]
    },
    {
      "cell_type": "markdown",
      "source": [
        "### (b)"
      ],
      "metadata": {
        "id": "B80_WXUtu9Qv"
      }
    },
    {
      "cell_type": "markdown",
      "metadata": {
        "id": "y7fzLKnio3Co"
      },
      "source": [
        "a"
      ]
    },
    {
      "cell_type": "code",
      "execution_count": 75,
      "metadata": {
        "id": "mHfn1rVKo3Co"
      },
      "outputs": [],
      "source": [
        "keras.backend.clear_session()\n",
        "tf.random.set_seed(42)\n",
        "np.random.seed(42)\n",
        "\n",
        "model = keras.models.Sequential()\n",
        "model.add(keras.layers.Flatten(input_shape=[32, 32, 3]))\n",
        "for _ in range(20):\n",
        "    model.add(keras.layers.Dense(100,\n",
        "                                 activation=\"elu\",\n",
        "                                 kernel_initializer=\"he_normal\"))"
      ]
    },
    {
      "cell_type": "markdown",
      "metadata": {
        "id": "GrIP7Utyo3Co"
      },
      "source": [
        "b"
      ]
    },
    {
      "cell_type": "code",
      "execution_count": 76,
      "metadata": {
        "id": "5SUEoiWTo3Cp"
      },
      "outputs": [],
      "source": [
        "model.add(keras.layers.Dense(10, activation=\"softmax\"))"
      ]
    },
    {
      "cell_type": "code",
      "execution_count": 77,
      "metadata": {
        "id": "GDLdEJ83o3Cp"
      },
      "outputs": [],
      "source": [
        "optimizer = tf.keras.optimizers.Nadam(learning_rate=5e-5)\n",
        "model.compile(loss=\"sparse_categorical_crossentropy\",\n",
        "              optimizer=optimizer,\n",
        "              metrics=[\"accuracy\"])"
      ]
    },
    {
      "cell_type": "code",
      "execution_count": 78,
      "metadata": {
        "id": "JLSMQL3vo3Cp",
        "colab": {
          "base_uri": "https://localhost:8080/"
        },
        "outputId": "cc77c4f3-a47c-4afb-80a8-12867e3613f0"
      },
      "outputs": [
        {
          "output_type": "stream",
          "name": "stdout",
          "text": [
            "Downloading data from https://www.cs.toronto.edu/~kriz/cifar-10-python.tar.gz\n",
            "170498071/170498071 [==============================] - 6s 0us/step\n"
          ]
        }
      ],
      "source": [
        "(X_train_full, y_train_full), (X_test, y_test) = keras.datasets.cifar10.load_data()\n",
        "\n",
        "X_train = X_train_full[5000:]\n",
        "y_train = y_train_full[5000:]\n",
        "X_valid = X_train_full[:5000]\n",
        "y_valid = y_train_full[:5000]"
      ]
    },
    {
      "cell_type": "code",
      "execution_count": 79,
      "metadata": {
        "id": "xnDYgjUJo3Cq"
      },
      "outputs": [],
      "source": [
        "early_stopping_cb = tf.keras.callbacks.EarlyStopping(patience=20)\n",
        "model_checkpoint_cb = tf.keras.callbacks.ModelCheckpoint(\"my_cifar10_model.h5\", save_best_only=True)\n",
        "callbacks = [early_stopping_cb, model_checkpoint_cb]"
      ]
    },
    {
      "cell_type": "code",
      "execution_count": 80,
      "metadata": {
        "id": "iyHwjXe1o3Cq",
        "outputId": "d5eb0fca-3290-4b39-ec19-d74962e532f1",
        "colab": {
          "base_uri": "https://localhost:8080/"
        }
      },
      "outputs": [
        {
          "output_type": "stream",
          "name": "stdout",
          "text": [
            "Epoch 1/100\n",
            "1407/1407 [==============================] - 17s 10ms/step - loss: 3.9957 - accuracy: 0.1616 - val_loss: 2.1968 - val_accuracy: 0.2174\n",
            "Epoch 2/100\n",
            "1407/1407 [==============================] - 14s 10ms/step - loss: 2.0816 - accuracy: 0.2422 - val_loss: 2.1323 - val_accuracy: 0.2338\n",
            "Epoch 3/100\n",
            "1407/1407 [==============================] - 14s 10ms/step - loss: 1.9570 - accuracy: 0.2834 - val_loss: 2.1182 - val_accuracy: 0.2330\n",
            "Epoch 4/100\n",
            "1407/1407 [==============================] - 14s 10ms/step - loss: 1.8650 - accuracy: 0.3224 - val_loss: 1.8796 - val_accuracy: 0.3312\n",
            "Epoch 5/100\n",
            "1407/1407 [==============================] - 19s 13ms/step - loss: 1.7973 - accuracy: 0.3447 - val_loss: 1.8207 - val_accuracy: 0.3326\n",
            "Epoch 6/100\n",
            "1407/1407 [==============================] - 16s 11ms/step - loss: 1.7407 - accuracy: 0.3687 - val_loss: 1.7318 - val_accuracy: 0.3788\n",
            "Epoch 7/100\n",
            "1407/1407 [==============================] - 14s 10ms/step - loss: 1.6948 - accuracy: 0.3878 - val_loss: 1.7192 - val_accuracy: 0.3758\n",
            "Epoch 8/100\n",
            "1407/1407 [==============================] - 14s 10ms/step - loss: 1.6603 - accuracy: 0.3993 - val_loss: 1.6704 - val_accuracy: 0.3948\n",
            "Epoch 9/100\n",
            "1407/1407 [==============================] - 14s 10ms/step - loss: 1.6298 - accuracy: 0.4098 - val_loss: 1.6455 - val_accuracy: 0.4052\n",
            "Epoch 10/100\n",
            "1407/1407 [==============================] - 15s 11ms/step - loss: 1.6079 - accuracy: 0.4182 - val_loss: 1.6648 - val_accuracy: 0.3900\n",
            "Epoch 11/100\n",
            "1407/1407 [==============================] - 14s 10ms/step - loss: 1.5870 - accuracy: 0.4282 - val_loss: 1.6702 - val_accuracy: 0.3934\n",
            "Epoch 12/100\n",
            "1407/1407 [==============================] - 14s 10ms/step - loss: 1.5622 - accuracy: 0.4361 - val_loss: 1.6567 - val_accuracy: 0.4030\n",
            "Epoch 13/100\n",
            "1407/1407 [==============================] - 14s 10ms/step - loss: 1.5462 - accuracy: 0.4424 - val_loss: 1.5990 - val_accuracy: 0.4216\n",
            "Epoch 14/100\n",
            "1407/1407 [==============================] - 14s 10ms/step - loss: 1.5293 - accuracy: 0.4474 - val_loss: 1.6239 - val_accuracy: 0.4092\n",
            "Epoch 15/100\n",
            "1407/1407 [==============================] - 14s 10ms/step - loss: 1.5152 - accuracy: 0.4546 - val_loss: 1.6118 - val_accuracy: 0.4232\n",
            "Epoch 16/100\n",
            "1407/1407 [==============================] - 14s 10ms/step - loss: 1.5006 - accuracy: 0.4614 - val_loss: 1.5831 - val_accuracy: 0.4316\n",
            "Epoch 17/100\n",
            "1407/1407 [==============================] - 14s 10ms/step - loss: 1.4883 - accuracy: 0.4653 - val_loss: 1.5661 - val_accuracy: 0.4390\n",
            "Epoch 18/100\n",
            "1407/1407 [==============================] - 14s 10ms/step - loss: 1.4749 - accuracy: 0.4705 - val_loss: 1.5714 - val_accuracy: 0.4378\n",
            "Epoch 19/100\n",
            "1407/1407 [==============================] - 14s 10ms/step - loss: 1.4597 - accuracy: 0.4739 - val_loss: 1.5698 - val_accuracy: 0.4372\n",
            "Epoch 20/100\n",
            "1407/1407 [==============================] - 14s 10ms/step - loss: 1.4475 - accuracy: 0.4779 - val_loss: 1.5854 - val_accuracy: 0.4338\n",
            "Epoch 21/100\n",
            "1407/1407 [==============================] - 14s 10ms/step - loss: 1.4393 - accuracy: 0.4822 - val_loss: 1.5672 - val_accuracy: 0.4442\n",
            "Epoch 22/100\n",
            "1407/1407 [==============================] - 14s 10ms/step - loss: 1.4282 - accuracy: 0.4882 - val_loss: 1.5399 - val_accuracy: 0.4472\n",
            "Epoch 23/100\n",
            "1407/1407 [==============================] - 14s 10ms/step - loss: 1.4139 - accuracy: 0.4940 - val_loss: 1.5681 - val_accuracy: 0.4352\n",
            "Epoch 24/100\n",
            "1407/1407 [==============================] - 14s 10ms/step - loss: 1.4018 - accuracy: 0.4944 - val_loss: 1.5747 - val_accuracy: 0.4394\n",
            "Epoch 25/100\n",
            "1407/1407 [==============================] - 14s 10ms/step - loss: 1.3901 - accuracy: 0.5003 - val_loss: 1.5316 - val_accuracy: 0.4502\n",
            "Epoch 26/100\n",
            "1407/1407 [==============================] - 14s 10ms/step - loss: 1.3829 - accuracy: 0.5011 - val_loss: 1.5684 - val_accuracy: 0.4346\n",
            "Epoch 27/100\n",
            "1407/1407 [==============================] - 14s 10ms/step - loss: 1.3712 - accuracy: 0.5054 - val_loss: 1.5443 - val_accuracy: 0.4464\n",
            "Epoch 28/100\n",
            "1407/1407 [==============================] - 14s 10ms/step - loss: 1.3612 - accuracy: 0.5101 - val_loss: 1.5416 - val_accuracy: 0.4508\n",
            "Epoch 29/100\n",
            "1407/1407 [==============================] - 14s 10ms/step - loss: 1.3548 - accuracy: 0.5131 - val_loss: 1.5355 - val_accuracy: 0.4566\n",
            "Epoch 30/100\n",
            "1407/1407 [==============================] - 15s 10ms/step - loss: 1.3408 - accuracy: 0.5181 - val_loss: 1.5894 - val_accuracy: 0.4422\n",
            "Epoch 31/100\n",
            "1407/1407 [==============================] - 14s 10ms/step - loss: 1.3364 - accuracy: 0.5186 - val_loss: 1.5767 - val_accuracy: 0.4470\n",
            "Epoch 32/100\n",
            "1407/1407 [==============================] - 14s 10ms/step - loss: 1.3273 - accuracy: 0.5210 - val_loss: 1.5354 - val_accuracy: 0.4624\n",
            "Epoch 33/100\n",
            "1407/1407 [==============================] - 14s 10ms/step - loss: 1.3194 - accuracy: 0.5253 - val_loss: 1.5250 - val_accuracy: 0.4616\n",
            "Epoch 34/100\n",
            "1407/1407 [==============================] - 14s 10ms/step - loss: 1.3092 - accuracy: 0.5295 - val_loss: 1.5455 - val_accuracy: 0.4644\n",
            "Epoch 35/100\n",
            "1407/1407 [==============================] - 14s 10ms/step - loss: 1.3023 - accuracy: 0.5319 - val_loss: 1.5434 - val_accuracy: 0.4566\n",
            "Epoch 36/100\n",
            "1407/1407 [==============================] - 14s 10ms/step - loss: 1.2932 - accuracy: 0.5338 - val_loss: 1.5433 - val_accuracy: 0.4556\n",
            "Epoch 37/100\n",
            "1407/1407 [==============================] - 14s 10ms/step - loss: 1.2804 - accuracy: 0.5384 - val_loss: 1.5370 - val_accuracy: 0.4628\n",
            "Epoch 38/100\n",
            "1407/1407 [==============================] - 14s 10ms/step - loss: 1.2768 - accuracy: 0.5400 - val_loss: 1.5559 - val_accuracy: 0.4556\n",
            "Epoch 39/100\n",
            "1407/1407 [==============================] - 14s 10ms/step - loss: 1.2662 - accuracy: 0.5431 - val_loss: 1.5482 - val_accuracy: 0.4648\n",
            "Epoch 40/100\n",
            "1407/1407 [==============================] - 14s 10ms/step - loss: 1.2596 - accuracy: 0.5456 - val_loss: 1.5496 - val_accuracy: 0.4638\n",
            "Epoch 41/100\n",
            "1407/1407 [==============================] - 14s 10ms/step - loss: 1.2547 - accuracy: 0.5479 - val_loss: 1.5369 - val_accuracy: 0.4634\n",
            "Epoch 42/100\n",
            "1407/1407 [==============================] - 14s 10ms/step - loss: 1.2469 - accuracy: 0.5520 - val_loss: 1.5446 - val_accuracy: 0.4706\n",
            "Epoch 43/100\n",
            "1407/1407 [==============================] - 14s 10ms/step - loss: 1.2370 - accuracy: 0.5550 - val_loss: 1.5506 - val_accuracy: 0.4660\n",
            "Epoch 44/100\n",
            "1407/1407 [==============================] - 14s 10ms/step - loss: 1.2286 - accuracy: 0.5572 - val_loss: 1.5307 - val_accuracy: 0.4656\n",
            "Epoch 45/100\n",
            "1407/1407 [==============================] - 14s 10ms/step - loss: 1.2203 - accuracy: 0.5604 - val_loss: 1.5264 - val_accuracy: 0.4716\n",
            "Epoch 46/100\n",
            "1407/1407 [==============================] - 14s 10ms/step - loss: 1.2162 - accuracy: 0.5616 - val_loss: 1.5527 - val_accuracy: 0.4676\n",
            "Epoch 47/100\n",
            "1407/1407 [==============================] - 14s 10ms/step - loss: 1.2069 - accuracy: 0.5630 - val_loss: 1.5372 - val_accuracy: 0.4650\n",
            "Epoch 48/100\n",
            "1407/1407 [==============================] - 14s 10ms/step - loss: 1.2010 - accuracy: 0.5688 - val_loss: 1.5579 - val_accuracy: 0.4664\n",
            "Epoch 49/100\n",
            "1407/1407 [==============================] - 14s 10ms/step - loss: 1.1917 - accuracy: 0.5698 - val_loss: 1.5387 - val_accuracy: 0.4698\n",
            "Epoch 50/100\n",
            "1407/1407 [==============================] - 14s 10ms/step - loss: 1.1865 - accuracy: 0.5710 - val_loss: 1.5548 - val_accuracy: 0.4722\n",
            "Epoch 51/100\n",
            "1407/1407 [==============================] - 14s 10ms/step - loss: 1.1778 - accuracy: 0.5769 - val_loss: 1.5509 - val_accuracy: 0.4710\n",
            "Epoch 52/100\n",
            "1407/1407 [==============================] - 14s 10ms/step - loss: 1.1737 - accuracy: 0.5766 - val_loss: 1.5690 - val_accuracy: 0.4656\n",
            "Epoch 53/100\n",
            "1407/1407 [==============================] - 15s 11ms/step - loss: 1.1664 - accuracy: 0.5788 - val_loss: 1.5419 - val_accuracy: 0.4706\n"
          ]
        },
        {
          "output_type": "execute_result",
          "data": {
            "text/plain": [
              "<keras.callbacks.History at 0x7f0d138ff250>"
            ]
          },
          "metadata": {},
          "execution_count": 80
        }
      ],
      "source": [
        "model.fit(X_train, y_train, epochs=100,\n",
        "          validation_data=(X_valid, y_valid),\n",
        "          callbacks=callbacks)"
      ]
    },
    {
      "cell_type": "code",
      "execution_count": 81,
      "metadata": {
        "id": "2dDatiGwo3Cr",
        "colab": {
          "base_uri": "https://localhost:8080/"
        },
        "outputId": "b4b9abc9-6936-469e-80d7-7e4866b32ab1"
      },
      "outputs": [
        {
          "output_type": "stream",
          "name": "stdout",
          "text": [
            "157/157 [==============================] - 1s 3ms/step - loss: 1.5250 - accuracy: 0.4616\n"
          ]
        },
        {
          "output_type": "execute_result",
          "data": {
            "text/plain": [
              "[1.5249661207199097, 0.46160000562667847]"
            ]
          },
          "metadata": {},
          "execution_count": 81
        }
      ],
      "source": [
        "model = keras.models.load_model(\"my_cifar10_model.h5\")\n",
        "model.evaluate(X_valid, y_valid)"
      ]
    },
    {
      "cell_type": "markdown",
      "metadata": {
        "id": "VFp8H4fUo3Cr"
      },
      "source": [
        "c"
      ]
    },
    {
      "cell_type": "code",
      "execution_count": 82,
      "metadata": {
        "id": "nqJi0p5Qo3Cr",
        "colab": {
          "base_uri": "https://localhost:8080/"
        },
        "outputId": "88d32f68-a46f-45fe-d8c6-c9e1ee94553b"
      },
      "outputs": [
        {
          "output_type": "stream",
          "name": "stdout",
          "text": [
            "Epoch 1/100\n",
            "1407/1407 [==============================] - 49s 29ms/step - loss: 1.8412 - accuracy: 0.3395 - val_loss: 1.7566 - val_accuracy: 0.3660\n",
            "Epoch 2/100\n",
            "1407/1407 [==============================] - 40s 28ms/step - loss: 1.6649 - accuracy: 0.4074 - val_loss: 1.6292 - val_accuracy: 0.4238\n",
            "Epoch 3/100\n",
            "1407/1407 [==============================] - 40s 28ms/step - loss: 1.5942 - accuracy: 0.4330 - val_loss: 1.5355 - val_accuracy: 0.4478\n",
            "Epoch 4/100\n",
            "1407/1407 [==============================] - 40s 28ms/step - loss: 1.5472 - accuracy: 0.4508 - val_loss: 1.5073 - val_accuracy: 0.4614\n",
            "Epoch 5/100\n",
            "1407/1407 [==============================] - 40s 29ms/step - loss: 1.5020 - accuracy: 0.4659 - val_loss: 1.4456 - val_accuracy: 0.4826\n",
            "Epoch 6/100\n",
            "1407/1407 [==============================] - 41s 29ms/step - loss: 1.4645 - accuracy: 0.4796 - val_loss: 1.4171 - val_accuracy: 0.4908\n",
            "Epoch 7/100\n",
            "1407/1407 [==============================] - 40s 29ms/step - loss: 1.4302 - accuracy: 0.4922 - val_loss: 1.4193 - val_accuracy: 0.4886\n",
            "Epoch 8/100\n",
            "1407/1407 [==============================] - 40s 28ms/step - loss: 1.4028 - accuracy: 0.5041 - val_loss: 1.3877 - val_accuracy: 0.5048\n",
            "Epoch 9/100\n",
            "1407/1407 [==============================] - 40s 28ms/step - loss: 1.3803 - accuracy: 0.5120 - val_loss: 1.3808 - val_accuracy: 0.5106\n",
            "Epoch 10/100\n",
            "1407/1407 [==============================] - 38s 27ms/step - loss: 1.3585 - accuracy: 0.5170 - val_loss: 1.3519 - val_accuracy: 0.5174\n",
            "Epoch 11/100\n",
            "1407/1407 [==============================] - 39s 28ms/step - loss: 1.3388 - accuracy: 0.5261 - val_loss: 1.3364 - val_accuracy: 0.5292\n",
            "Epoch 12/100\n",
            "1407/1407 [==============================] - 38s 27ms/step - loss: 1.3149 - accuracy: 0.5351 - val_loss: 1.3704 - val_accuracy: 0.5072\n",
            "Epoch 13/100\n",
            "1407/1407 [==============================] - 38s 27ms/step - loss: 1.2986 - accuracy: 0.5406 - val_loss: 1.3596 - val_accuracy: 0.5214\n",
            "Epoch 14/100\n",
            "1407/1407 [==============================] - 37s 27ms/step - loss: 1.2810 - accuracy: 0.5481 - val_loss: 1.3391 - val_accuracy: 0.5310\n",
            "Epoch 15/100\n",
            "1407/1407 [==============================] - 37s 26ms/step - loss: 1.2604 - accuracy: 0.5563 - val_loss: 1.3585 - val_accuracy: 0.5238\n",
            "Epoch 16/100\n",
            "1407/1407 [==============================] - 37s 26ms/step - loss: 1.2516 - accuracy: 0.5592 - val_loss: 1.3505 - val_accuracy: 0.5246\n",
            "Epoch 17/100\n",
            "1407/1407 [==============================] - 37s 26ms/step - loss: 1.2335 - accuracy: 0.5647 - val_loss: 1.3283 - val_accuracy: 0.5354\n",
            "Epoch 18/100\n",
            "1407/1407 [==============================] - 36s 26ms/step - loss: 1.2151 - accuracy: 0.5712 - val_loss: 1.3338 - val_accuracy: 0.5340\n",
            "Epoch 19/100\n",
            "1407/1407 [==============================] - 36s 26ms/step - loss: 1.2038 - accuracy: 0.5745 - val_loss: 1.3348 - val_accuracy: 0.5322\n",
            "Epoch 20/100\n",
            "1407/1407 [==============================] - 36s 25ms/step - loss: 1.1923 - accuracy: 0.5814 - val_loss: 1.3538 - val_accuracy: 0.5266\n",
            "Epoch 21/100\n",
            "1407/1407 [==============================] - 36s 26ms/step - loss: 1.1776 - accuracy: 0.5852 - val_loss: 1.3492 - val_accuracy: 0.5402\n",
            "Epoch 22/100\n",
            "1407/1407 [==============================] - 37s 26ms/step - loss: 1.1601 - accuracy: 0.5910 - val_loss: 1.3244 - val_accuracy: 0.5434\n",
            "Epoch 23/100\n",
            "1407/1407 [==============================] - 39s 28ms/step - loss: 1.1513 - accuracy: 0.5952 - val_loss: 1.3166 - val_accuracy: 0.5406\n",
            "Epoch 24/100\n",
            "1407/1407 [==============================] - 38s 27ms/step - loss: 1.1378 - accuracy: 0.5993 - val_loss: 1.3249 - val_accuracy: 0.5452\n",
            "Epoch 25/100\n",
            "1407/1407 [==============================] - 36s 25ms/step - loss: 1.1240 - accuracy: 0.6050 - val_loss: 1.3175 - val_accuracy: 0.5448\n",
            "Epoch 26/100\n",
            "1407/1407 [==============================] - 36s 25ms/step - loss: 1.1092 - accuracy: 0.6105 - val_loss: 1.3299 - val_accuracy: 0.5400\n",
            "Epoch 27/100\n",
            "1407/1407 [==============================] - 36s 25ms/step - loss: 1.0976 - accuracy: 0.6161 - val_loss: 1.3297 - val_accuracy: 0.5418\n",
            "Epoch 28/100\n",
            "1407/1407 [==============================] - 37s 27ms/step - loss: 1.0938 - accuracy: 0.6182 - val_loss: 1.3095 - val_accuracy: 0.5474\n",
            "Epoch 29/100\n",
            "1407/1407 [==============================] - 36s 26ms/step - loss: 1.0871 - accuracy: 0.6180 - val_loss: 1.3206 - val_accuracy: 0.5410\n",
            "Epoch 30/100\n",
            "1407/1407 [==============================] - 37s 26ms/step - loss: 1.0730 - accuracy: 0.6212 - val_loss: 1.3282 - val_accuracy: 0.5390\n",
            "Epoch 31/100\n",
            "1407/1407 [==============================] - 35s 25ms/step - loss: 1.0581 - accuracy: 0.6277 - val_loss: 1.3483 - val_accuracy: 0.5392\n",
            "Epoch 32/100\n",
            "1407/1407 [==============================] - 36s 26ms/step - loss: 1.0493 - accuracy: 0.6301 - val_loss: 1.3426 - val_accuracy: 0.5456\n",
            "Epoch 33/100\n",
            "1407/1407 [==============================] - 40s 28ms/step - loss: 1.0370 - accuracy: 0.6355 - val_loss: 1.3489 - val_accuracy: 0.5478\n",
            "Epoch 34/100\n",
            "1407/1407 [==============================] - 39s 28ms/step - loss: 1.0290 - accuracy: 0.6374 - val_loss: 1.3378 - val_accuracy: 0.5524\n",
            "Epoch 35/100\n",
            "1407/1407 [==============================] - 39s 28ms/step - loss: 1.0207 - accuracy: 0.6390 - val_loss: 1.3520 - val_accuracy: 0.5440\n",
            "Epoch 36/100\n",
            "1407/1407 [==============================] - 40s 28ms/step - loss: 1.0124 - accuracy: 0.6447 - val_loss: 1.3522 - val_accuracy: 0.5498\n",
            "Epoch 37/100\n",
            "1407/1407 [==============================] - 40s 28ms/step - loss: 0.9998 - accuracy: 0.6472 - val_loss: 1.3674 - val_accuracy: 0.5454\n",
            "Epoch 38/100\n",
            "1407/1407 [==============================] - 40s 28ms/step - loss: 0.9941 - accuracy: 0.6511 - val_loss: 1.3549 - val_accuracy: 0.5432\n",
            "Epoch 39/100\n",
            "1407/1407 [==============================] - 38s 27ms/step - loss: 0.9785 - accuracy: 0.6564 - val_loss: 1.3800 - val_accuracy: 0.5380\n",
            "Epoch 40/100\n",
            "1407/1407 [==============================] - 39s 28ms/step - loss: 0.9749 - accuracy: 0.6593 - val_loss: 1.3608 - val_accuracy: 0.5440\n",
            "Epoch 41/100\n",
            "1407/1407 [==============================] - 40s 28ms/step - loss: 0.9673 - accuracy: 0.6606 - val_loss: 1.3457 - val_accuracy: 0.5536\n",
            "Epoch 42/100\n",
            "1407/1407 [==============================] - 40s 28ms/step - loss: 0.9581 - accuracy: 0.6650 - val_loss: 1.3525 - val_accuracy: 0.5434\n",
            "Epoch 43/100\n",
            "1407/1407 [==============================] - 37s 26ms/step - loss: 0.9538 - accuracy: 0.6660 - val_loss: 1.3819 - val_accuracy: 0.5390\n",
            "Epoch 44/100\n",
            "1407/1407 [==============================] - 38s 27ms/step - loss: 0.9418 - accuracy: 0.6685 - val_loss: 1.3848 - val_accuracy: 0.5310\n",
            "Epoch 45/100\n",
            "1407/1407 [==============================] - 39s 27ms/step - loss: 0.9326 - accuracy: 0.6741 - val_loss: 1.3612 - val_accuracy: 0.5482\n",
            "Epoch 46/100\n",
            "1407/1407 [==============================] - 38s 27ms/step - loss: 0.9290 - accuracy: 0.6757 - val_loss: 1.3854 - val_accuracy: 0.5414\n",
            "Epoch 47/100\n",
            "1407/1407 [==============================] - 39s 28ms/step - loss: 0.9139 - accuracy: 0.6779 - val_loss: 1.4172 - val_accuracy: 0.5316\n",
            "Epoch 48/100\n",
            "1407/1407 [==============================] - 40s 28ms/step - loss: 0.9122 - accuracy: 0.6795 - val_loss: 1.3860 - val_accuracy: 0.5356\n",
            "157/157 [==============================] - 1s 5ms/step - loss: 1.3095 - accuracy: 0.5474\n"
          ]
        },
        {
          "output_type": "execute_result",
          "data": {
            "text/plain": [
              "[1.3095154762268066, 0.5473999977111816]"
            ]
          },
          "metadata": {},
          "execution_count": 82
        }
      ],
      "source": [
        "keras.backend.clear_session()\n",
        "tf.random.set_seed(42)\n",
        "np.random.seed(42)\n",
        "\n",
        "model = keras.models.Sequential()\n",
        "model.add(keras.layers.Flatten(input_shape=[32, 32, 3]))\n",
        "model.add(keras.layers.BatchNormalization())\n",
        "for _ in range(20):\n",
        "    model.add(keras.layers.Dense(100, kernel_initializer=\"he_normal\"))\n",
        "    model.add(keras.layers.BatchNormalization())\n",
        "    model.add(keras.layers.Activation(\"elu\"))\n",
        "model.add(keras.layers.Dense(10, activation=\"softmax\"))\n",
        "\n",
        "optimizer = tf.keras.optimizers.Nadam(learning_rate=5e-4)\n",
        "model.compile(loss=\"sparse_categorical_crossentropy\",\n",
        "              optimizer=optimizer,\n",
        "              metrics=[\"accuracy\"])\n",
        "\n",
        "early_stopping_cb = tf.keras.callbacks.EarlyStopping(patience=20)\n",
        "model_checkpoint_cb = tf.keras.callbacks.ModelCheckpoint(\"my_cifar10_bn_model.h5\", save_best_only=True)\n",
        "callbacks = [early_stopping_cb, model_checkpoint_cb]\n",
        "\n",
        "model.fit(X_train, y_train, epochs=100,\n",
        "          validation_data=(X_valid, y_valid),\n",
        "          callbacks=callbacks)\n",
        "\n",
        "model = keras.models.load_model(\"my_cifar10_bn_model.h5\")\n",
        "model.evaluate(X_valid, y_valid)"
      ]
    },
    {
      "cell_type": "markdown",
      "metadata": {
        "id": "S6kC1RMuo3Cs"
      },
      "source": [
        "d"
      ]
    },
    {
      "cell_type": "code",
      "execution_count": 83,
      "metadata": {
        "scrolled": true,
        "id": "uXfPUKa9o3Cs",
        "colab": {
          "base_uri": "https://localhost:8080/"
        },
        "outputId": "7621e6a4-c5e5-454b-b1a4-1a3c1235782a"
      },
      "outputs": [
        {
          "output_type": "stream",
          "name": "stdout",
          "text": [
            "Epoch 1/100\n",
            "1407/1407 [==============================] - 18s 11ms/step - loss: 1.9153 - accuracy: 0.3133 - val_loss: 1.8407 - val_accuracy: 0.3392\n",
            "Epoch 2/100\n",
            "1407/1407 [==============================] - 15s 11ms/step - loss: 1.6941 - accuracy: 0.3969 - val_loss: 1.7426 - val_accuracy: 0.3652\n",
            "Epoch 3/100\n",
            "1407/1407 [==============================] - 15s 10ms/step - loss: 1.6042 - accuracy: 0.4332 - val_loss: 1.7428 - val_accuracy: 0.3978\n",
            "Epoch 4/100\n",
            "1407/1407 [==============================] - 14s 10ms/step - loss: 1.5392 - accuracy: 0.4573 - val_loss: 1.6164 - val_accuracy: 0.4246\n",
            "Epoch 5/100\n",
            "1407/1407 [==============================] - 14s 10ms/step - loss: 1.4850 - accuracy: 0.4777 - val_loss: 1.5756 - val_accuracy: 0.4512\n",
            "Epoch 6/100\n",
            "1407/1407 [==============================] - 15s 10ms/step - loss: 1.4363 - accuracy: 0.4974 - val_loss: 1.5135 - val_accuracy: 0.4730\n",
            "Epoch 7/100\n",
            "1407/1407 [==============================] - 15s 11ms/step - loss: 1.3943 - accuracy: 0.5135 - val_loss: 1.5026 - val_accuracy: 0.4784\n",
            "Epoch 8/100\n",
            "1407/1407 [==============================] - 15s 10ms/step - loss: 1.3572 - accuracy: 0.5241 - val_loss: 1.4604 - val_accuracy: 0.4876\n",
            "Epoch 9/100\n",
            "1407/1407 [==============================] - 14s 10ms/step - loss: 1.3236 - accuracy: 0.5379 - val_loss: 1.4902 - val_accuracy: 0.4782\n",
            "Epoch 10/100\n",
            "1407/1407 [==============================] - 15s 10ms/step - loss: 1.2898 - accuracy: 0.5510 - val_loss: 1.5104 - val_accuracy: 0.4900\n",
            "Epoch 11/100\n",
            "1407/1407 [==============================] - 15s 10ms/step - loss: 1.2638 - accuracy: 0.5650 - val_loss: 1.4982 - val_accuracy: 0.4982\n",
            "Epoch 12/100\n",
            "1407/1407 [==============================] - 15s 10ms/step - loss: 1.2349 - accuracy: 0.5737 - val_loss: 1.4943 - val_accuracy: 0.4954\n",
            "Epoch 13/100\n",
            "1407/1407 [==============================] - 14s 10ms/step - loss: 1.2114 - accuracy: 0.5819 - val_loss: 1.4732 - val_accuracy: 0.5018\n",
            "Epoch 14/100\n",
            "1407/1407 [==============================] - 15s 11ms/step - loss: 1.1797 - accuracy: 0.5954 - val_loss: 1.4769 - val_accuracy: 0.4996\n",
            "Epoch 15/100\n",
            "1407/1407 [==============================] - 15s 11ms/step - loss: 1.1581 - accuracy: 0.6020 - val_loss: 1.5019 - val_accuracy: 0.4984\n",
            "Epoch 16/100\n",
            "1407/1407 [==============================] - 15s 10ms/step - loss: 1.1372 - accuracy: 0.6124 - val_loss: 1.5226 - val_accuracy: 0.5054\n",
            "Epoch 17/100\n",
            "1407/1407 [==============================] - 15s 10ms/step - loss: 1.1207 - accuracy: 0.6171 - val_loss: 1.4958 - val_accuracy: 0.5012\n",
            "Epoch 18/100\n",
            "1407/1407 [==============================] - 15s 10ms/step - loss: 1.1019 - accuracy: 0.6253 - val_loss: 1.5255 - val_accuracy: 0.5104\n",
            "Epoch 19/100\n",
            "1407/1407 [==============================] - 15s 11ms/step - loss: 1.0767 - accuracy: 0.6340 - val_loss: 1.5652 - val_accuracy: 0.4984\n",
            "Epoch 20/100\n",
            "1407/1407 [==============================] - 15s 11ms/step - loss: 1.0548 - accuracy: 0.6400 - val_loss: 1.5605 - val_accuracy: 0.5072\n",
            "Epoch 21/100\n",
            "1407/1407 [==============================] - 15s 11ms/step - loss: 1.0396 - accuracy: 0.6451 - val_loss: 1.5236 - val_accuracy: 0.5086\n",
            "Epoch 22/100\n",
            "1407/1407 [==============================] - 15s 10ms/step - loss: 1.0216 - accuracy: 0.6557 - val_loss: 1.5213 - val_accuracy: 0.5048\n",
            "Epoch 23/100\n",
            "1407/1407 [==============================] - 15s 11ms/step - loss: 1.0022 - accuracy: 0.6596 - val_loss: 1.5194 - val_accuracy: 0.5022\n",
            "Epoch 24/100\n",
            "1407/1407 [==============================] - 15s 11ms/step - loss: 0.9837 - accuracy: 0.6678 - val_loss: 1.5846 - val_accuracy: 0.4960\n",
            "Epoch 25/100\n",
            "1407/1407 [==============================] - 15s 10ms/step - loss: 0.9855 - accuracy: 0.6672 - val_loss: 1.5742 - val_accuracy: 0.5118\n",
            "Epoch 26/100\n",
            "1407/1407 [==============================] - 15s 10ms/step - loss: 13.0858 - accuracy: 0.6582 - val_loss: 1.7344 - val_accuracy: 0.4006\n",
            "Epoch 27/100\n",
            "1407/1407 [==============================] - 15s 10ms/step - loss: 1.3607 - accuracy: 0.5362 - val_loss: 1.5996 - val_accuracy: 0.4646\n",
            "Epoch 28/100\n",
            "1407/1407 [==============================] - 15s 10ms/step - loss: 1.2240 - accuracy: 0.5734 - val_loss: 1.5733 - val_accuracy: 0.4714\n",
            "157/157 [==============================] - 1s 3ms/step - loss: 1.4604 - accuracy: 0.4876\n"
          ]
        },
        {
          "output_type": "execute_result",
          "data": {
            "text/plain": [
              "[1.4604148864746094, 0.4875999987125397]"
            ]
          },
          "metadata": {},
          "execution_count": 83
        }
      ],
      "source": [
        "keras.backend.clear_session()\n",
        "tf.random.set_seed(42)\n",
        "np.random.seed(42)\n",
        "\n",
        "model = keras.models.Sequential()\n",
        "model.add(keras.layers.Flatten(input_shape=[32, 32, 3]))\n",
        "for _ in range(20):\n",
        "    model.add(keras.layers.Dense(100,\n",
        "                                 kernel_initializer=\"lecun_normal\",\n",
        "                                 activation=\"selu\"))\n",
        "model.add(keras.layers.Dense(10, activation=\"softmax\"))\n",
        "\n",
        "optimizer = tf.keras.optimizers.Nadam(learning_rate=7e-4)\n",
        "model.compile(loss=\"sparse_categorical_crossentropy\",\n",
        "              optimizer=optimizer,\n",
        "              metrics=[\"accuracy\"])\n",
        "\n",
        "early_stopping_cb = tf.keras.callbacks.EarlyStopping(patience=20)\n",
        "model_checkpoint_cb = tf.keras.callbacks.ModelCheckpoint(\"my_cifar10_selu_model.h5\", save_best_only=True)\n",
        "callbacks = [early_stopping_cb, model_checkpoint_cb]\n",
        "\n",
        "X_means = X_train.mean(axis=0)\n",
        "X_stds = X_train.std(axis=0)\n",
        "X_train_scaled = (X_train - X_means) / X_stds\n",
        "X_valid_scaled = (X_valid - X_means) / X_stds\n",
        "X_test_scaled = (X_test - X_means) / X_stds\n",
        "\n",
        "model.fit(X_train_scaled, y_train, epochs=100,\n",
        "          validation_data=(X_valid_scaled, y_valid),\n",
        "          callbacks=callbacks)\n",
        "\n",
        "model = keras.models.load_model(\"my_cifar10_selu_model.h5\")\n",
        "model.evaluate(X_valid_scaled, y_valid)"
      ]
    },
    {
      "cell_type": "code",
      "execution_count": 84,
      "metadata": {
        "id": "vIBE2Quoo3Cs",
        "colab": {
          "base_uri": "https://localhost:8080/"
        },
        "outputId": "385f6cff-94f5-4fff-c3de-faf298921643"
      },
      "outputs": [
        {
          "output_type": "stream",
          "name": "stdout",
          "text": [
            "157/157 [==============================] - 1s 3ms/step - loss: 1.4604 - accuracy: 0.4876\n"
          ]
        },
        {
          "output_type": "execute_result",
          "data": {
            "text/plain": [
              "[1.4604148864746094, 0.4875999987125397]"
            ]
          },
          "metadata": {},
          "execution_count": 84
        }
      ],
      "source": [
        "model = keras.models.load_model(\"my_cifar10_selu_model.h5\")\n",
        "model.evaluate(X_valid_scaled, y_valid)"
      ]
    },
    {
      "cell_type": "markdown",
      "metadata": {
        "id": "b_dZpTWTo3Ct"
      },
      "source": [
        "e"
      ]
    },
    {
      "cell_type": "code",
      "execution_count": 85,
      "metadata": {
        "id": "X7KemBAIo3Ct",
        "colab": {
          "base_uri": "https://localhost:8080/"
        },
        "outputId": "1efda371-37ff-4261-d9ea-7ad8220ca795"
      },
      "outputs": [
        {
          "output_type": "stream",
          "name": "stdout",
          "text": [
            "Epoch 1/100\n",
            "1407/1407 [==============================] - 19s 11ms/step - loss: 1.8747 - accuracy: 0.3352 - val_loss: 1.7275 - val_accuracy: 0.3862\n",
            "Epoch 2/100\n",
            "1407/1407 [==============================] - 15s 11ms/step - loss: 1.6471 - accuracy: 0.4212 - val_loss: 1.6296 - val_accuracy: 0.4218\n",
            "Epoch 3/100\n",
            "1407/1407 [==============================] - 15s 10ms/step - loss: 1.5659 - accuracy: 0.4508 - val_loss: 1.6299 - val_accuracy: 0.4180\n",
            "Epoch 4/100\n",
            "1407/1407 [==============================] - 15s 11ms/step - loss: 1.4936 - accuracy: 0.4742 - val_loss: 1.6241 - val_accuracy: 0.4576\n",
            "Epoch 5/100\n",
            "1407/1407 [==============================] - 15s 11ms/step - loss: 1.4432 - accuracy: 0.4939 - val_loss: 1.5994 - val_accuracy: 0.4584\n",
            "Epoch 6/100\n",
            "1407/1407 [==============================] - 15s 11ms/step - loss: 1.3954 - accuracy: 0.5093 - val_loss: 1.5199 - val_accuracy: 0.4714\n",
            "Epoch 7/100\n",
            "1407/1407 [==============================] - 15s 11ms/step - loss: 1.3506 - accuracy: 0.5272 - val_loss: 1.5619 - val_accuracy: 0.4718\n",
            "Epoch 8/100\n",
            "1407/1407 [==============================] - 15s 11ms/step - loss: 1.3068 - accuracy: 0.5432 - val_loss: 1.5179 - val_accuracy: 0.4912\n",
            "Epoch 9/100\n",
            "1407/1407 [==============================] - 15s 10ms/step - loss: 1.2754 - accuracy: 0.5586 - val_loss: 1.5118 - val_accuracy: 0.4916\n",
            "Epoch 10/100\n",
            "1407/1407 [==============================] - 14s 10ms/step - loss: 1.2399 - accuracy: 0.5714 - val_loss: 1.5408 - val_accuracy: 0.4980\n",
            "Epoch 11/100\n",
            "1407/1407 [==============================] - 15s 11ms/step - loss: 1.2126 - accuracy: 0.5805 - val_loss: 1.5882 - val_accuracy: 0.5096\n",
            "Epoch 12/100\n",
            "1407/1407 [==============================] - 15s 11ms/step - loss: 1.1807 - accuracy: 0.5930 - val_loss: 1.5847 - val_accuracy: 0.4888\n",
            "Epoch 13/100\n",
            "1407/1407 [==============================] - 15s 10ms/step - loss: 1.1495 - accuracy: 0.6014 - val_loss: 1.5603 - val_accuracy: 0.4962\n",
            "Epoch 14/100\n",
            "1407/1407 [==============================] - 15s 11ms/step - loss: 1.1201 - accuracy: 0.6115 - val_loss: 1.6231 - val_accuracy: 0.5070\n",
            "Epoch 15/100\n",
            "1407/1407 [==============================] - 15s 11ms/step - loss: 1.0967 - accuracy: 0.6238 - val_loss: 1.6939 - val_accuracy: 0.4992\n",
            "Epoch 16/100\n",
            "1407/1407 [==============================] - 15s 10ms/step - loss: 1.0759 - accuracy: 0.6328 - val_loss: 1.6304 - val_accuracy: 0.5050\n",
            "Epoch 17/100\n",
            "1407/1407 [==============================] - 15s 10ms/step - loss: 1.0464 - accuracy: 0.6394 - val_loss: 1.6401 - val_accuracy: 0.5106\n",
            "Epoch 18/100\n",
            "1407/1407 [==============================] - 15s 10ms/step - loss: 1.0272 - accuracy: 0.6495 - val_loss: 1.6460 - val_accuracy: 0.4988\n",
            "Epoch 19/100\n",
            "1407/1407 [==============================] - 15s 11ms/step - loss: 1.0033 - accuracy: 0.6564 - val_loss: 1.8070 - val_accuracy: 0.5094\n",
            "Epoch 20/100\n",
            "1407/1407 [==============================] - 15s 11ms/step - loss: 0.9828 - accuracy: 0.6659 - val_loss: 1.7674 - val_accuracy: 0.4998\n",
            "Epoch 21/100\n",
            "1407/1407 [==============================] - 14s 10ms/step - loss: 0.9639 - accuracy: 0.6703 - val_loss: 1.7552 - val_accuracy: 0.4988\n",
            "Epoch 22/100\n",
            "1407/1407 [==============================] - 15s 10ms/step - loss: 0.9463 - accuracy: 0.6758 - val_loss: 1.7551 - val_accuracy: 0.5004\n",
            "Epoch 23/100\n",
            "1407/1407 [==============================] - 15s 10ms/step - loss: 0.9265 - accuracy: 0.6852 - val_loss: 1.7459 - val_accuracy: 0.5046\n",
            "Epoch 24/100\n",
            "1407/1407 [==============================] - 14s 10ms/step - loss: 0.9213 - accuracy: 0.6880 - val_loss: 1.7126 - val_accuracy: 0.5062\n",
            "Epoch 25/100\n",
            "1407/1407 [==============================] - 15s 10ms/step - loss: 0.8993 - accuracy: 0.6920 - val_loss: 1.8482 - val_accuracy: 0.5162\n",
            "Epoch 26/100\n",
            "1407/1407 [==============================] - 15s 11ms/step - loss: 0.8778 - accuracy: 0.7014 - val_loss: 1.7890 - val_accuracy: 0.5042\n",
            "Epoch 27/100\n",
            "1407/1407 [==============================] - 15s 11ms/step - loss: 0.8692 - accuracy: 0.7057 - val_loss: 1.8012 - val_accuracy: 0.5032\n",
            "Epoch 28/100\n",
            "1407/1407 [==============================] - 15s 11ms/step - loss: 0.8518 - accuracy: 0.7122 - val_loss: 1.8180 - val_accuracy: 0.4984\n",
            "Epoch 29/100\n",
            "1407/1407 [==============================] - 15s 11ms/step - loss: 0.8401 - accuracy: 0.7160 - val_loss: 1.8506 - val_accuracy: 0.5040\n",
            "157/157 [==============================] - 1s 3ms/step - loss: 1.5118 - accuracy: 0.4916\n"
          ]
        },
        {
          "output_type": "execute_result",
          "data": {
            "text/plain": [
              "[1.5118393898010254, 0.49160000681877136]"
            ]
          },
          "metadata": {},
          "execution_count": 85
        }
      ],
      "source": [
        "keras.backend.clear_session()\n",
        "tf.random.set_seed(42)\n",
        "np.random.seed(42)\n",
        "\n",
        "model = keras.models.Sequential()\n",
        "model.add(keras.layers.Flatten(input_shape=[32, 32, 3]))\n",
        "for _ in range(20):\n",
        "    model.add(keras.layers.Dense(100,\n",
        "                                 kernel_initializer=\"lecun_normal\",\n",
        "                                 activation=\"selu\"))\n",
        "\n",
        "model.add(keras.layers.AlphaDropout(rate=0.1))\n",
        "model.add(keras.layers.Dense(10, activation=\"softmax\"))\n",
        "\n",
        "optimizer = tf.keras.optimizers.Nadam(learning_rate=5e-4)\n",
        "model.compile(loss=\"sparse_categorical_crossentropy\",\n",
        "              optimizer=optimizer,\n",
        "              metrics=[\"accuracy\"])\n",
        "\n",
        "early_stopping_cb = tf.keras.callbacks.EarlyStopping(patience=20)\n",
        "model_checkpoint_cb = tf.keras.callbacks.ModelCheckpoint(\"my_cifar10_alpha_dropout_model.h5\", save_best_only=True)\n",
        "callbacks = [early_stopping_cb, model_checkpoint_cb]\n",
        "\n",
        "X_means = X_train.mean(axis=0)\n",
        "X_stds = X_train.std(axis=0)\n",
        "X_train_scaled = (X_train - X_means) / X_stds\n",
        "X_valid_scaled = (X_valid - X_means) / X_stds\n",
        "X_test_scaled = (X_test - X_means) / X_stds\n",
        "\n",
        "model.fit(X_train_scaled, y_train, epochs=100,\n",
        "          validation_data=(X_valid_scaled, y_valid),\n",
        "          callbacks=callbacks)\n",
        "\n",
        "model = keras.models.load_model(\"my_cifar10_alpha_dropout_model.h5\")\n",
        "model.evaluate(X_valid_scaled, y_valid)"
      ]
    },
    {
      "cell_type": "code",
      "execution_count": 86,
      "metadata": {
        "id": "IP9-CCSno3Cu"
      },
      "outputs": [],
      "source": [
        "class MCAlphaDropout(keras.layers.AlphaDropout):\n",
        "    def call(self, inputs):\n",
        "        return super().call(inputs, training=True)"
      ]
    },
    {
      "cell_type": "code",
      "execution_count": 87,
      "metadata": {
        "id": "TKY-tRAbo3Cv"
      },
      "outputs": [],
      "source": [
        "mc_model = keras.models.Sequential([\n",
        "    MCAlphaDropout(layer.rate) if isinstance(layer, keras.layers.AlphaDropout) else layer\n",
        "    for layer in model.layers\n",
        "])"
      ]
    },
    {
      "cell_type": "code",
      "execution_count": 88,
      "metadata": {
        "id": "Fj1lEQJEo3Cv"
      },
      "outputs": [],
      "source": [
        "def mc_dropout_predict_probas(mc_model, X, n_samples=10):\n",
        "    Y_probas = [mc_model.predict(X) for sample in range(n_samples)]\n",
        "    return np.mean(Y_probas, axis=0)\n",
        "\n",
        "def mc_dropout_predict_classes(mc_model, X, n_samples=10):\n",
        "    Y_probas = mc_dropout_predict_probas(mc_model, X, n_samples)\n",
        "    return np.argmax(Y_probas, axis=1)"
      ]
    },
    {
      "cell_type": "code",
      "execution_count": 89,
      "metadata": {
        "id": "PoeQdNIuo3Cv",
        "colab": {
          "base_uri": "https://localhost:8080/"
        },
        "outputId": "298636ff-b337-49ed-c0db-39f2faec5fcb"
      },
      "outputs": [
        {
          "output_type": "stream",
          "name": "stdout",
          "text": [
            "157/157 [==============================] - 1s 2ms/step\n",
            "157/157 [==============================] - 0s 2ms/step\n",
            "157/157 [==============================] - 0s 2ms/step\n",
            "157/157 [==============================] - 0s 2ms/step\n",
            "157/157 [==============================] - 0s 2ms/step\n",
            "157/157 [==============================] - 0s 2ms/step\n",
            "157/157 [==============================] - 0s 2ms/step\n",
            "157/157 [==============================] - 0s 2ms/step\n",
            "157/157 [==============================] - 0s 2ms/step\n",
            "157/157 [==============================] - 0s 2ms/step\n"
          ]
        },
        {
          "output_type": "execute_result",
          "data": {
            "text/plain": [
              "0.4908"
            ]
          },
          "metadata": {},
          "execution_count": 89
        }
      ],
      "source": [
        "keras.backend.clear_session()\n",
        "tf.random.set_seed(42)\n",
        "np.random.seed(42)\n",
        "\n",
        "y_pred = mc_dropout_predict_classes(mc_model, X_valid_scaled)\n",
        "accuracy = np.mean(y_pred == y_valid[:, 0])\n",
        "accuracy"
      ]
    },
    {
      "cell_type": "code",
      "execution_count": 90,
      "metadata": {
        "id": "pXlHSRNHo3Cw"
      },
      "outputs": [],
      "source": [
        "keras.backend.clear_session()\n",
        "tf.random.set_seed(42)\n",
        "np.random.seed(42)\n",
        "\n",
        "model = keras.models.Sequential()\n",
        "model.add(keras.layers.Flatten(input_shape=[32, 32, 3]))\n",
        "for _ in range(20):\n",
        "    model.add(keras.layers.Dense(100,\n",
        "                                 kernel_initializer=\"lecun_normal\",\n",
        "                                 activation=\"selu\"))\n",
        "\n",
        "model.add(keras.layers.AlphaDropout(rate=0.1))\n",
        "model.add(keras.layers.Dense(10, activation=\"softmax\"))\n",
        "\n",
        "optimizer = keras.optimizers.SGD(learning_rate=1e-3)\n",
        "model.compile(loss=\"sparse_categorical_crossentropy\",\n",
        "              optimizer=optimizer,\n",
        "              metrics=[\"accuracy\"])"
      ]
    },
    {
      "cell_type": "markdown",
      "source": [
        "### (C)"
      ],
      "metadata": {
        "id": "aoQrH6yRGYzA"
      }
    },
    {
      "cell_type": "markdown",
      "source": [
        "## 2"
      ],
      "metadata": {
        "id": "kSpiTf3Km0Q7"
      }
    },
    {
      "cell_type": "markdown",
      "source": [
        "### setting"
      ],
      "metadata": {
        "id": "H2xFe8Bxqq8L"
      }
    },
    {
      "cell_type": "code",
      "execution_count": 92,
      "metadata": {
        "id": "2pmPsIGppiCN"
      },
      "outputs": [],
      "source": [
        "import pandas as pd\n",
        "import numpy as np\n",
        "import tensorflow as tf\n",
        "import keras\n",
        "from keras.models import Sequential\n",
        "from keras.layers import Dense, BatchNormalization, Dropout\n",
        "\n",
        "import seaborn as sns\n",
        "import matplotlib.pyplot as plt\n",
        "import matplotlib as mpl\n",
        "\n",
        "keras.backend.clear_session()\n",
        "tf.random.set_seed(42)\n",
        "np.random.seed(42)\n",
        "import warnings\n",
        "warnings.filterwarnings('ignore')"
      ]
    },
    {
      "cell_type": "markdown",
      "source": [
        "### import and Simple EDA"
      ],
      "metadata": {
        "id": "X0blsHiiremG"
      }
    },
    {
      "cell_type": "code",
      "source": [
        "train = pd.read_csv('train.csv')\n",
        "train.head()"
      ],
      "metadata": {
        "colab": {
          "base_uri": "https://localhost:8080/",
          "height": 0
        },
        "id": "U7rqaC1iqsYz",
        "outputId": "46449efe-d115-4d1c-e78a-d26c190d8dd1"
      },
      "execution_count": 93,
      "outputs": [
        {
          "output_type": "execute_result",
          "data": {
            "text/plain": [
              "   User_ID Product_ID Gender   Age  Occupation City_Category  \\\n",
              "0  1000001  P00069042      F  0-17          10             A   \n",
              "1  1000001  P00248942      F  0-17          10             A   \n",
              "2  1000001  P00087842      F  0-17          10             A   \n",
              "3  1000001  P00085442      F  0-17          10             A   \n",
              "4  1000002  P00285442      M   55+          16             C   \n",
              "\n",
              "  Stay_In_Current_City_Years  Marital_Status  Product_Category_1  \\\n",
              "0                          2               0                   3   \n",
              "1                          2               0                   1   \n",
              "2                          2               0                  12   \n",
              "3                          2               0                  12   \n",
              "4                         4+               0                   8   \n",
              "\n",
              "   Product_Category_2  Product_Category_3  Purchase  \n",
              "0                 NaN                 NaN      8370  \n",
              "1                 6.0                14.0     15200  \n",
              "2                 NaN                 NaN      1422  \n",
              "3                14.0                 NaN      1057  \n",
              "4                 NaN                 NaN      7969  "
            ],
            "text/html": [
              "\n",
              "  <div id=\"df-0f4c984a-374f-4d75-89a6-b2a084436f03\">\n",
              "    <div class=\"colab-df-container\">\n",
              "      <div>\n",
              "<style scoped>\n",
              "    .dataframe tbody tr th:only-of-type {\n",
              "        vertical-align: middle;\n",
              "    }\n",
              "\n",
              "    .dataframe tbody tr th {\n",
              "        vertical-align: top;\n",
              "    }\n",
              "\n",
              "    .dataframe thead th {\n",
              "        text-align: right;\n",
              "    }\n",
              "</style>\n",
              "<table border=\"1\" class=\"dataframe\">\n",
              "  <thead>\n",
              "    <tr style=\"text-align: right;\">\n",
              "      <th></th>\n",
              "      <th>User_ID</th>\n",
              "      <th>Product_ID</th>\n",
              "      <th>Gender</th>\n",
              "      <th>Age</th>\n",
              "      <th>Occupation</th>\n",
              "      <th>City_Category</th>\n",
              "      <th>Stay_In_Current_City_Years</th>\n",
              "      <th>Marital_Status</th>\n",
              "      <th>Product_Category_1</th>\n",
              "      <th>Product_Category_2</th>\n",
              "      <th>Product_Category_3</th>\n",
              "      <th>Purchase</th>\n",
              "    </tr>\n",
              "  </thead>\n",
              "  <tbody>\n",
              "    <tr>\n",
              "      <th>0</th>\n",
              "      <td>1000001</td>\n",
              "      <td>P00069042</td>\n",
              "      <td>F</td>\n",
              "      <td>0-17</td>\n",
              "      <td>10</td>\n",
              "      <td>A</td>\n",
              "      <td>2</td>\n",
              "      <td>0</td>\n",
              "      <td>3</td>\n",
              "      <td>NaN</td>\n",
              "      <td>NaN</td>\n",
              "      <td>8370</td>\n",
              "    </tr>\n",
              "    <tr>\n",
              "      <th>1</th>\n",
              "      <td>1000001</td>\n",
              "      <td>P00248942</td>\n",
              "      <td>F</td>\n",
              "      <td>0-17</td>\n",
              "      <td>10</td>\n",
              "      <td>A</td>\n",
              "      <td>2</td>\n",
              "      <td>0</td>\n",
              "      <td>1</td>\n",
              "      <td>6.0</td>\n",
              "      <td>14.0</td>\n",
              "      <td>15200</td>\n",
              "    </tr>\n",
              "    <tr>\n",
              "      <th>2</th>\n",
              "      <td>1000001</td>\n",
              "      <td>P00087842</td>\n",
              "      <td>F</td>\n",
              "      <td>0-17</td>\n",
              "      <td>10</td>\n",
              "      <td>A</td>\n",
              "      <td>2</td>\n",
              "      <td>0</td>\n",
              "      <td>12</td>\n",
              "      <td>NaN</td>\n",
              "      <td>NaN</td>\n",
              "      <td>1422</td>\n",
              "    </tr>\n",
              "    <tr>\n",
              "      <th>3</th>\n",
              "      <td>1000001</td>\n",
              "      <td>P00085442</td>\n",
              "      <td>F</td>\n",
              "      <td>0-17</td>\n",
              "      <td>10</td>\n",
              "      <td>A</td>\n",
              "      <td>2</td>\n",
              "      <td>0</td>\n",
              "      <td>12</td>\n",
              "      <td>14.0</td>\n",
              "      <td>NaN</td>\n",
              "      <td>1057</td>\n",
              "    </tr>\n",
              "    <tr>\n",
              "      <th>4</th>\n",
              "      <td>1000002</td>\n",
              "      <td>P00285442</td>\n",
              "      <td>M</td>\n",
              "      <td>55+</td>\n",
              "      <td>16</td>\n",
              "      <td>C</td>\n",
              "      <td>4+</td>\n",
              "      <td>0</td>\n",
              "      <td>8</td>\n",
              "      <td>NaN</td>\n",
              "      <td>NaN</td>\n",
              "      <td>7969</td>\n",
              "    </tr>\n",
              "  </tbody>\n",
              "</table>\n",
              "</div>\n",
              "      <button class=\"colab-df-convert\" onclick=\"convertToInteractive('df-0f4c984a-374f-4d75-89a6-b2a084436f03')\"\n",
              "              title=\"Convert this dataframe to an interactive table.\"\n",
              "              style=\"display:none;\">\n",
              "        \n",
              "  <svg xmlns=\"http://www.w3.org/2000/svg\" height=\"24px\"viewBox=\"0 0 24 24\"\n",
              "       width=\"24px\">\n",
              "    <path d=\"M0 0h24v24H0V0z\" fill=\"none\"/>\n",
              "    <path d=\"M18.56 5.44l.94 2.06.94-2.06 2.06-.94-2.06-.94-.94-2.06-.94 2.06-2.06.94zm-11 1L8.5 8.5l.94-2.06 2.06-.94-2.06-.94L8.5 2.5l-.94 2.06-2.06.94zm10 10l.94 2.06.94-2.06 2.06-.94-2.06-.94-.94-2.06-.94 2.06-2.06.94z\"/><path d=\"M17.41 7.96l-1.37-1.37c-.4-.4-.92-.59-1.43-.59-.52 0-1.04.2-1.43.59L10.3 9.45l-7.72 7.72c-.78.78-.78 2.05 0 2.83L4 21.41c.39.39.9.59 1.41.59.51 0 1.02-.2 1.41-.59l7.78-7.78 2.81-2.81c.8-.78.8-2.07 0-2.86zM5.41 20L4 18.59l7.72-7.72 1.47 1.35L5.41 20z\"/>\n",
              "  </svg>\n",
              "      </button>\n",
              "      \n",
              "  <style>\n",
              "    .colab-df-container {\n",
              "      display:flex;\n",
              "      flex-wrap:wrap;\n",
              "      gap: 12px;\n",
              "    }\n",
              "\n",
              "    .colab-df-convert {\n",
              "      background-color: #E8F0FE;\n",
              "      border: none;\n",
              "      border-radius: 50%;\n",
              "      cursor: pointer;\n",
              "      display: none;\n",
              "      fill: #1967D2;\n",
              "      height: 32px;\n",
              "      padding: 0 0 0 0;\n",
              "      width: 32px;\n",
              "    }\n",
              "\n",
              "    .colab-df-convert:hover {\n",
              "      background-color: #E2EBFA;\n",
              "      box-shadow: 0px 1px 2px rgba(60, 64, 67, 0.3), 0px 1px 3px 1px rgba(60, 64, 67, 0.15);\n",
              "      fill: #174EA6;\n",
              "    }\n",
              "\n",
              "    [theme=dark] .colab-df-convert {\n",
              "      background-color: #3B4455;\n",
              "      fill: #D2E3FC;\n",
              "    }\n",
              "\n",
              "    [theme=dark] .colab-df-convert:hover {\n",
              "      background-color: #434B5C;\n",
              "      box-shadow: 0px 1px 3px 1px rgba(0, 0, 0, 0.15);\n",
              "      filter: drop-shadow(0px 1px 2px rgba(0, 0, 0, 0.3));\n",
              "      fill: #FFFFFF;\n",
              "    }\n",
              "  </style>\n",
              "\n",
              "      <script>\n",
              "        const buttonEl =\n",
              "          document.querySelector('#df-0f4c984a-374f-4d75-89a6-b2a084436f03 button.colab-df-convert');\n",
              "        buttonEl.style.display =\n",
              "          google.colab.kernel.accessAllowed ? 'block' : 'none';\n",
              "\n",
              "        async function convertToInteractive(key) {\n",
              "          const element = document.querySelector('#df-0f4c984a-374f-4d75-89a6-b2a084436f03');\n",
              "          const dataTable =\n",
              "            await google.colab.kernel.invokeFunction('convertToInteractive',\n",
              "                                                     [key], {});\n",
              "          if (!dataTable) return;\n",
              "\n",
              "          const docLinkHtml = 'Like what you see? Visit the ' +\n",
              "            '<a target=\"_blank\" href=https://colab.research.google.com/notebooks/data_table.ipynb>data table notebook</a>'\n",
              "            + ' to learn more about interactive tables.';\n",
              "          element.innerHTML = '';\n",
              "          dataTable['output_type'] = 'display_data';\n",
              "          await google.colab.output.renderOutput(dataTable, element);\n",
              "          const docLink = document.createElement('div');\n",
              "          docLink.innerHTML = docLinkHtml;\n",
              "          element.appendChild(docLink);\n",
              "        }\n",
              "      </script>\n",
              "    </div>\n",
              "  </div>\n",
              "  "
            ]
          },
          "metadata": {},
          "execution_count": 93
        }
      ]
    },
    {
      "cell_type": "code",
      "source": [
        "# 550068개의 소비내역이 존재한다\n",
        "print(train.shape)"
      ],
      "metadata": {
        "colab": {
          "base_uri": "https://localhost:8080/"
        },
        "id": "c_uxOpYYrOk-",
        "outputId": "f07f4d15-cab9-434c-fc55-84d3b80c815f"
      },
      "execution_count": 94,
      "outputs": [
        {
          "output_type": "stream",
          "name": "stdout",
          "text": [
            "(550068, 12)\n"
          ]
        }
      ]
    },
    {
      "cell_type": "code",
      "source": [
        "# Product_Category_2 와 3에만 결측치가 존재\n",
        "print(train.isnull().sum())"
      ],
      "metadata": {
        "colab": {
          "base_uri": "https://localhost:8080/"
        },
        "id": "cxC5112GrRf0",
        "outputId": "10f39417-1cd0-403e-8c86-f624e7a08bed"
      },
      "execution_count": 95,
      "outputs": [
        {
          "output_type": "stream",
          "name": "stdout",
          "text": [
            "User_ID                            0\n",
            "Product_ID                         0\n",
            "Gender                             0\n",
            "Age                                0\n",
            "Occupation                         0\n",
            "City_Category                      0\n",
            "Stay_In_Current_City_Years         0\n",
            "Marital_Status                     0\n",
            "Product_Category_1                 0\n",
            "Product_Category_2            173638\n",
            "Product_Category_3            383247\n",
            "Purchase                           0\n",
            "dtype: int64\n"
          ]
        }
      ]
    },
    {
      "cell_type": "code",
      "source": [
        "# 결측치들은 Product 카테고리가 존재하지 않는 것이므로 0으로 채워주기로 함.\n",
        "# 편의를 위해 Product_Category_2 와 Product_Category_3의 dtype을 int로 변경\n",
        "train = train.fillna(0)\n",
        "train = train.astype({'Product_Category_2': 'int'})\n",
        "train = train.astype({'Product_Category_3': 'int'})"
      ],
      "metadata": {
        "id": "f5i1dRYhrlTC"
      },
      "execution_count": 96,
      "outputs": []
    },
    {
      "cell_type": "code",
      "source": [
        "train.info()"
      ],
      "metadata": {
        "colab": {
          "base_uri": "https://localhost:8080/"
        },
        "id": "oP0POnZLsDZv",
        "outputId": "7c9f13dc-e095-441e-b879-1fbac1564a76"
      },
      "execution_count": 97,
      "outputs": [
        {
          "output_type": "stream",
          "name": "stdout",
          "text": [
            "<class 'pandas.core.frame.DataFrame'>\n",
            "RangeIndex: 550068 entries, 0 to 550067\n",
            "Data columns (total 12 columns):\n",
            " #   Column                      Non-Null Count   Dtype \n",
            "---  ------                      --------------   ----- \n",
            " 0   User_ID                     550068 non-null  int64 \n",
            " 1   Product_ID                  550068 non-null  object\n",
            " 2   Gender                      550068 non-null  object\n",
            " 3   Age                         550068 non-null  object\n",
            " 4   Occupation                  550068 non-null  int64 \n",
            " 5   City_Category               550068 non-null  object\n",
            " 6   Stay_In_Current_City_Years  550068 non-null  object\n",
            " 7   Marital_Status              550068 non-null  int64 \n",
            " 8   Product_Category_1          550068 non-null  int64 \n",
            " 9   Product_Category_2          550068 non-null  int64 \n",
            " 10  Product_Category_3          550068 non-null  int64 \n",
            " 11  Purchase                    550068 non-null  int64 \n",
            "dtypes: int64(7), object(5)\n",
            "memory usage: 50.4+ MB\n"
          ]
        }
      ]
    },
    {
      "cell_type": "markdown",
      "source": [
        "#### User_ID"
      ],
      "metadata": {
        "id": "xf0RA-Mntcac"
      }
    },
    {
      "cell_type": "code",
      "source": [
        "# User_ID는 사용자의 ID를 나타내고, 총 5891개의 값이 존재함\n",
        "# 즉 5891명의 사용자가 550068개의 물건을 구매한 것\n",
        "train['User_ID'].nunique()"
      ],
      "metadata": {
        "colab": {
          "base_uri": "https://localhost:8080/"
        },
        "id": "9gv4C4Q3tb9U",
        "outputId": "0318f8fd-70cb-41f5-fdb8-cceae206edb5"
      },
      "execution_count": 98,
      "outputs": [
        {
          "output_type": "execute_result",
          "data": {
            "text/plain": [
              "5891"
            ]
          },
          "metadata": {},
          "execution_count": 98
        }
      ]
    },
    {
      "cell_type": "code",
      "source": [
        "# 개인 별 구매량의 분포를 간단하게 살펴보면 다음과 같다\n",
        "purchase_amount = train.groupby('User_ID').count()['Purchase']\n",
        "plt.figure(figsize=(6,6))\n",
        "sns.boxplot(purchase_amount)"
      ],
      "metadata": {
        "colab": {
          "base_uri": "https://localhost:8080/",
          "height": 0
        },
        "id": "9R5st-sNuY9l",
        "outputId": "9ae7959b-ff93-4f7d-b153-8f7b7102cd63"
      },
      "execution_count": 99,
      "outputs": [
        {
          "output_type": "execute_result",
          "data": {
            "text/plain": [
              "<matplotlib.axes._subplots.AxesSubplot at 0x7f0d3a5c5e10>"
            ]
          },
          "metadata": {},
          "execution_count": 99
        },
        {
          "output_type": "display_data",
          "data": {
            "text/plain": [
              "<Figure size 432x432 with 1 Axes>"
            ],
            "image/png": "[encoded data removed]"
          },
          "metadata": {
            "needs_background": "light"
          }
        }
      ]
    },
    {
      "cell_type": "markdown",
      "source": [
        "#### Product_ID"
      ],
      "metadata": {
        "id": "cQTyX30At51W"
      }
    },
    {
      "cell_type": "code",
      "source": [
        "# Product_ID는 제품의 ID를 나타내고, 총 3631개의 값이 존재함\n",
        "# 즉 3631개의 제품이 존재함\n",
        "train['Product_ID'].nunique()"
      ],
      "metadata": {
        "colab": {
          "base_uri": "https://localhost:8080/"
        },
        "id": "qEcPgoJNt4kN",
        "outputId": "f50c4ace-9680-4c73-a2b5-ca1f7d8097fd"
      },
      "execution_count": 100,
      "outputs": [
        {
          "output_type": "execute_result",
          "data": {
            "text/plain": [
              "3631"
            ]
          },
          "metadata": {},
          "execution_count": 100
        }
      ]
    },
    {
      "cell_type": "code",
      "source": [
        "# 각각의 상품별로 판매량(판매금액 아님)을 알아보면 다음과 같다\n",
        "purchase_amount = train.groupby('Product_ID').count()['Purchase']\n",
        "plt.figure(figsize=(6,6))\n",
        "sns.boxplot(purchase_amount)"
      ],
      "metadata": {
        "colab": {
          "base_uri": "https://localhost:8080/",
          "height": 0
        },
        "id": "csSjJOmpvStP",
        "outputId": "ceb32838-1d1b-4352-adfb-ddf8bd66fa5e"
      },
      "execution_count": 101,
      "outputs": [
        {
          "output_type": "execute_result",
          "data": {
            "text/plain": [
              "<matplotlib.axes._subplots.AxesSubplot at 0x7f0d11b56550>"
            ]
          },
          "metadata": {},
          "execution_count": 101
        },
        {
          "output_type": "display_data",
          "data": {
            "text/plain": [
              "<Figure size 432x432 with 1 Axes>"
            ],
            "image/png": "[encoded data removed]"
          },
          "metadata": {
            "needs_background": "light"
          }
        }
      ]
    },
    {
      "cell_type": "markdown",
      "source": [
        "#### Gender"
      ],
      "metadata": {
        "id": "HByn1B78uVbS"
      }
    },
    {
      "cell_type": "code",
      "source": [
        "train['Gender'].nunique()"
      ],
      "metadata": {
        "colab": {
          "base_uri": "https://localhost:8080/"
        },
        "id": "PH2zv7WjuXTK",
        "outputId": "2344b38b-44b9-4680-b8b3-a610adbd3a90"
      },
      "execution_count": 102,
      "outputs": [
        {
          "output_type": "execute_result",
          "data": {
            "text/plain": [
              "2"
            ]
          },
          "metadata": {},
          "execution_count": 102
        }
      ]
    },
    {
      "cell_type": "code",
      "source": [
        "# 구매 횟수는 남성이 여성에 비해 많은 것을 확인할 수 있다\n",
        "train.groupby('Gender').count()['Purchase']"
      ],
      "metadata": {
        "colab": {
          "base_uri": "https://localhost:8080/"
        },
        "id": "y7gZFxjLvnu1",
        "outputId": "508da332-529c-4a90-a6f1-0c01f2e60b88"
      },
      "execution_count": 103,
      "outputs": [
        {
          "output_type": "execute_result",
          "data": {
            "text/plain": [
              "Gender\n",
              "F    135809\n",
              "M    414259\n",
              "Name: Purchase, dtype: int64"
            ]
          },
          "metadata": {},
          "execution_count": 103
        }
      ]
    },
    {
      "cell_type": "code",
      "source": [
        "# 구매량도 마찬가지이다.\n",
        "train.groupby(\"Gender\").sum()['Purchase']"
      ],
      "metadata": {
        "colab": {
          "base_uri": "https://localhost:8080/"
        },
        "id": "pIQfC-6LwBHT",
        "outputId": "04482f96-66e0-4799-eb00-c8c250402d0f"
      },
      "execution_count": 104,
      "outputs": [
        {
          "output_type": "execute_result",
          "data": {
            "text/plain": [
              "Gender\n",
              "F    1186232642\n",
              "M    3909580100\n",
              "Name: Purchase, dtype: int64"
            ]
          },
          "metadata": {},
          "execution_count": 104
        }
      ]
    },
    {
      "cell_type": "markdown",
      "source": [
        "#### Age"
      ],
      "metadata": {
        "id": "A3TrvXmgwRLK"
      }
    },
    {
      "cell_type": "code",
      "source": [
        "print(\"Unique한 값들의 개수: \", train['Age'].nunique())\n",
        "print(\"Unique한 값들: \", train['Age'].unique())"
      ],
      "metadata": {
        "colab": {
          "base_uri": "https://localhost:8080/"
        },
        "id": "XWjxJ4w7wTmy",
        "outputId": "c15c645a-1a7b-448e-86cc-7259252a073c"
      },
      "execution_count": 105,
      "outputs": [
        {
          "output_type": "stream",
          "name": "stdout",
          "text": [
            "Unique한 값들의 개수:  7\n",
            "Unique한 값들:  ['0-17' '55+' '26-35' '46-50' '51-55' '36-45' '18-25']\n"
          ]
        }
      ]
    },
    {
      "cell_type": "code",
      "source": [
        "# 구매 횟수는 26~35세가 다른 연령 층에 비해 압도적으로 높고, 그 나이대로 부터 멀어질 수로 구매량이 줄어드는 것을 확인할 수 있다.\n",
        "sns.countplot(train['Age'])\n",
        "print(train['Age'].value_counts())"
      ],
      "metadata": {
        "colab": {
          "base_uri": "https://localhost:8080/",
          "height": 0
        },
        "id": "0vARKg3gwf_Y",
        "outputId": "d34c6999-decd-49be-e5d4-06e93fe52180"
      },
      "execution_count": 106,
      "outputs": [
        {
          "output_type": "stream",
          "name": "stdout",
          "text": [
            "26-35    219587\n",
            "36-45    110013\n",
            "18-25     99660\n",
            "46-50     45701\n",
            "51-55     38501\n",
            "55+       21504\n",
            "0-17      15102\n",
            "Name: Age, dtype: int64\n"
          ]
        },
        {
          "output_type": "display_data",
          "data": {
            "text/plain": [
              "<Figure size 432x288 with 1 Axes>"
            ],
            "image/png": "[encoded data removed]"
          },
          "metadata": {
            "needs_background": "light"
          }
        }
      ]
    },
    {
      "cell_type": "markdown",
      "source": [
        "#### Occupation"
      ],
      "metadata": {
        "id": "cVodw-7Tw5F8"
      }
    },
    {
      "cell_type": "code",
      "source": [
        "print(\"Unique한 값들의 개수: \", train['Occupation'].nunique())\n",
        "print(\"Unique한 값들: \", train['Occupation'].unique())"
      ],
      "metadata": {
        "colab": {
          "base_uri": "https://localhost:8080/"
        },
        "id": "oPkXpaDFw7cV",
        "outputId": "b7d6e76f-88ff-47da-90f8-a2d4f3be97f2"
      },
      "execution_count": 107,
      "outputs": [
        {
          "output_type": "stream",
          "name": "stdout",
          "text": [
            "Unique한 값들의 개수:  21\n",
            "Unique한 값들:  [10 16 15  7 20  9  1 12 17  0  3  4 11  8 19  2 18  5 14 13  6]\n"
          ]
        }
      ]
    },
    {
      "cell_type": "code",
      "source": [
        "# 각각의 직업 별로 그 수가 상당히 다름을 알 수 있다\n",
        "sns.countplot(train['Occupation'])"
      ],
      "metadata": {
        "colab": {
          "base_uri": "https://localhost:8080/",
          "height": 0
        },
        "id": "a1t-lxF7w__N",
        "outputId": "50ac3713-1d5b-4652-f9b5-31e4d46fcb9b"
      },
      "execution_count": 108,
      "outputs": [
        {
          "output_type": "execute_result",
          "data": {
            "text/plain": [
              "<matplotlib.axes._subplots.AxesSubplot at 0x7f0d24288650>"
            ]
          },
          "metadata": {},
          "execution_count": 108
        },
        {
          "output_type": "display_data",
          "data": {
            "text/plain": [
              "<Figure size 432x288 with 1 Axes>"
            ],
            "image/png": "[encoded data removed]"
          },
          "metadata": {
            "needs_background": "light"
          }
        }
      ]
    },
    {
      "cell_type": "markdown",
      "source": [
        "#### City_Category"
      ],
      "metadata": {
        "id": "2OMVgivqyVMQ"
      }
    },
    {
      "cell_type": "code",
      "source": [
        "print(\"Unique한 값들의 개수: \", train['City_Category'].nunique())\n",
        "print(\"Unique한 값들: \", train['City_Category'].unique())"
      ],
      "metadata": {
        "colab": {
          "base_uri": "https://localhost:8080/"
        },
        "id": "niYywvpdya2z",
        "outputId": "edc5df6d-94a2-4ea2-c827-a561bda74009"
      },
      "execution_count": 109,
      "outputs": [
        {
          "output_type": "stream",
          "name": "stdout",
          "text": [
            "Unique한 값들의 개수:  3\n",
            "Unique한 값들:  ['A' 'C' 'B']\n"
          ]
        }
      ]
    },
    {
      "cell_type": "code",
      "source": [
        "# 약간 차이가 나기는 하지만 전체적으로 비슷함을 알 수 있다\n",
        "sns.countplot(train['City_Category'])"
      ],
      "metadata": {
        "colab": {
          "base_uri": "https://localhost:8080/",
          "height": 0
        },
        "id": "xoSVugWCyfv0",
        "outputId": "a8a420b4-1a29-41da-8173-8ed5bb7a8987"
      },
      "execution_count": 110,
      "outputs": [
        {
          "output_type": "execute_result",
          "data": {
            "text/plain": [
              "<matplotlib.axes._subplots.AxesSubplot at 0x7f0d244e5390>"
            ]
          },
          "metadata": {},
          "execution_count": 110
        },
        {
          "output_type": "display_data",
          "data": {
            "text/plain": [
              "<Figure size 432x288 with 1 Axes>"
            ],
            "image/png": "[encoded data removed]"
          },
          "metadata": {
            "needs_background": "light"
          }
        }
      ]
    },
    {
      "cell_type": "code",
      "source": [
        "# 대략적으로 보았을 때 도시마다 구매력의 차이가 있다고 보기는 어려울 것 같다\n",
        "data = train.groupby('City_Category').sum()['Purchase']\n",
        "plt.bar(x=['A','B', 'C'], height=data)"
      ],
      "metadata": {
        "colab": {
          "base_uri": "https://localhost:8080/",
          "height": 0
        },
        "id": "feb8ivVQypVZ",
        "outputId": "3b180a93-7cea-4fec-ec47-247fe19d3464"
      },
      "execution_count": 111,
      "outputs": [
        {
          "output_type": "execute_result",
          "data": {
            "text/plain": [
              "<BarContainer object of 3 artists>"
            ]
          },
          "metadata": {},
          "execution_count": 111
        },
        {
          "output_type": "display_data",
          "data": {
            "text/plain": [
              "<Figure size 432x288 with 1 Axes>"
            ],
            "image/png": "[encoded data removed]"
          },
          "metadata": {
            "needs_background": "light"
          }
        }
      ]
    },
    {
      "cell_type": "markdown",
      "source": [
        "#### Stay_In_Current_City_Years\t"
      ],
      "metadata": {
        "id": "af1NjmwIzwNg"
      }
    },
    {
      "cell_type": "code",
      "source": [
        "print(\"Unique한 값들의 개수: \", train['Stay_In_Current_City_Years'].nunique())\n",
        "print(\"Unique한 값들: \", train['Stay_In_Current_City_Years'].unique())"
      ],
      "metadata": {
        "colab": {
          "base_uri": "https://localhost:8080/"
        },
        "id": "JxuOZdkHzw1h",
        "outputId": "9203a4ad-de2f-42e9-e909-0cebffc98337"
      },
      "execution_count": 112,
      "outputs": [
        {
          "output_type": "stream",
          "name": "stdout",
          "text": [
            "Unique한 값들의 개수:  5\n",
            "Unique한 값들:  ['2' '4+' '3' '1' '0']\n"
          ]
        }
      ]
    },
    {
      "cell_type": "markdown",
      "source": [
        "#### Marital_Status"
      ],
      "metadata": {
        "id": "TPo9SldVz3M7"
      }
    },
    {
      "cell_type": "code",
      "source": [
        "print(\"Unique한 값들의 개수: \", train['Marital_Status'].nunique())\n",
        "print(\"Unique한 값들: \", train['Marital_Status'].unique())"
      ],
      "metadata": {
        "colab": {
          "base_uri": "https://localhost:8080/"
        },
        "id": "zx5p1H1Oz720",
        "outputId": "2b7b0c40-d67e-4ba2-b5a3-fb382c9056fe"
      },
      "execution_count": 113,
      "outputs": [
        {
          "output_type": "stream",
          "name": "stdout",
          "text": [
            "Unique한 값들의 개수:  2\n",
            "Unique한 값들:  [0 1]\n"
          ]
        }
      ]
    },
    {
      "cell_type": "code",
      "source": [
        "# 0이 1에 비해 더 많다\n",
        "sns.countplot(train['Marital_Status'])"
      ],
      "metadata": {
        "colab": {
          "base_uri": "https://localhost:8080/",
          "height": 0
        },
        "id": "pLgrG9780Czs",
        "outputId": "99c252e2-6681-4838-ae96-67d69895eeb3"
      },
      "execution_count": 114,
      "outputs": [
        {
          "output_type": "execute_result",
          "data": {
            "text/plain": [
              "<matplotlib.axes._subplots.AxesSubplot at 0x7f0d11fbb750>"
            ]
          },
          "metadata": {},
          "execution_count": 114
        },
        {
          "output_type": "display_data",
          "data": {
            "text/plain": [
              "<Figure size 432x288 with 1 Axes>"
            ],
            "image/png": "[encoded data removed]"
          },
          "metadata": {
            "needs_background": "light"
          }
        }
      ]
    },
    {
      "cell_type": "code",
      "source": [
        "# 구매력은 크게 차이가 나지는 않는 것 같다\n",
        "data = train.groupby('Marital_Status').sum()['Purchase']\n",
        "plt.bar(x=[0, 1], height=data)"
      ],
      "metadata": {
        "colab": {
          "base_uri": "https://localhost:8080/",
          "height": 0
        },
        "id": "ZF6aox0R0F5C",
        "outputId": "2f9fd8c6-8324-400b-8daf-2c4b506a6556"
      },
      "execution_count": 115,
      "outputs": [
        {
          "output_type": "execute_result",
          "data": {
            "text/plain": [
              "<BarContainer object of 2 artists>"
            ]
          },
          "metadata": {},
          "execution_count": 115
        },
        {
          "output_type": "display_data",
          "data": {
            "text/plain": [
              "<Figure size 432x288 with 1 Axes>"
            ],
            "image/png": "[encoded data removed]"
          },
          "metadata": {
            "needs_background": "light"
          }
        }
      ]
    },
    {
      "cell_type": "markdown",
      "source": [
        "#### Product_Category_1\t"
      ],
      "metadata": {
        "id": "a9mRG7Rn0hO2"
      }
    },
    {
      "cell_type": "code",
      "source": [
        "print(\"Unique한 값들의 개수: \", train['Product_Category_1'].nunique())\n",
        "print(\"Unique한 값들: \", train['Product_Category_1'].unique())"
      ],
      "metadata": {
        "colab": {
          "base_uri": "https://localhost:8080/"
        },
        "id": "9b94pG200h-f",
        "outputId": "a9ae46f7-f0c5-4bbe-b4c2-6ed64c9cd72c"
      },
      "execution_count": 116,
      "outputs": [
        {
          "output_type": "stream",
          "name": "stdout",
          "text": [
            "Unique한 값들의 개수:  20\n",
            "Unique한 값들:  [ 3  1 12  8  5  4  2  6 14 11 13 15  7 16 18 10 17  9 20 19]\n"
          ]
        }
      ]
    },
    {
      "cell_type": "code",
      "source": [
        "# 판매량이 그룹별로 상당히 심한 차이를 보이고 있음을 알 수 있다\n",
        "sns.countplot(train['Product_Category_1'])"
      ],
      "metadata": {
        "colab": {
          "base_uri": "https://localhost:8080/",
          "height": 0
        },
        "id": "hWC3GsSp0qUw",
        "outputId": "b33dd068-02af-462d-e07d-e99bb75ea59b"
      },
      "execution_count": 117,
      "outputs": [
        {
          "output_type": "execute_result",
          "data": {
            "text/plain": [
              "<matplotlib.axes._subplots.AxesSubplot at 0x7f0d3a2738d0>"
            ]
          },
          "metadata": {},
          "execution_count": 117
        },
        {
          "output_type": "display_data",
          "data": {
            "text/plain": [
              "<Figure size 432x288 with 1 Axes>"
            ],
            "image/png": "[encoded data removed]"
          },
          "metadata": {
            "needs_background": "light"
          }
        }
      ]
    },
    {
      "cell_type": "code",
      "source": [
        "# 전체적으로 비슷하지만 5번과 같이 판매량과 판매금액이 차이가 많이 나보이는 제품들도 일부 존재한다.\n",
        "data = train.groupby('Product_Category_1').sum()['Purchase']\n",
        "plt.bar(x=[x for x in range(1, 21)], height=data)"
      ],
      "metadata": {
        "colab": {
          "base_uri": "https://localhost:8080/",
          "height": 0
        },
        "id": "-FkOAEh301Mv",
        "outputId": "2c6b6772-db36-4e20-c861-c7fd083285db"
      },
      "execution_count": 118,
      "outputs": [
        {
          "output_type": "execute_result",
          "data": {
            "text/plain": [
              "<BarContainer object of 20 artists>"
            ]
          },
          "metadata": {},
          "execution_count": 118
        },
        {
          "output_type": "display_data",
          "data": {
            "text/plain": [
              "<Figure size 432x288 with 1 Axes>"
            ],
            "image/png": "[encoded data removed]"
          },
          "metadata": {
            "needs_background": "light"
          }
        }
      ]
    },
    {
      "cell_type": "markdown",
      "source": [
        "### Define Problem"
      ],
      "metadata": {
        "id": "2_6F4vZB1sYO"
      }
    },
    {
      "cell_type": "markdown",
      "source": [
        "User별 Purchase 금액의 합계를 예측하려고 함 이 때, Product ID 및 Purchase카테고리는 사용하지 않음"
      ],
      "metadata": {
        "id": "5IqqFMWu1uIV"
      }
    },
    {
      "cell_type": "code",
      "source": [
        "train = pd.read_csv('train.csv')\n",
        "train.head()"
      ],
      "metadata": {
        "colab": {
          "base_uri": "https://localhost:8080/",
          "height": 0
        },
        "id": "P3RmEcFK3LS7",
        "outputId": "4b051a3e-6788-4d14-ca3e-9fce023705db"
      },
      "execution_count": 119,
      "outputs": [
        {
          "output_type": "execute_result",
          "data": {
            "text/plain": [
              "   User_ID Product_ID Gender   Age  Occupation City_Category  \\\n",
              "0  1000001  P00069042      F  0-17          10             A   \n",
              "1  1000001  P00248942      F  0-17          10             A   \n",
              "2  1000001  P00087842      F  0-17          10             A   \n",
              "3  1000001  P00085442      F  0-17          10             A   \n",
              "4  1000002  P00285442      M   55+          16             C   \n",
              "\n",
              "  Stay_In_Current_City_Years  Marital_Status  Product_Category_1  \\\n",
              "0                          2               0                   3   \n",
              "1                          2               0                   1   \n",
              "2                          2               0                  12   \n",
              "3                          2               0                  12   \n",
              "4                         4+               0                   8   \n",
              "\n",
              "   Product_Category_2  Product_Category_3  Purchase  \n",
              "0                 NaN                 NaN      8370  \n",
              "1                 6.0                14.0     15200  \n",
              "2                 NaN                 NaN      1422  \n",
              "3                14.0                 NaN      1057  \n",
              "4                 NaN                 NaN      7969  "
            ],
            "text/html": [
              "\n",
              "  <div id=\"df-799d0044-821c-4b59-a3ca-46be11c7be4b\">\n",
              "    <div class=\"colab-df-container\">\n",
              "      <div>\n",
              "<style scoped>\n",
              "    .dataframe tbody tr th:only-of-type {\n",
              "        vertical-align: middle;\n",
              "    }\n",
              "\n",
              "    .dataframe tbody tr th {\n",
              "        vertical-align: top;\n",
              "    }\n",
              "\n",
              "    .dataframe thead th {\n",
              "        text-align: right;\n",
              "    }\n",
              "</style>\n",
              "<table border=\"1\" class=\"dataframe\">\n",
              "  <thead>\n",
              "    <tr style=\"text-align: right;\">\n",
              "      <th></th>\n",
              "      <th>User_ID</th>\n",
              "      <th>Product_ID</th>\n",
              "      <th>Gender</th>\n",
              "      <th>Age</th>\n",
              "      <th>Occupation</th>\n",
              "      <th>City_Category</th>\n",
              "      <th>Stay_In_Current_City_Years</th>\n",
              "      <th>Marital_Status</th>\n",
              "      <th>Product_Category_1</th>\n",
              "      <th>Product_Category_2</th>\n",
              "      <th>Product_Category_3</th>\n",
              "      <th>Purchase</th>\n",
              "    </tr>\n",
              "  </thead>\n",
              "  <tbody>\n",
              "    <tr>\n",
              "      <th>0</th>\n",
              "      <td>1000001</td>\n",
              "      <td>P00069042</td>\n",
              "      <td>F</td>\n",
              "      <td>0-17</td>\n",
              "      <td>10</td>\n",
              "      <td>A</td>\n",
              "      <td>2</td>\n",
              "      <td>0</td>\n",
              "      <td>3</td>\n",
              "      <td>NaN</td>\n",
              "      <td>NaN</td>\n",
              "      <td>8370</td>\n",
              "    </tr>\n",
              "    <tr>\n",
              "      <th>1</th>\n",
              "      <td>1000001</td>\n",
              "      <td>P00248942</td>\n",
              "      <td>F</td>\n",
              "      <td>0-17</td>\n",
              "      <td>10</td>\n",
              "      <td>A</td>\n",
              "      <td>2</td>\n",
              "      <td>0</td>\n",
              "      <td>1</td>\n",
              "      <td>6.0</td>\n",
              "      <td>14.0</td>\n",
              "      <td>15200</td>\n",
              "    </tr>\n",
              "    <tr>\n",
              "      <th>2</th>\n",
              "      <td>1000001</td>\n",
              "      <td>P00087842</td>\n",
              "      <td>F</td>\n",
              "      <td>0-17</td>\n",
              "      <td>10</td>\n",
              "      <td>A</td>\n",
              "      <td>2</td>\n",
              "      <td>0</td>\n",
              "      <td>12</td>\n",
              "      <td>NaN</td>\n",
              "      <td>NaN</td>\n",
              "      <td>1422</td>\n",
              "    </tr>\n",
              "    <tr>\n",
              "      <th>3</th>\n",
              "      <td>1000001</td>\n",
              "      <td>P00085442</td>\n",
              "      <td>F</td>\n",
              "      <td>0-17</td>\n",
              "      <td>10</td>\n",
              "      <td>A</td>\n",
              "      <td>2</td>\n",
              "      <td>0</td>\n",
              "      <td>12</td>\n",
              "      <td>14.0</td>\n",
              "      <td>NaN</td>\n",
              "      <td>1057</td>\n",
              "    </tr>\n",
              "    <tr>\n",
              "      <th>4</th>\n",
              "      <td>1000002</td>\n",
              "      <td>P00285442</td>\n",
              "      <td>M</td>\n",
              "      <td>55+</td>\n",
              "      <td>16</td>\n",
              "      <td>C</td>\n",
              "      <td>4+</td>\n",
              "      <td>0</td>\n",
              "      <td>8</td>\n",
              "      <td>NaN</td>\n",
              "      <td>NaN</td>\n",
              "      <td>7969</td>\n",
              "    </tr>\n",
              "  </tbody>\n",
              "</table>\n",
              "</div>\n",
              "      <button class=\"colab-df-convert\" onclick=\"convertToInteractive('df-799d0044-821c-4b59-a3ca-46be11c7be4b')\"\n",
              "              title=\"Convert this dataframe to an interactive table.\"\n",
              "              style=\"display:none;\">\n",
              "        \n",
              "  <svg xmlns=\"http://www.w3.org/2000/svg\" height=\"24px\"viewBox=\"0 0 24 24\"\n",
              "       width=\"24px\">\n",
              "    <path d=\"M0 0h24v24H0V0z\" fill=\"none\"/>\n",
              "    <path d=\"M18.56 5.44l.94 2.06.94-2.06 2.06-.94-2.06-.94-.94-2.06-.94 2.06-2.06.94zm-11 1L8.5 8.5l.94-2.06 2.06-.94-2.06-.94L8.5 2.5l-.94 2.06-2.06.94zm10 10l.94 2.06.94-2.06 2.06-.94-2.06-.94-.94-2.06-.94 2.06-2.06.94z\"/><path d=\"M17.41 7.96l-1.37-1.37c-.4-.4-.92-.59-1.43-.59-.52 0-1.04.2-1.43.59L10.3 9.45l-7.72 7.72c-.78.78-.78 2.05 0 2.83L4 21.41c.39.39.9.59 1.41.59.51 0 1.02-.2 1.41-.59l7.78-7.78 2.81-2.81c.8-.78.8-2.07 0-2.86zM5.41 20L4 18.59l7.72-7.72 1.47 1.35L5.41 20z\"/>\n",
              "  </svg>\n",
              "      </button>\n",
              "      \n",
              "  <style>\n",
              "    .colab-df-container {\n",
              "      display:flex;\n",
              "      flex-wrap:wrap;\n",
              "      gap: 12px;\n",
              "    }\n",
              "\n",
              "    .colab-df-convert {\n",
              "      background-color: #E8F0FE;\n",
              "      border: none;\n",
              "      border-radius: 50%;\n",
              "      cursor: pointer;\n",
              "      display: none;\n",
              "      fill: #1967D2;\n",
              "      height: 32px;\n",
              "      padding: 0 0 0 0;\n",
              "      width: 32px;\n",
              "    }\n",
              "\n",
              "    .colab-df-convert:hover {\n",
              "      background-color: #E2EBFA;\n",
              "      box-shadow: 0px 1px 2px rgba(60, 64, 67, 0.3), 0px 1px 3px 1px rgba(60, 64, 67, 0.15);\n",
              "      fill: #174EA6;\n",
              "    }\n",
              "\n",
              "    [theme=dark] .colab-df-convert {\n",
              "      background-color: #3B4455;\n",
              "      fill: #D2E3FC;\n",
              "    }\n",
              "\n",
              "    [theme=dark] .colab-df-convert:hover {\n",
              "      background-color: #434B5C;\n",
              "      box-shadow: 0px 1px 3px 1px rgba(0, 0, 0, 0.15);\n",
              "      filter: drop-shadow(0px 1px 2px rgba(0, 0, 0, 0.3));\n",
              "      fill: #FFFFFF;\n",
              "    }\n",
              "  </style>\n",
              "\n",
              "      <script>\n",
              "        const buttonEl =\n",
              "          document.querySelector('#df-799d0044-821c-4b59-a3ca-46be11c7be4b button.colab-df-convert');\n",
              "        buttonEl.style.display =\n",
              "          google.colab.kernel.accessAllowed ? 'block' : 'none';\n",
              "\n",
              "        async function convertToInteractive(key) {\n",
              "          const element = document.querySelector('#df-799d0044-821c-4b59-a3ca-46be11c7be4b');\n",
              "          const dataTable =\n",
              "            await google.colab.kernel.invokeFunction('convertToInteractive',\n",
              "                                                     [key], {});\n",
              "          if (!dataTable) return;\n",
              "\n",
              "          const docLinkHtml = 'Like what you see? Visit the ' +\n",
              "            '<a target=\"_blank\" href=https://colab.research.google.com/notebooks/data_table.ipynb>data table notebook</a>'\n",
              "            + ' to learn more about interactive tables.';\n",
              "          element.innerHTML = '';\n",
              "          dataTable['output_type'] = 'display_data';\n",
              "          await google.colab.output.renderOutput(dataTable, element);\n",
              "          const docLink = document.createElement('div');\n",
              "          docLink.innerHTML = docLinkHtml;\n",
              "          element.appendChild(docLink);\n",
              "        }\n",
              "      </script>\n",
              "    </div>\n",
              "  </div>\n",
              "  "
            ]
          },
          "metadata": {},
          "execution_count": 119
        }
      ]
    },
    {
      "cell_type": "code",
      "source": [
        "target = pd.Series(train.groupby(\"User_ID\").sum()['Purchase'])"
      ],
      "metadata": {
        "id": "7Krhu7Vo17JS"
      },
      "execution_count": 120,
      "outputs": []
    },
    {
      "cell_type": "code",
      "source": [
        "train = train.drop(['Product_ID', 'Product_Category_1', 'Product_Category_2', 'Product_Category_3'], axis=1)"
      ],
      "metadata": {
        "id": "-2Qke6kS2Gzc"
      },
      "execution_count": 121,
      "outputs": []
    },
    {
      "cell_type": "code",
      "source": [
        "train = train.drop_duplicates(subset=['User_ID']).reset_index(drop=True).set_index('User_ID')"
      ],
      "metadata": {
        "id": "x8d810lP2UM3"
      },
      "execution_count": 122,
      "outputs": []
    },
    {
      "cell_type": "code",
      "source": [
        "train['Purchase'] = target"
      ],
      "metadata": {
        "id": "W8rTA36937ni"
      },
      "execution_count": 123,
      "outputs": []
    },
    {
      "cell_type": "code",
      "source": [
        "train.head()"
      ],
      "metadata": {
        "colab": {
          "base_uri": "https://localhost:8080/",
          "height": 0
        },
        "id": "AMCfL4sD4WyK",
        "outputId": "d6f7609a-b5a9-4e84-b441-013472799187"
      },
      "execution_count": 124,
      "outputs": [
        {
          "output_type": "execute_result",
          "data": {
            "text/plain": [
              "        Gender    Age  Occupation City_Category Stay_In_Current_City_Years  \\\n",
              "User_ID                                                                      \n",
              "1000001      F   0-17          10             A                          2   \n",
              "1000002      M    55+          16             C                         4+   \n",
              "1000003      M  26-35          15             A                          3   \n",
              "1000004      M  46-50           7             B                          2   \n",
              "1000005      M  26-35          20             A                          1   \n",
              "\n",
              "         Marital_Status  Purchase  \n",
              "User_ID                            \n",
              "1000001               0    334093  \n",
              "1000002               0    810472  \n",
              "1000003               0    341635  \n",
              "1000004               1    206468  \n",
              "1000005               1    821001  "
            ],
            "text/html": [
              "\n",
              "  <div id=\"df-ad645952-6f79-4674-9b35-ceca27ab3265\">\n",
              "    <div class=\"colab-df-container\">\n",
              "      <div>\n",
              "<style scoped>\n",
              "    .dataframe tbody tr th:only-of-type {\n",
              "        vertical-align: middle;\n",
              "    }\n",
              "\n",
              "    .dataframe tbody tr th {\n",
              "        vertical-align: top;\n",
              "    }\n",
              "\n",
              "    .dataframe thead th {\n",
              "        text-align: right;\n",
              "    }\n",
              "</style>\n",
              "<table border=\"1\" class=\"dataframe\">\n",
              "  <thead>\n",
              "    <tr style=\"text-align: right;\">\n",
              "      <th></th>\n",
              "      <th>Gender</th>\n",
              "      <th>Age</th>\n",
              "      <th>Occupation</th>\n",
              "      <th>City_Category</th>\n",
              "      <th>Stay_In_Current_City_Years</th>\n",
              "      <th>Marital_Status</th>\n",
              "      <th>Purchase</th>\n",
              "    </tr>\n",
              "    <tr>\n",
              "      <th>User_ID</th>\n",
              "      <th></th>\n",
              "      <th></th>\n",
              "      <th></th>\n",
              "      <th></th>\n",
              "      <th></th>\n",
              "      <th></th>\n",
              "      <th></th>\n",
              "    </tr>\n",
              "  </thead>\n",
              "  <tbody>\n",
              "    <tr>\n",
              "      <th>1000001</th>\n",
              "      <td>F</td>\n",
              "      <td>0-17</td>\n",
              "      <td>10</td>\n",
              "      <td>A</td>\n",
              "      <td>2</td>\n",
              "      <td>0</td>\n",
              "      <td>334093</td>\n",
              "    </tr>\n",
              "    <tr>\n",
              "      <th>1000002</th>\n",
              "      <td>M</td>\n",
              "      <td>55+</td>\n",
              "      <td>16</td>\n",
              "      <td>C</td>\n",
              "      <td>4+</td>\n",
              "      <td>0</td>\n",
              "      <td>810472</td>\n",
              "    </tr>\n",
              "    <tr>\n",
              "      <th>1000003</th>\n",
              "      <td>M</td>\n",
              "      <td>26-35</td>\n",
              "      <td>15</td>\n",
              "      <td>A</td>\n",
              "      <td>3</td>\n",
              "      <td>0</td>\n",
              "      <td>341635</td>\n",
              "    </tr>\n",
              "    <tr>\n",
              "      <th>1000004</th>\n",
              "      <td>M</td>\n",
              "      <td>46-50</td>\n",
              "      <td>7</td>\n",
              "      <td>B</td>\n",
              "      <td>2</td>\n",
              "      <td>1</td>\n",
              "      <td>206468</td>\n",
              "    </tr>\n",
              "    <tr>\n",
              "      <th>1000005</th>\n",
              "      <td>M</td>\n",
              "      <td>26-35</td>\n",
              "      <td>20</td>\n",
              "      <td>A</td>\n",
              "      <td>1</td>\n",
              "      <td>1</td>\n",
              "      <td>821001</td>\n",
              "    </tr>\n",
              "  </tbody>\n",
              "</table>\n",
              "</div>\n",
              "      <button class=\"colab-df-convert\" onclick=\"convertToInteractive('df-ad645952-6f79-4674-9b35-ceca27ab3265')\"\n",
              "              title=\"Convert this dataframe to an interactive table.\"\n",
              "              style=\"display:none;\">\n",
              "        \n",
              "  <svg xmlns=\"http://www.w3.org/2000/svg\" height=\"24px\"viewBox=\"0 0 24 24\"\n",
              "       width=\"24px\">\n",
              "    <path d=\"M0 0h24v24H0V0z\" fill=\"none\"/>\n",
              "    <path d=\"M18.56 5.44l.94 2.06.94-2.06 2.06-.94-2.06-.94-.94-2.06-.94 2.06-2.06.94zm-11 1L8.5 8.5l.94-2.06 2.06-.94-2.06-.94L8.5 2.5l-.94 2.06-2.06.94zm10 10l.94 2.06.94-2.06 2.06-.94-2.06-.94-.94-2.06-.94 2.06-2.06.94z\"/><path d=\"M17.41 7.96l-1.37-1.37c-.4-.4-.92-.59-1.43-.59-.52 0-1.04.2-1.43.59L10.3 9.45l-7.72 7.72c-.78.78-.78 2.05 0 2.83L4 21.41c.39.39.9.59 1.41.59.51 0 1.02-.2 1.41-.59l7.78-7.78 2.81-2.81c.8-.78.8-2.07 0-2.86zM5.41 20L4 18.59l7.72-7.72 1.47 1.35L5.41 20z\"/>\n",
              "  </svg>\n",
              "      </button>\n",
              "      \n",
              "  <style>\n",
              "    .colab-df-container {\n",
              "      display:flex;\n",
              "      flex-wrap:wrap;\n",
              "      gap: 12px;\n",
              "    }\n",
              "\n",
              "    .colab-df-convert {\n",
              "      background-color: #E8F0FE;\n",
              "      border: none;\n",
              "      border-radius: 50%;\n",
              "      cursor: pointer;\n",
              "      display: none;\n",
              "      fill: #1967D2;\n",
              "      height: 32px;\n",
              "      padding: 0 0 0 0;\n",
              "      width: 32px;\n",
              "    }\n",
              "\n",
              "    .colab-df-convert:hover {\n",
              "      background-color: #E2EBFA;\n",
              "      box-shadow: 0px 1px 2px rgba(60, 64, 67, 0.3), 0px 1px 3px 1px rgba(60, 64, 67, 0.15);\n",
              "      fill: #174EA6;\n",
              "    }\n",
              "\n",
              "    [theme=dark] .colab-df-convert {\n",
              "      background-color: #3B4455;\n",
              "      fill: #D2E3FC;\n",
              "    }\n",
              "\n",
              "    [theme=dark] .colab-df-convert:hover {\n",
              "      background-color: #434B5C;\n",
              "      box-shadow: 0px 1px 3px 1px rgba(0, 0, 0, 0.15);\n",
              "      filter: drop-shadow(0px 1px 2px rgba(0, 0, 0, 0.3));\n",
              "      fill: #FFFFFF;\n",
              "    }\n",
              "  </style>\n",
              "\n",
              "      <script>\n",
              "        const buttonEl =\n",
              "          document.querySelector('#df-ad645952-6f79-4674-9b35-ceca27ab3265 button.colab-df-convert');\n",
              "        buttonEl.style.display =\n",
              "          google.colab.kernel.accessAllowed ? 'block' : 'none';\n",
              "\n",
              "        async function convertToInteractive(key) {\n",
              "          const element = document.querySelector('#df-ad645952-6f79-4674-9b35-ceca27ab3265');\n",
              "          const dataTable =\n",
              "            await google.colab.kernel.invokeFunction('convertToInteractive',\n",
              "                                                     [key], {});\n",
              "          if (!dataTable) return;\n",
              "\n",
              "          const docLinkHtml = 'Like what you see? Visit the ' +\n",
              "            '<a target=\"_blank\" href=https://colab.research.google.com/notebooks/data_table.ipynb>data table notebook</a>'\n",
              "            + ' to learn more about interactive tables.';\n",
              "          element.innerHTML = '';\n",
              "          dataTable['output_type'] = 'display_data';\n",
              "          await google.colab.output.renderOutput(dataTable, element);\n",
              "          const docLink = document.createElement('div');\n",
              "          docLink.innerHTML = docLinkHtml;\n",
              "          element.appendChild(docLink);\n",
              "        }\n",
              "      </script>\n",
              "    </div>\n",
              "  </div>\n",
              "  "
            ]
          },
          "metadata": {},
          "execution_count": 124
        }
      ]
    },
    {
      "cell_type": "code",
      "source": [
        "# occupation도 onehot인코딩을 해주기 위해서\n",
        "df = train.astype({'Occupation': 'str'})"
      ],
      "metadata": {
        "id": "oVSFtfj042N5"
      },
      "execution_count": 125,
      "outputs": []
    },
    {
      "cell_type": "code",
      "source": [
        "df = pd.get_dummies(df)"
      ],
      "metadata": {
        "id": "Jmtre1Tq5jzk"
      },
      "execution_count": 126,
      "outputs": []
    },
    {
      "cell_type": "code",
      "source": [
        "X = df.drop('Purchase', axis=1)\n",
        "y = df[['Purchase']]"
      ],
      "metadata": {
        "id": "Q9JPa7ot50ie"
      },
      "execution_count": 127,
      "outputs": []
    },
    {
      "cell_type": "code",
      "source": [
        "from sklearn.model_selection import train_test_split\n",
        "X_train, X_test, y_train, y_test = train_test_split(X, y, test_size=0.2, random_state=42)"
      ],
      "metadata": {
        "id": "5LNJD9qD6AJD"
      },
      "execution_count": 128,
      "outputs": []
    },
    {
      "cell_type": "code",
      "source": [
        "X_train.shape"
      ],
      "metadata": {
        "colab": {
          "base_uri": "https://localhost:8080/"
        },
        "id": "yVJ3vl8h8rXg",
        "outputId": "fb4afbc4-b968-428b-b289-5330e97099a9"
      },
      "execution_count": 129,
      "outputs": [
        {
          "output_type": "execute_result",
          "data": {
            "text/plain": [
              "(4712, 39)"
            ]
          },
          "metadata": {},
          "execution_count": 129
        }
      ]
    },
    {
      "cell_type": "code",
      "source": [
        "from sklearn.preprocessing import StandardScaler, MinMaxScaler\n",
        "y_scaler = MinMaxScaler()\n",
        "y_train = y_scaler.fit_transform(y_train)\n",
        "y_test = y_scaler.transform(y_test)"
      ],
      "metadata": {
        "id": "Wpeiv-MQP9gJ"
      },
      "execution_count": 130,
      "outputs": []
    },
    {
      "cell_type": "markdown",
      "source": [
        "### Using deep learning"
      ],
      "metadata": {
        "id": "J-kGXU598CJK"
      }
    },
    {
      "cell_type": "markdown",
      "source": [
        "#### Model1"
      ],
      "metadata": {
        "id": "g-zhzCbo-6u6"
      }
    },
    {
      "cell_type": "code",
      "source": [
        "keras.backend.clear_session()\n",
        "tf.random.set_seed(42)\n",
        "np.random.seed(42)\n",
        "\n",
        "model1 = Sequential()\n",
        "model1.add(Dense(1000, input_shape=(39, ), activation='relu', name='dense1'))\n",
        "model1.add(BatchNormalization())\n",
        "model1.add(Dropout(0.2, name='dropout1'))\n",
        "model1.add(Dense(200, activation='relu', name='dense2'))\n",
        "model1.add(BatchNormalization())\n",
        "model1.add(Dropout(0.2, name='dropout2'))\n",
        "model1.add(Dense(50, activation='relu', name='dense3'))\n",
        "model1.add(BatchNormalization())\n",
        "model1.add(Dropout(0.2, name='dropout3'))\n",
        "model1.add(Dense(10, activation='relu', name='dense4'))\n",
        "model1.add(Dense(1, name='output'))"
      ],
      "metadata": {
        "id": "KgSJgcT58FkU"
      },
      "execution_count": 131,
      "outputs": []
    },
    {
      "cell_type": "code",
      "source": [
        "model1.summary()"
      ],
      "metadata": {
        "colab": {
          "base_uri": "https://localhost:8080/"
        },
        "id": "9Ax3QXk6_FsF",
        "outputId": "a18175cf-283c-4fe0-fad5-336cccc3c7a8"
      },
      "execution_count": 132,
      "outputs": [
        {
          "output_type": "stream",
          "name": "stdout",
          "text": [
            "Model: \"sequential\"\n",
            "_________________________________________________________________\n",
            " Layer (type)                Output Shape              Param #   \n",
            "=================================================================\n",
            " dense1 (Dense)              (None, 1000)              40000     \n",
            "                                                                 \n",
            " batch_normalization (BatchN  (None, 1000)             4000      \n",
            " ormalization)                                                   \n",
            "                                                                 \n",
            " dropout1 (Dropout)          (None, 1000)              0         \n",
            "                                                                 \n",
            " dense2 (Dense)              (None, 200)               200200    \n",
            "                                                                 \n",
            " batch_normalization_1 (Batc  (None, 200)              800       \n",
            " hNormalization)                                                 \n",
            "                                                                 \n",
            " dropout2 (Dropout)          (None, 200)               0         \n",
            "                                                                 \n",
            " dense3 (Dense)              (None, 50)                10050     \n",
            "                                                                 \n",
            " batch_normalization_2 (Batc  (None, 50)               200       \n",
            " hNormalization)                                                 \n",
            "                                                                 \n",
            " dropout3 (Dropout)          (None, 50)                0         \n",
            "                                                                 \n",
            " dense4 (Dense)              (None, 10)                510       \n",
            "                                                                 \n",
            " output (Dense)              (None, 1)                 11        \n",
            "                                                                 \n",
            "=================================================================\n",
            "Total params: 255,771\n",
            "Trainable params: 253,271\n",
            "Non-trainable params: 2,500\n",
            "_________________________________________________________________\n"
          ]
        }
      ]
    },
    {
      "cell_type": "code",
      "source": [
        "optimizer = tf.keras.optimizers.Adam(lr=1e-4)\n",
        "model1.compile(loss='mse', optimizer= optimizer)"
      ],
      "metadata": {
        "id": "fW18xNcQ-q0z"
      },
      "execution_count": 133,
      "outputs": []
    },
    {
      "cell_type": "code",
      "source": [
        "model1.fit(X_train, y_train, epochs=100, batch_size=1000)"
      ],
      "metadata": {
        "colab": {
          "base_uri": "https://localhost:8080/"
        },
        "id": "ASZwi0bn-dYr",
        "outputId": "7cef39d5-c67e-4900-ace4-04a4acc56394"
      },
      "execution_count": 134,
      "outputs": [
        {
          "output_type": "stream",
          "name": "stdout",
          "text": [
            "Epoch 1/100\n",
            "5/5 [==============================] - 1s 7ms/step - loss: 0.9867\n",
            "Epoch 2/100\n",
            "5/5 [==============================] - 0s 7ms/step - loss: 0.8171\n",
            "Epoch 3/100\n",
            "5/5 [==============================] - 0s 6ms/step - loss: 0.7236\n",
            "Epoch 4/100\n",
            "5/5 [==============================] - 0s 6ms/step - loss: 0.6608\n",
            "Epoch 5/100\n",
            "5/5 [==============================] - 0s 6ms/step - loss: 0.5994\n",
            "Epoch 6/100\n",
            "5/5 [==============================] - 0s 6ms/step - loss: 0.5710\n",
            "Epoch 7/100\n",
            "5/5 [==============================] - 0s 6ms/step - loss: 0.5493\n",
            "Epoch 8/100\n",
            "5/5 [==============================] - 0s 8ms/step - loss: 0.5124\n",
            "Epoch 9/100\n",
            "5/5 [==============================] - 0s 7ms/step - loss: 0.4959\n",
            "Epoch 10/100\n",
            "5/5 [==============================] - 0s 6ms/step - loss: 0.4468\n",
            "Epoch 11/100\n",
            "5/5 [==============================] - 0s 7ms/step - loss: 0.4391\n",
            "Epoch 12/100\n",
            "5/5 [==============================] - 0s 6ms/step - loss: 0.4249\n",
            "Epoch 13/100\n",
            "5/5 [==============================] - 0s 6ms/step - loss: 0.3966\n",
            "Epoch 14/100\n",
            "5/5 [==============================] - 0s 6ms/step - loss: 0.3860\n",
            "Epoch 15/100\n",
            "5/5 [==============================] - 0s 10ms/step - loss: 0.3939\n",
            "Epoch 16/100\n",
            "5/5 [==============================] - 0s 6ms/step - loss: 0.3814\n",
            "Epoch 17/100\n",
            "5/5 [==============================] - 0s 6ms/step - loss: 0.3552\n",
            "Epoch 18/100\n",
            "5/5 [==============================] - 0s 6ms/step - loss: 0.3617\n",
            "Epoch 19/100\n",
            "5/5 [==============================] - 0s 6ms/step - loss: 0.3414\n",
            "Epoch 20/100\n",
            "5/5 [==============================] - 0s 6ms/step - loss: 0.3195\n",
            "Epoch 21/100\n",
            "5/5 [==============================] - 0s 6ms/step - loss: 0.3189\n",
            "Epoch 22/100\n",
            "5/5 [==============================] - 0s 7ms/step - loss: 0.3106\n",
            "Epoch 23/100\n",
            "5/5 [==============================] - 0s 7ms/step - loss: 0.3057\n",
            "Epoch 24/100\n",
            "5/5 [==============================] - 0s 7ms/step - loss: 0.2948\n",
            "Epoch 25/100\n",
            "5/5 [==============================] - 0s 9ms/step - loss: 0.2813\n",
            "Epoch 26/100\n",
            "5/5 [==============================] - 0s 7ms/step - loss: 0.2779\n",
            "Epoch 27/100\n",
            "5/5 [==============================] - 0s 7ms/step - loss: 0.2653\n",
            "Epoch 28/100\n",
            "5/5 [==============================] - 0s 7ms/step - loss: 0.2785\n",
            "Epoch 29/100\n",
            "5/5 [==============================] - 0s 6ms/step - loss: 0.2641\n",
            "Epoch 30/100\n",
            "5/5 [==============================] - 0s 7ms/step - loss: 0.2471\n",
            "Epoch 31/100\n",
            "5/5 [==============================] - 0s 6ms/step - loss: 0.2475\n",
            "Epoch 32/100\n",
            "5/5 [==============================] - 0s 6ms/step - loss: 0.2426\n",
            "Epoch 33/100\n",
            "5/5 [==============================] - 0s 7ms/step - loss: 0.2297\n",
            "Epoch 34/100\n",
            "5/5 [==============================] - 0s 6ms/step - loss: 0.2298\n",
            "Epoch 35/100\n",
            "5/5 [==============================] - 0s 6ms/step - loss: 0.2178\n",
            "Epoch 36/100\n",
            "5/5 [==============================] - 0s 7ms/step - loss: 0.2320\n",
            "Epoch 37/100\n",
            "5/5 [==============================] - 0s 7ms/step - loss: 0.2181\n",
            "Epoch 38/100\n",
            "5/5 [==============================] - 0s 7ms/step - loss: 0.2174\n",
            "Epoch 39/100\n",
            "5/5 [==============================] - 0s 6ms/step - loss: 0.2081\n",
            "Epoch 40/100\n",
            "5/5 [==============================] - 0s 6ms/step - loss: 0.2083\n",
            "Epoch 41/100\n",
            "5/5 [==============================] - 0s 6ms/step - loss: 0.2001\n",
            "Epoch 42/100\n",
            "5/5 [==============================] - 0s 7ms/step - loss: 0.2020\n",
            "Epoch 43/100\n",
            "5/5 [==============================] - 0s 7ms/step - loss: 0.1909\n",
            "Epoch 44/100\n",
            "5/5 [==============================] - 0s 6ms/step - loss: 0.1919\n",
            "Epoch 45/100\n",
            "5/5 [==============================] - 0s 6ms/step - loss: 0.1907\n",
            "Epoch 46/100\n",
            "5/5 [==============================] - 0s 7ms/step - loss: 0.1852\n",
            "Epoch 47/100\n",
            "5/5 [==============================] - 0s 6ms/step - loss: 0.1763\n",
            "Epoch 48/100\n",
            "5/5 [==============================] - 0s 6ms/step - loss: 0.1779\n",
            "Epoch 49/100\n",
            "5/5 [==============================] - 0s 7ms/step - loss: 0.1702\n",
            "Epoch 50/100\n",
            "5/5 [==============================] - 0s 7ms/step - loss: 0.1756\n",
            "Epoch 51/100\n",
            "5/5 [==============================] - 0s 7ms/step - loss: 0.1650\n",
            "Epoch 52/100\n",
            "5/5 [==============================] - 0s 7ms/step - loss: 0.1700\n",
            "Epoch 53/100\n",
            "5/5 [==============================] - 0s 6ms/step - loss: 0.1624\n",
            "Epoch 54/100\n",
            "5/5 [==============================] - 0s 7ms/step - loss: 0.1537\n",
            "Epoch 55/100\n",
            "5/5 [==============================] - 0s 7ms/step - loss: 0.1575\n",
            "Epoch 56/100\n",
            "5/5 [==============================] - 0s 8ms/step - loss: 0.1590\n",
            "Epoch 57/100\n",
            "5/5 [==============================] - 0s 6ms/step - loss: 0.1579\n",
            "Epoch 58/100\n",
            "5/5 [==============================] - 0s 6ms/step - loss: 0.1498\n",
            "Epoch 59/100\n",
            "5/5 [==============================] - 0s 7ms/step - loss: 0.1546\n",
            "Epoch 60/100\n",
            "5/5 [==============================] - 0s 7ms/step - loss: 0.1480\n",
            "Epoch 61/100\n",
            "5/5 [==============================] - 0s 7ms/step - loss: 0.1554\n",
            "Epoch 62/100\n",
            "5/5 [==============================] - 0s 7ms/step - loss: 0.1455\n",
            "Epoch 63/100\n",
            "5/5 [==============================] - 0s 6ms/step - loss: 0.1390\n",
            "Epoch 64/100\n",
            "5/5 [==============================] - 0s 6ms/step - loss: 0.1422\n",
            "Epoch 65/100\n",
            "5/5 [==============================] - 0s 6ms/step - loss: 0.1402\n",
            "Epoch 66/100\n",
            "5/5 [==============================] - 0s 6ms/step - loss: 0.1337\n",
            "Epoch 67/100\n",
            "5/5 [==============================] - 0s 6ms/step - loss: 0.1359\n",
            "Epoch 68/100\n",
            "5/5 [==============================] - 0s 7ms/step - loss: 0.1328\n",
            "Epoch 69/100\n",
            "5/5 [==============================] - 0s 7ms/step - loss: 0.1277\n",
            "Epoch 70/100\n",
            "5/5 [==============================] - 0s 6ms/step - loss: 0.1282\n",
            "Epoch 71/100\n",
            "5/5 [==============================] - 0s 7ms/step - loss: 0.1263\n",
            "Epoch 72/100\n",
            "5/5 [==============================] - 0s 6ms/step - loss: 0.1242\n",
            "Epoch 73/100\n",
            "5/5 [==============================] - 0s 6ms/step - loss: 0.1177\n",
            "Epoch 74/100\n",
            "5/5 [==============================] - 0s 7ms/step - loss: 0.1250\n",
            "Epoch 75/100\n",
            "5/5 [==============================] - 0s 6ms/step - loss: 0.1277\n",
            "Epoch 76/100\n",
            "5/5 [==============================] - 0s 7ms/step - loss: 0.1151\n",
            "Epoch 77/100\n",
            "5/5 [==============================] - 0s 6ms/step - loss: 0.1183\n",
            "Epoch 78/100\n",
            "5/5 [==============================] - 0s 7ms/step - loss: 0.1182\n",
            "Epoch 79/100\n",
            "5/5 [==============================] - 0s 6ms/step - loss: 0.1120\n",
            "Epoch 80/100\n",
            "5/5 [==============================] - 0s 6ms/step - loss: 0.1192\n",
            "Epoch 81/100\n",
            "5/5 [==============================] - 0s 7ms/step - loss: 0.1168\n",
            "Epoch 82/100\n",
            "5/5 [==============================] - 0s 7ms/step - loss: 0.1107\n",
            "Epoch 83/100\n",
            "5/5 [==============================] - 0s 6ms/step - loss: 0.1086\n",
            "Epoch 84/100\n",
            "5/5 [==============================] - 0s 7ms/step - loss: 0.1121\n",
            "Epoch 85/100\n",
            "5/5 [==============================] - 0s 6ms/step - loss: 0.1102\n",
            "Epoch 86/100\n",
            "5/5 [==============================] - 0s 7ms/step - loss: 0.1076\n",
            "Epoch 87/100\n",
            "5/5 [==============================] - 0s 7ms/step - loss: 0.1081\n",
            "Epoch 88/100\n",
            "5/5 [==============================] - 0s 6ms/step - loss: 0.1027\n",
            "Epoch 89/100\n",
            "5/5 [==============================] - 0s 7ms/step - loss: 0.0971\n",
            "Epoch 90/100\n",
            "5/5 [==============================] - 0s 7ms/step - loss: 0.1028\n",
            "Epoch 91/100\n",
            "5/5 [==============================] - 0s 7ms/step - loss: 0.1006\n",
            "Epoch 92/100\n",
            "5/5 [==============================] - 0s 7ms/step - loss: 0.0966\n",
            "Epoch 93/100\n",
            "5/5 [==============================] - 0s 7ms/step - loss: 0.1024\n",
            "Epoch 94/100\n",
            "5/5 [==============================] - 0s 6ms/step - loss: 0.0960\n",
            "Epoch 95/100\n",
            "5/5 [==============================] - 0s 6ms/step - loss: 0.0967\n",
            "Epoch 96/100\n",
            "5/5 [==============================] - 0s 7ms/step - loss: 0.0951\n",
            "Epoch 97/100\n",
            "5/5 [==============================] - 0s 6ms/step - loss: 0.0921\n",
            "Epoch 98/100\n",
            "5/5 [==============================] - 0s 6ms/step - loss: 0.0934\n",
            "Epoch 99/100\n",
            "5/5 [==============================] - 0s 6ms/step - loss: 0.0939\n",
            "Epoch 100/100\n",
            "5/5 [==============================] - 0s 6ms/step - loss: 0.0920\n"
          ]
        },
        {
          "output_type": "execute_result",
          "data": {
            "text/plain": [
              "<keras.callbacks.History at 0x7f0d11106fd0>"
            ]
          },
          "metadata": {},
          "execution_count": 134
        }
      ]
    },
    {
      "cell_type": "code",
      "source": [
        "from sklearn.metrics import mean_squared_error\n",
        "model1.evaluate(X_test ,y_test)"
      ],
      "metadata": {
        "colab": {
          "base_uri": "https://localhost:8080/"
        },
        "outputId": "ff981d38-9b0c-49a6-897f-db7229d22ec5",
        "id": "5aEYQ_kBgzEM"
      },
      "execution_count": 135,
      "outputs": [
        {
          "output_type": "stream",
          "name": "stdout",
          "text": [
            "37/37 [==============================] - 0s 2ms/step - loss: 0.0355\n"
          ]
        },
        {
          "output_type": "execute_result",
          "data": {
            "text/plain": [
              "0.03552350774407387"
            ]
          },
          "metadata": {},
          "execution_count": 135
        }
      ]
    },
    {
      "cell_type": "code",
      "source": [
        "from sklearn.metrics import mean_squared_error\n",
        "y_pred = y_scaler.inverse_transform(model1.predict(X_test))\n",
        "actual_y_test = y_scaler.inverse_transform(y_test)\n",
        "print(\"MSE: \", mean_squared_error(y_pred, actual_y_test))\n",
        "print(\"RMSE: \", mean_squared_error(y_pred, actual_y_test) ** 0.5)"
      ],
      "metadata": {
        "colab": {
          "base_uri": "https://localhost:8080/"
        },
        "outputId": "28150467-a8e7-4368-a794-e5629d8016a2",
        "id": "gAbbCI3-gzEM"
      },
      "execution_count": 136,
      "outputs": [
        {
          "output_type": "stream",
          "name": "stdout",
          "text": [
            "37/37 [==============================] - 0s 2ms/step\n",
            "MSE:  3909180134716.7534\n",
            "RMSE:  1977164.6706121252\n"
          ]
        }
      ]
    },
    {
      "cell_type": "markdown",
      "source": [
        "#### Model2"
      ],
      "metadata": {
        "id": "uR3ID0IhPHMR"
      }
    },
    {
      "cell_type": "markdown",
      "source": [
        "전처리 방식의 변화"
      ],
      "metadata": {
        "id": "6o_Auho1PLh0"
      }
    },
    {
      "cell_type": "code",
      "source": [
        "train.head()"
      ],
      "metadata": {
        "colab": {
          "base_uri": "https://localhost:8080/",
          "height": 0
        },
        "id": "AquQsbUyPD9Q",
        "outputId": "8f62ec41-36b4-43e4-b162-c96bddb93dbe"
      },
      "execution_count": 137,
      "outputs": [
        {
          "output_type": "execute_result",
          "data": {
            "text/plain": [
              "        Gender    Age  Occupation City_Category Stay_In_Current_City_Years  \\\n",
              "User_ID                                                                      \n",
              "1000001      F   0-17          10             A                          2   \n",
              "1000002      M    55+          16             C                         4+   \n",
              "1000003      M  26-35          15             A                          3   \n",
              "1000004      M  46-50           7             B                          2   \n",
              "1000005      M  26-35          20             A                          1   \n",
              "\n",
              "         Marital_Status  Purchase  \n",
              "User_ID                            \n",
              "1000001               0    334093  \n",
              "1000002               0    810472  \n",
              "1000003               0    341635  \n",
              "1000004               1    206468  \n",
              "1000005               1    821001  "
            ],
            "text/html": [
              "\n",
              "  <div id=\"df-9cab5933-fe26-485f-9b6f-2803ec6a5673\">\n",
              "    <div class=\"colab-df-container\">\n",
              "      <div>\n",
              "<style scoped>\n",
              "    .dataframe tbody tr th:only-of-type {\n",
              "        vertical-align: middle;\n",
              "    }\n",
              "\n",
              "    .dataframe tbody tr th {\n",
              "        vertical-align: top;\n",
              "    }\n",
              "\n",
              "    .dataframe thead th {\n",
              "        text-align: right;\n",
              "    }\n",
              "</style>\n",
              "<table border=\"1\" class=\"dataframe\">\n",
              "  <thead>\n",
              "    <tr style=\"text-align: right;\">\n",
              "      <th></th>\n",
              "      <th>Gender</th>\n",
              "      <th>Age</th>\n",
              "      <th>Occupation</th>\n",
              "      <th>City_Category</th>\n",
              "      <th>Stay_In_Current_City_Years</th>\n",
              "      <th>Marital_Status</th>\n",
              "      <th>Purchase</th>\n",
              "    </tr>\n",
              "    <tr>\n",
              "      <th>User_ID</th>\n",
              "      <th></th>\n",
              "      <th></th>\n",
              "      <th></th>\n",
              "      <th></th>\n",
              "      <th></th>\n",
              "      <th></th>\n",
              "      <th></th>\n",
              "    </tr>\n",
              "  </thead>\n",
              "  <tbody>\n",
              "    <tr>\n",
              "      <th>1000001</th>\n",
              "      <td>F</td>\n",
              "      <td>0-17</td>\n",
              "      <td>10</td>\n",
              "      <td>A</td>\n",
              "      <td>2</td>\n",
              "      <td>0</td>\n",
              "      <td>334093</td>\n",
              "    </tr>\n",
              "    <tr>\n",
              "      <th>1000002</th>\n",
              "      <td>M</td>\n",
              "      <td>55+</td>\n",
              "      <td>16</td>\n",
              "      <td>C</td>\n",
              "      <td>4+</td>\n",
              "      <td>0</td>\n",
              "      <td>810472</td>\n",
              "    </tr>\n",
              "    <tr>\n",
              "      <th>1000003</th>\n",
              "      <td>M</td>\n",
              "      <td>26-35</td>\n",
              "      <td>15</td>\n",
              "      <td>A</td>\n",
              "      <td>3</td>\n",
              "      <td>0</td>\n",
              "      <td>341635</td>\n",
              "    </tr>\n",
              "    <tr>\n",
              "      <th>1000004</th>\n",
              "      <td>M</td>\n",
              "      <td>46-50</td>\n",
              "      <td>7</td>\n",
              "      <td>B</td>\n",
              "      <td>2</td>\n",
              "      <td>1</td>\n",
              "      <td>206468</td>\n",
              "    </tr>\n",
              "    <tr>\n",
              "      <th>1000005</th>\n",
              "      <td>M</td>\n",
              "      <td>26-35</td>\n",
              "      <td>20</td>\n",
              "      <td>A</td>\n",
              "      <td>1</td>\n",
              "      <td>1</td>\n",
              "      <td>821001</td>\n",
              "    </tr>\n",
              "  </tbody>\n",
              "</table>\n",
              "</div>\n",
              "      <button class=\"colab-df-convert\" onclick=\"convertToInteractive('df-9cab5933-fe26-485f-9b6f-2803ec6a5673')\"\n",
              "              title=\"Convert this dataframe to an interactive table.\"\n",
              "              style=\"display:none;\">\n",
              "        \n",
              "  <svg xmlns=\"http://www.w3.org/2000/svg\" height=\"24px\"viewBox=\"0 0 24 24\"\n",
              "       width=\"24px\">\n",
              "    <path d=\"M0 0h24v24H0V0z\" fill=\"none\"/>\n",
              "    <path d=\"M18.56 5.44l.94 2.06.94-2.06 2.06-.94-2.06-.94-.94-2.06-.94 2.06-2.06.94zm-11 1L8.5 8.5l.94-2.06 2.06-.94-2.06-.94L8.5 2.5l-.94 2.06-2.06.94zm10 10l.94 2.06.94-2.06 2.06-.94-2.06-.94-.94-2.06-.94 2.06-2.06.94z\"/><path d=\"M17.41 7.96l-1.37-1.37c-.4-.4-.92-.59-1.43-.59-.52 0-1.04.2-1.43.59L10.3 9.45l-7.72 7.72c-.78.78-.78 2.05 0 2.83L4 21.41c.39.39.9.59 1.41.59.51 0 1.02-.2 1.41-.59l7.78-7.78 2.81-2.81c.8-.78.8-2.07 0-2.86zM5.41 20L4 18.59l7.72-7.72 1.47 1.35L5.41 20z\"/>\n",
              "  </svg>\n",
              "      </button>\n",
              "      \n",
              "  <style>\n",
              "    .colab-df-container {\n",
              "      display:flex;\n",
              "      flex-wrap:wrap;\n",
              "      gap: 12px;\n",
              "    }\n",
              "\n",
              "    .colab-df-convert {\n",
              "      background-color: #E8F0FE;\n",
              "      border: none;\n",
              "      border-radius: 50%;\n",
              "      cursor: pointer;\n",
              "      display: none;\n",
              "      fill: #1967D2;\n",
              "      height: 32px;\n",
              "      padding: 0 0 0 0;\n",
              "      width: 32px;\n",
              "    }\n",
              "\n",
              "    .colab-df-convert:hover {\n",
              "      background-color: #E2EBFA;\n",
              "      box-shadow: 0px 1px 2px rgba(60, 64, 67, 0.3), 0px 1px 3px 1px rgba(60, 64, 67, 0.15);\n",
              "      fill: #174EA6;\n",
              "    }\n",
              "\n",
              "    [theme=dark] .colab-df-convert {\n",
              "      background-color: #3B4455;\n",
              "      fill: #D2E3FC;\n",
              "    }\n",
              "\n",
              "    [theme=dark] .colab-df-convert:hover {\n",
              "      background-color: #434B5C;\n",
              "      box-shadow: 0px 1px 3px 1px rgba(0, 0, 0, 0.15);\n",
              "      filter: drop-shadow(0px 1px 2px rgba(0, 0, 0, 0.3));\n",
              "      fill: #FFFFFF;\n",
              "    }\n",
              "  </style>\n",
              "\n",
              "      <script>\n",
              "        const buttonEl =\n",
              "          document.querySelector('#df-9cab5933-fe26-485f-9b6f-2803ec6a5673 button.colab-df-convert');\n",
              "        buttonEl.style.display =\n",
              "          google.colab.kernel.accessAllowed ? 'block' : 'none';\n",
              "\n",
              "        async function convertToInteractive(key) {\n",
              "          const element = document.querySelector('#df-9cab5933-fe26-485f-9b6f-2803ec6a5673');\n",
              "          const dataTable =\n",
              "            await google.colab.kernel.invokeFunction('convertToInteractive',\n",
              "                                                     [key], {});\n",
              "          if (!dataTable) return;\n",
              "\n",
              "          const docLinkHtml = 'Like what you see? Visit the ' +\n",
              "            '<a target=\"_blank\" href=https://colab.research.google.com/notebooks/data_table.ipynb>data table notebook</a>'\n",
              "            + ' to learn more about interactive tables.';\n",
              "          element.innerHTML = '';\n",
              "          dataTable['output_type'] = 'display_data';\n",
              "          await google.colab.output.renderOutput(dataTable, element);\n",
              "          const docLink = document.createElement('div');\n",
              "          docLink.innerHTML = docLinkHtml;\n",
              "          element.appendChild(docLink);\n",
              "        }\n",
              "      </script>\n",
              "    </div>\n",
              "  </div>\n",
              "  "
            ]
          },
          "metadata": {},
          "execution_count": 137
        }
      ]
    },
    {
      "cell_type": "code",
      "source": [
        "sns.boxplot(train.Purchase)"
      ],
      "metadata": {
        "colab": {
          "base_uri": "https://localhost:8080/",
          "height": 0
        },
        "id": "W8Sti2IhZYSe",
        "outputId": "38ceeca2-e733-4528-8011-0e7f8f604395"
      },
      "execution_count": 138,
      "outputs": [
        {
          "output_type": "execute_result",
          "data": {
            "text/plain": [
              "<matplotlib.axes._subplots.AxesSubplot at 0x7f0d1197d510>"
            ]
          },
          "metadata": {},
          "execution_count": 138
        },
        {
          "output_type": "display_data",
          "data": {
            "text/plain": [
              "<Figure size 432x288 with 1 Axes>"
            ],
            "image/png": "[encoded data removed]"
          },
          "metadata": {
            "needs_background": "light"
          }
        }
      ]
    },
    {
      "cell_type": "code",
      "source": [
        "df = train.copy()\n",
        "def mapping_col(col, map_class):\n",
        "  df[[col]] = df[[col]].applymap(map_class.get)"
      ],
      "metadata": {
        "id": "poYICoPUSAxn"
      },
      "execution_count": 139,
      "outputs": []
    },
    {
      "cell_type": "code",
      "source": [
        "mapping_col('Gender', {'M':0, 'F':1})\n",
        "mapping_col(\"Age\", {'0-17':0, '18-25':1, '26-35':2, '36-45':3,\n",
        "                    '46-50':4, '51-55':5, '55+':6})\n",
        "mapping_col('Stay_In_Current_City_Years', {'0':0, '1':1, '2':2, '3':3, '4+':4})\n",
        "mapping_col('City_Category', {'A':0, 'B':1, 'C':2})"
      ],
      "metadata": {
        "id": "sjBPCzFcS2lV"
      },
      "execution_count": 140,
      "outputs": []
    },
    {
      "cell_type": "code",
      "source": [
        "X = df.drop('Purchase', axis=1)\n",
        "y = df[['Purchase']]"
      ],
      "metadata": {
        "id": "V7lJWjO_U28C"
      },
      "execution_count": 141,
      "outputs": []
    },
    {
      "cell_type": "code",
      "source": [
        "from sklearn.model_selection import train_test_split\n",
        "X_train, X_test, y_train, y_test = train_test_split(X, y, test_size=0.2, random_state=42)"
      ],
      "metadata": {
        "id": "zXiLiVBvU28C"
      },
      "execution_count": 142,
      "outputs": []
    },
    {
      "cell_type": "code",
      "source": [
        "from sklearn.preprocessing import StandardScaler, MinMaxScaler\n",
        "y_scaler = MinMaxScaler()\n",
        "y_train = y_scaler.fit_transform(y_train)\n",
        "y_test = y_scaler.transform(y_test)"
      ],
      "metadata": {
        "id": "zv8RmqxXU5bU"
      },
      "execution_count": 143,
      "outputs": []
    },
    {
      "cell_type": "code",
      "source": [
        "X_scaler = MinMaxScaler()\n",
        "X_train = X_scaler.fit_transform(X_train)\n",
        "X_test = X_scaler.transform(X_test)"
      ],
      "metadata": {
        "id": "mkuZ1PkxVQE6"
      },
      "execution_count": 144,
      "outputs": []
    },
    {
      "cell_type": "markdown",
      "source": [
        "model2"
      ],
      "metadata": {
        "id": "3PpBk57pV-Za"
      }
    },
    {
      "cell_type": "code",
      "source": [
        "keras.backend.clear_session()\n",
        "tf.random.set_seed(42)\n",
        "np.random.seed(42)\n",
        "\n",
        "model2 = Sequential()\n",
        "model2.add(Dense(500, input_shape=(6, ), activation='elu', name='dense1'))\n",
        "model2.add(Dropout(0.2, name='dropout1'))\n",
        "model2.add(Dense(100, activation='elu', name='dense2'))\n",
        "model2.add(Dropout(0.2, name='dropout2'))\n",
        "model2.add(Dense(20, activation='elu', name='dense3'))\n",
        "model2.add(Dense(1, activation='sigmoid', name='output'))"
      ],
      "metadata": {
        "id": "ziraot9dV8Ns"
      },
      "execution_count": 145,
      "outputs": []
    },
    {
      "cell_type": "code",
      "source": [
        "optimizer = tf.keras.optimizers.Adam(lr=1e-4)\n",
        "model2.compile(loss='mse', optimizer= optimizer)"
      ],
      "metadata": {
        "id": "no37S953V8Nu"
      },
      "execution_count": 146,
      "outputs": []
    },
    {
      "cell_type": "code",
      "source": [
        "model2.fit(X_train, y_train, epochs=100)"
      ],
      "metadata": {
        "colab": {
          "base_uri": "https://localhost:8080/"
        },
        "outputId": "71783256-d831-4aad-e510-b70758ed7312",
        "id": "eCrIJrDEV8Nv"
      },
      "execution_count": 147,
      "outputs": [
        {
          "output_type": "stream",
          "name": "stdout",
          "text": [
            "Epoch 1/100\n",
            "148/148 [==============================] - 1s 3ms/step - loss: 0.0257\n",
            "Epoch 2/100\n",
            "148/148 [==============================] - 0s 3ms/step - loss: 0.0084\n",
            "Epoch 3/100\n",
            "148/148 [==============================] - 0s 3ms/step - loss: 0.0083\n",
            "Epoch 4/100\n",
            "148/148 [==============================] - 0s 3ms/step - loss: 0.0081\n",
            "Epoch 5/100\n",
            "148/148 [==============================] - 0s 3ms/step - loss: 0.0080\n",
            "Epoch 6/100\n",
            "148/148 [==============================] - 0s 3ms/step - loss: 0.0078\n",
            "Epoch 7/100\n",
            "148/148 [==============================] - 0s 3ms/step - loss: 0.0078\n",
            "Epoch 8/100\n",
            "148/148 [==============================] - 0s 3ms/step - loss: 0.0077\n",
            "Epoch 9/100\n",
            "148/148 [==============================] - 0s 3ms/step - loss: 0.0076\n",
            "Epoch 10/100\n",
            "148/148 [==============================] - 0s 3ms/step - loss: 0.0076\n",
            "Epoch 11/100\n",
            "148/148 [==============================] - 0s 3ms/step - loss: 0.0076\n",
            "Epoch 12/100\n",
            "148/148 [==============================] - 0s 3ms/step - loss: 0.0075\n",
            "Epoch 13/100\n",
            "148/148 [==============================] - 0s 3ms/step - loss: 0.0074\n",
            "Epoch 14/100\n",
            "148/148 [==============================] - 0s 3ms/step - loss: 0.0075\n",
            "Epoch 15/100\n",
            "148/148 [==============================] - 0s 3ms/step - loss: 0.0074\n",
            "Epoch 16/100\n",
            "148/148 [==============================] - 0s 3ms/step - loss: 0.0074\n",
            "Epoch 17/100\n",
            "148/148 [==============================] - 0s 3ms/step - loss: 0.0074\n",
            "Epoch 18/100\n",
            "148/148 [==============================] - 0s 3ms/step - loss: 0.0074\n",
            "Epoch 19/100\n",
            "148/148 [==============================] - 0s 3ms/step - loss: 0.0073\n",
            "Epoch 20/100\n",
            "148/148 [==============================] - 0s 3ms/step - loss: 0.0073\n",
            "Epoch 21/100\n",
            "148/148 [==============================] - 0s 3ms/step - loss: 0.0074\n",
            "Epoch 22/100\n",
            "148/148 [==============================] - 0s 3ms/step - loss: 0.0074\n",
            "Epoch 23/100\n",
            "148/148 [==============================] - 0s 3ms/step - loss: 0.0074\n",
            "Epoch 24/100\n",
            "148/148 [==============================] - 0s 3ms/step - loss: 0.0073\n",
            "Epoch 25/100\n",
            "148/148 [==============================] - 0s 3ms/step - loss: 0.0073\n",
            "Epoch 26/100\n",
            "148/148 [==============================] - 0s 3ms/step - loss: 0.0073\n",
            "Epoch 27/100\n",
            "148/148 [==============================] - 0s 3ms/step - loss: 0.0073\n",
            "Epoch 28/100\n",
            "148/148 [==============================] - 0s 3ms/step - loss: 0.0073\n",
            "Epoch 29/100\n",
            "148/148 [==============================] - 0s 3ms/step - loss: 0.0073\n",
            "Epoch 30/100\n",
            "148/148 [==============================] - 0s 3ms/step - loss: 0.0074\n",
            "Epoch 31/100\n",
            "148/148 [==============================] - 0s 3ms/step - loss: 0.0073\n",
            "Epoch 32/100\n",
            "148/148 [==============================] - 0s 3ms/step - loss: 0.0073\n",
            "Epoch 33/100\n",
            "148/148 [==============================] - 0s 3ms/step - loss: 0.0072\n",
            "Epoch 34/100\n",
            "148/148 [==============================] - 0s 3ms/step - loss: 0.0073\n",
            "Epoch 35/100\n",
            "148/148 [==============================] - 0s 3ms/step - loss: 0.0073\n",
            "Epoch 36/100\n",
            "148/148 [==============================] - 0s 3ms/step - loss: 0.0072\n",
            "Epoch 37/100\n",
            "148/148 [==============================] - 0s 3ms/step - loss: 0.0072\n",
            "Epoch 38/100\n",
            "148/148 [==============================] - 0s 3ms/step - loss: 0.0072\n",
            "Epoch 39/100\n",
            "148/148 [==============================] - 0s 3ms/step - loss: 0.0072\n",
            "Epoch 40/100\n",
            "148/148 [==============================] - 0s 3ms/step - loss: 0.0072\n",
            "Epoch 41/100\n",
            "148/148 [==============================] - 0s 3ms/step - loss: 0.0072\n",
            "Epoch 42/100\n",
            "148/148 [==============================] - 0s 3ms/step - loss: 0.0072\n",
            "Epoch 43/100\n",
            "148/148 [==============================] - 0s 3ms/step - loss: 0.0072\n",
            "Epoch 44/100\n",
            "148/148 [==============================] - 0s 3ms/step - loss: 0.0072\n",
            "Epoch 45/100\n",
            "148/148 [==============================] - 0s 3ms/step - loss: 0.0072\n",
            "Epoch 46/100\n",
            "148/148 [==============================] - 0s 3ms/step - loss: 0.0072\n",
            "Epoch 47/100\n",
            "148/148 [==============================] - 0s 3ms/step - loss: 0.0071\n",
            "Epoch 48/100\n",
            "148/148 [==============================] - 0s 3ms/step - loss: 0.0071\n",
            "Epoch 49/100\n",
            "148/148 [==============================] - 0s 3ms/step - loss: 0.0071\n",
            "Epoch 50/100\n",
            "148/148 [==============================] - 0s 3ms/step - loss: 0.0071\n",
            "Epoch 51/100\n",
            "148/148 [==============================] - 0s 3ms/step - loss: 0.0071\n",
            "Epoch 52/100\n",
            "148/148 [==============================] - 0s 3ms/step - loss: 0.0070\n",
            "Epoch 53/100\n",
            "148/148 [==============================] - 0s 3ms/step - loss: 0.0070\n",
            "Epoch 54/100\n",
            "148/148 [==============================] - 0s 3ms/step - loss: 0.0070\n",
            "Epoch 55/100\n",
            "148/148 [==============================] - 0s 3ms/step - loss: 0.0070\n",
            "Epoch 56/100\n",
            "148/148 [==============================] - 0s 3ms/step - loss: 0.0070\n",
            "Epoch 57/100\n",
            "148/148 [==============================] - 0s 3ms/step - loss: 0.0070\n",
            "Epoch 58/100\n",
            "148/148 [==============================] - 0s 3ms/step - loss: 0.0070\n",
            "Epoch 59/100\n",
            "148/148 [==============================] - 0s 3ms/step - loss: 0.0070\n",
            "Epoch 60/100\n",
            "148/148 [==============================] - 0s 3ms/step - loss: 0.0070\n",
            "Epoch 61/100\n",
            "148/148 [==============================] - 0s 3ms/step - loss: 0.0070\n",
            "Epoch 62/100\n",
            "148/148 [==============================] - 0s 3ms/step - loss: 0.0070\n",
            "Epoch 63/100\n",
            "148/148 [==============================] - 0s 3ms/step - loss: 0.0070\n",
            "Epoch 64/100\n",
            "148/148 [==============================] - 0s 3ms/step - loss: 0.0069\n",
            "Epoch 65/100\n",
            "148/148 [==============================] - 0s 3ms/step - loss: 0.0069\n",
            "Epoch 66/100\n",
            "148/148 [==============================] - 0s 3ms/step - loss: 0.0069\n",
            "Epoch 67/100\n",
            "148/148 [==============================] - 0s 3ms/step - loss: 0.0069\n",
            "Epoch 68/100\n",
            "148/148 [==============================] - 0s 3ms/step - loss: 0.0070\n",
            "Epoch 69/100\n",
            "148/148 [==============================] - 0s 3ms/step - loss: 0.0069\n",
            "Epoch 70/100\n",
            "148/148 [==============================] - 0s 3ms/step - loss: 0.0070\n",
            "Epoch 71/100\n",
            "148/148 [==============================] - 0s 3ms/step - loss: 0.0069\n",
            "Epoch 72/100\n",
            "148/148 [==============================] - 0s 3ms/step - loss: 0.0069\n",
            "Epoch 73/100\n",
            "148/148 [==============================] - 0s 3ms/step - loss: 0.0070\n",
            "Epoch 74/100\n",
            "148/148 [==============================] - 0s 3ms/step - loss: 0.0069\n",
            "Epoch 75/100\n",
            "148/148 [==============================] - 0s 3ms/step - loss: 0.0069\n",
            "Epoch 76/100\n",
            "148/148 [==============================] - 0s 3ms/step - loss: 0.0070\n",
            "Epoch 77/100\n",
            "148/148 [==============================] - 0s 3ms/step - loss: 0.0069\n",
            "Epoch 78/100\n",
            "148/148 [==============================] - 0s 3ms/step - loss: 0.0069\n",
            "Epoch 79/100\n",
            "148/148 [==============================] - 0s 3ms/step - loss: 0.0069\n",
            "Epoch 80/100\n",
            "148/148 [==============================] - 0s 3ms/step - loss: 0.0069\n",
            "Epoch 81/100\n",
            "148/148 [==============================] - 0s 3ms/step - loss: 0.0069\n",
            "Epoch 82/100\n",
            "148/148 [==============================] - 0s 3ms/step - loss: 0.0069\n",
            "Epoch 83/100\n",
            "148/148 [==============================] - 0s 3ms/step - loss: 0.0070\n",
            "Epoch 84/100\n",
            "148/148 [==============================] - 0s 3ms/step - loss: 0.0070\n",
            "Epoch 85/100\n",
            "148/148 [==============================] - 0s 3ms/step - loss: 0.0069\n",
            "Epoch 86/100\n",
            "148/148 [==============================] - 0s 3ms/step - loss: 0.0070\n",
            "Epoch 87/100\n",
            "148/148 [==============================] - 0s 3ms/step - loss: 0.0070\n",
            "Epoch 88/100\n",
            "148/148 [==============================] - 0s 3ms/step - loss: 0.0069\n",
            "Epoch 89/100\n",
            "148/148 [==============================] - 0s 3ms/step - loss: 0.0069\n",
            "Epoch 90/100\n",
            "148/148 [==============================] - 0s 3ms/step - loss: 0.0070\n",
            "Epoch 91/100\n",
            "148/148 [==============================] - 0s 3ms/step - loss: 0.0069\n",
            "Epoch 92/100\n",
            "148/148 [==============================] - 0s 3ms/step - loss: 0.0069\n",
            "Epoch 93/100\n",
            "148/148 [==============================] - 0s 3ms/step - loss: 0.0069\n",
            "Epoch 94/100\n",
            "148/148 [==============================] - 0s 3ms/step - loss: 0.0069\n",
            "Epoch 95/100\n",
            "148/148 [==============================] - 0s 3ms/step - loss: 0.0069\n",
            "Epoch 96/100\n",
            "148/148 [==============================] - 0s 3ms/step - loss: 0.0069\n",
            "Epoch 97/100\n",
            "148/148 [==============================] - 0s 3ms/step - loss: 0.0069\n",
            "Epoch 98/100\n",
            "148/148 [==============================] - 0s 3ms/step - loss: 0.0069\n",
            "Epoch 99/100\n",
            "148/148 [==============================] - 0s 3ms/step - loss: 0.0069\n",
            "Epoch 100/100\n",
            "148/148 [==============================] - 0s 3ms/step - loss: 0.0070\n"
          ]
        },
        {
          "output_type": "execute_result",
          "data": {
            "text/plain": [
              "<keras.callbacks.History at 0x7f0d1291b710>"
            ]
          },
          "metadata": {},
          "execution_count": 147
        }
      ]
    },
    {
      "cell_type": "code",
      "source": [
        "from sklearn.metrics import mean_squared_error\n",
        "model2.evaluate(X_test ,y_test)"
      ],
      "metadata": {
        "colab": {
          "base_uri": "https://localhost:8080/"
        },
        "outputId": "f4609ce5-3767-4831-f774-4e22627c8073",
        "id": "G8DPOGSsgou7"
      },
      "execution_count": 148,
      "outputs": [
        {
          "output_type": "stream",
          "name": "stdout",
          "text": [
            "37/37 [==============================] - 0s 2ms/step - loss: 0.0064\n"
          ]
        },
        {
          "output_type": "execute_result",
          "data": {
            "text/plain": [
              "0.006391619797796011"
            ]
          },
          "metadata": {},
          "execution_count": 148
        }
      ]
    },
    {
      "cell_type": "code",
      "source": [
        "from sklearn.metrics import mean_squared_error\n",
        "y_pred = y_scaler.inverse_transform(model2.predict(X_test))\n",
        "actual_y_test = y_scaler.inverse_transform(y_test)\n",
        "print(\"MSE: \", mean_squared_error(y_pred, actual_y_test))\n",
        "print(\"RMSE: \", mean_squared_error(y_pred, actual_y_test) ** 0.5)"
      ],
      "metadata": {
        "colab": {
          "base_uri": "https://localhost:8080/"
        },
        "outputId": "4f9909bd-6e5a-4192-a2b4-238ed9554d79",
        "id": "QWCyY4WZgou8"
      },
      "execution_count": 149,
      "outputs": [
        {
          "output_type": "stream",
          "name": "stdout",
          "text": [
            "37/37 [==============================] - 0s 2ms/step\n",
            "MSE:  703365059487.6263\n",
            "RMSE:  838668.6231686663\n"
          ]
        }
      ]
    },
    {
      "cell_type": "markdown",
      "source": [
        "### model3"
      ],
      "metadata": {
        "id": "7clZSVr5bHus"
      }
    },
    {
      "cell_type": "code",
      "source": [
        "sns.heatmap(df.corr())"
      ],
      "metadata": {
        "colab": {
          "base_uri": "https://localhost:8080/",
          "height": 0
        },
        "id": "BFPI3WYAbIu3",
        "outputId": "4caf2463-e7bf-4400-d041-6643fe762ff1"
      },
      "execution_count": 150,
      "outputs": [
        {
          "output_type": "execute_result",
          "data": {
            "text/plain": [
              "<matplotlib.axes._subplots.AxesSubplot at 0x7f0d3a11fed0>"
            ]
          },
          "metadata": {},
          "execution_count": 150
        },
        {
          "output_type": "display_data",
          "data": {
            "text/plain": [
              "<Figure size 432x288 with 2 Axes>"
            ],
            "image/png": "[encoded data removed]"
          },
          "metadata": {
            "needs_background": "light"
          }
        }
      ]
    },
    {
      "cell_type": "code",
      "source": [
        "# 원핫 인코딩을 해준 경우\n",
        "df1 = train.astype({'Occupation': 'str'})"
      ],
      "metadata": {
        "id": "APXggxSibcwJ"
      },
      "execution_count": 151,
      "outputs": []
    },
    {
      "cell_type": "code",
      "source": [
        "df1 = pd.get_dummies(df1)"
      ],
      "metadata": {
        "id": "q9A9zFZLbcwJ"
      },
      "execution_count": 152,
      "outputs": []
    },
    {
      "cell_type": "code",
      "source": [
        "# city_category, gender, age등이 중요하게 영향을 미치는 것을 확인할 수 있다\n",
        "# 직업은 영향이 크다고 보기는 어려울 것 같고, stay_in_current_city_years, marital_status는 제외시켜도 될 것 같다\n",
        "print(abs(df1.corr()['Purchase']).sort_values(ascending=False).head(10))\n",
        "print(abs(df1.corr()['Purchase']).sort_values(ascending=False).tail(10))"
      ],
      "metadata": {
        "colab": {
          "base_uri": "https://localhost:8080/"
        },
        "id": "3ef78STIbee7",
        "outputId": "c0f8c9a7-7e3e-41f4-fba8-9d8b61f95c86"
      },
      "execution_count": 153,
      "outputs": [
        {
          "output_type": "stream",
          "name": "stdout",
          "text": [
            "Purchase           1.000000\n",
            "City_Category_C    0.379149\n",
            "City_Category_B    0.253386\n",
            "City_Category_A    0.194282\n",
            "Gender_F           0.101817\n",
            "Gender_M           0.101817\n",
            "Age_26-35          0.096613\n",
            "Age_55+            0.089512\n",
            "Occupation_13      0.058091\n",
            "Occupation_20      0.051706\n",
            "Name: Purchase, dtype: float64\n",
            "Stay_In_Current_City_Years_0     0.008096\n",
            "Age_36-45                        0.007717\n",
            "Age_18-25                        0.005067\n",
            "Occupation_11                    0.004899\n",
            "Occupation_18                    0.004692\n",
            "Stay_In_Current_City_Years_1     0.004346\n",
            "Occupation_14                    0.004246\n",
            "Occupation_15                    0.002530\n",
            "Stay_In_Current_City_Years_4+    0.000207\n",
            "Occupation_8                     0.000108\n",
            "Name: Purchase, dtype: float64\n"
          ]
        }
      ]
    },
    {
      "cell_type": "code",
      "source": [
        "df = train[['Gender', 'Age', 'City_Category', 'Purchase']]\n",
        "df = pd.get_dummies(df, ['Gender', 'Age', 'City_Category'])"
      ],
      "metadata": {
        "id": "PSpFwHwUczFo"
      },
      "execution_count": 154,
      "outputs": []
    },
    {
      "cell_type": "code",
      "source": [
        "df = df.drop(['Gender_F', 'Age_55+', 'City_Category_C'], axis=1)"
      ],
      "metadata": {
        "id": "Y7xEUZ6RdYaC"
      },
      "execution_count": 155,
      "outputs": []
    },
    {
      "cell_type": "code",
      "source": [
        "df.head()"
      ],
      "metadata": {
        "colab": {
          "base_uri": "https://localhost:8080/",
          "height": 0
        },
        "id": "E6crKDrZc-cm",
        "outputId": "575587df-158f-4f50-ddcf-512d3ac40fcb"
      },
      "execution_count": 156,
      "outputs": [
        {
          "output_type": "execute_result",
          "data": {
            "text/plain": [
              "         Purchase  Gender_M  Age_0-17  Age_18-25  Age_26-35  Age_36-45  \\\n",
              "User_ID                                                                  \n",
              "1000001    334093         0         1          0          0          0   \n",
              "1000002    810472         1         0          0          0          0   \n",
              "1000003    341635         1         0          0          1          0   \n",
              "1000004    206468         1         0          0          0          0   \n",
              "1000005    821001         1         0          0          1          0   \n",
              "\n",
              "         Age_46-50  Age_51-55  City_Category_A  City_Category_B  \n",
              "User_ID                                                          \n",
              "1000001          0          0                1                0  \n",
              "1000002          0          0                0                0  \n",
              "1000003          0          0                1                0  \n",
              "1000004          1          0                0                1  \n",
              "1000005          0          0                1                0  "
            ],
            "text/html": [
              "\n",
              "  <div id=\"df-1b450225-e147-4605-ba6f-5343fc348eb5\">\n",
              "    <div class=\"colab-df-container\">\n",
              "      <div>\n",
              "<style scoped>\n",
              "    .dataframe tbody tr th:only-of-type {\n",
              "        vertical-align: middle;\n",
              "    }\n",
              "\n",
              "    .dataframe tbody tr th {\n",
              "        vertical-align: top;\n",
              "    }\n",
              "\n",
              "    .dataframe thead th {\n",
              "        text-align: right;\n",
              "    }\n",
              "</style>\n",
              "<table border=\"1\" class=\"dataframe\">\n",
              "  <thead>\n",
              "    <tr style=\"text-align: right;\">\n",
              "      <th></th>\n",
              "      <th>Purchase</th>\n",
              "      <th>Gender_M</th>\n",
              "      <th>Age_0-17</th>\n",
              "      <th>Age_18-25</th>\n",
              "      <th>Age_26-35</th>\n",
              "      <th>Age_36-45</th>\n",
              "      <th>Age_46-50</th>\n",
              "      <th>Age_51-55</th>\n",
              "      <th>City_Category_A</th>\n",
              "      <th>City_Category_B</th>\n",
              "    </tr>\n",
              "    <tr>\n",
              "      <th>User_ID</th>\n",
              "      <th></th>\n",
              "      <th></th>\n",
              "      <th></th>\n",
              "      <th></th>\n",
              "      <th></th>\n",
              "      <th></th>\n",
              "      <th></th>\n",
              "      <th></th>\n",
              "      <th></th>\n",
              "      <th></th>\n",
              "    </tr>\n",
              "  </thead>\n",
              "  <tbody>\n",
              "    <tr>\n",
              "      <th>1000001</th>\n",
              "      <td>334093</td>\n",
              "      <td>0</td>\n",
              "      <td>1</td>\n",
              "      <td>0</td>\n",
              "      <td>0</td>\n",
              "      <td>0</td>\n",
              "      <td>0</td>\n",
              "      <td>0</td>\n",
              "      <td>1</td>\n",
              "      <td>0</td>\n",
              "    </tr>\n",
              "    <tr>\n",
              "      <th>1000002</th>\n",
              "      <td>810472</td>\n",
              "      <td>1</td>\n",
              "      <td>0</td>\n",
              "      <td>0</td>\n",
              "      <td>0</td>\n",
              "      <td>0</td>\n",
              "      <td>0</td>\n",
              "      <td>0</td>\n",
              "      <td>0</td>\n",
              "      <td>0</td>\n",
              "    </tr>\n",
              "    <tr>\n",
              "      <th>1000003</th>\n",
              "      <td>341635</td>\n",
              "      <td>1</td>\n",
              "      <td>0</td>\n",
              "      <td>0</td>\n",
              "      <td>1</td>\n",
              "      <td>0</td>\n",
              "      <td>0</td>\n",
              "      <td>0</td>\n",
              "      <td>1</td>\n",
              "      <td>0</td>\n",
              "    </tr>\n",
              "    <tr>\n",
              "      <th>1000004</th>\n",
              "      <td>206468</td>\n",
              "      <td>1</td>\n",
              "      <td>0</td>\n",
              "      <td>0</td>\n",
              "      <td>0</td>\n",
              "      <td>0</td>\n",
              "      <td>1</td>\n",
              "      <td>0</td>\n",
              "      <td>0</td>\n",
              "      <td>1</td>\n",
              "    </tr>\n",
              "    <tr>\n",
              "      <th>1000005</th>\n",
              "      <td>821001</td>\n",
              "      <td>1</td>\n",
              "      <td>0</td>\n",
              "      <td>0</td>\n",
              "      <td>1</td>\n",
              "      <td>0</td>\n",
              "      <td>0</td>\n",
              "      <td>0</td>\n",
              "      <td>1</td>\n",
              "      <td>0</td>\n",
              "    </tr>\n",
              "  </tbody>\n",
              "</table>\n",
              "</div>\n",
              "      <button class=\"colab-df-convert\" onclick=\"convertToInteractive('df-1b450225-e147-4605-ba6f-5343fc348eb5')\"\n",
              "              title=\"Convert this dataframe to an interactive table.\"\n",
              "              style=\"display:none;\">\n",
              "        \n",
              "  <svg xmlns=\"http://www.w3.org/2000/svg\" height=\"24px\"viewBox=\"0 0 24 24\"\n",
              "       width=\"24px\">\n",
              "    <path d=\"M0 0h24v24H0V0z\" fill=\"none\"/>\n",
              "    <path d=\"M18.56 5.44l.94 2.06.94-2.06 2.06-.94-2.06-.94-.94-2.06-.94 2.06-2.06.94zm-11 1L8.5 8.5l.94-2.06 2.06-.94-2.06-.94L8.5 2.5l-.94 2.06-2.06.94zm10 10l.94 2.06.94-2.06 2.06-.94-2.06-.94-.94-2.06-.94 2.06-2.06.94z\"/><path d=\"M17.41 7.96l-1.37-1.37c-.4-.4-.92-.59-1.43-.59-.52 0-1.04.2-1.43.59L10.3 9.45l-7.72 7.72c-.78.78-.78 2.05 0 2.83L4 21.41c.39.39.9.59 1.41.59.51 0 1.02-.2 1.41-.59l7.78-7.78 2.81-2.81c.8-.78.8-2.07 0-2.86zM5.41 20L4 18.59l7.72-7.72 1.47 1.35L5.41 20z\"/>\n",
              "  </svg>\n",
              "      </button>\n",
              "      \n",
              "  <style>\n",
              "    .colab-df-container {\n",
              "      display:flex;\n",
              "      flex-wrap:wrap;\n",
              "      gap: 12px;\n",
              "    }\n",
              "\n",
              "    .colab-df-convert {\n",
              "      background-color: #E8F0FE;\n",
              "      border: none;\n",
              "      border-radius: 50%;\n",
              "      cursor: pointer;\n",
              "      display: none;\n",
              "      fill: #1967D2;\n",
              "      height: 32px;\n",
              "      padding: 0 0 0 0;\n",
              "      width: 32px;\n",
              "    }\n",
              "\n",
              "    .colab-df-convert:hover {\n",
              "      background-color: #E2EBFA;\n",
              "      box-shadow: 0px 1px 2px rgba(60, 64, 67, 0.3), 0px 1px 3px 1px rgba(60, 64, 67, 0.15);\n",
              "      fill: #174EA6;\n",
              "    }\n",
              "\n",
              "    [theme=dark] .colab-df-convert {\n",
              "      background-color: #3B4455;\n",
              "      fill: #D2E3FC;\n",
              "    }\n",
              "\n",
              "    [theme=dark] .colab-df-convert:hover {\n",
              "      background-color: #434B5C;\n",
              "      box-shadow: 0px 1px 3px 1px rgba(0, 0, 0, 0.15);\n",
              "      filter: drop-shadow(0px 1px 2px rgba(0, 0, 0, 0.3));\n",
              "      fill: #FFFFFF;\n",
              "    }\n",
              "  </style>\n",
              "\n",
              "      <script>\n",
              "        const buttonEl =\n",
              "          document.querySelector('#df-1b450225-e147-4605-ba6f-5343fc348eb5 button.colab-df-convert');\n",
              "        buttonEl.style.display =\n",
              "          google.colab.kernel.accessAllowed ? 'block' : 'none';\n",
              "\n",
              "        async function convertToInteractive(key) {\n",
              "          const element = document.querySelector('#df-1b450225-e147-4605-ba6f-5343fc348eb5');\n",
              "          const dataTable =\n",
              "            await google.colab.kernel.invokeFunction('convertToInteractive',\n",
              "                                                     [key], {});\n",
              "          if (!dataTable) return;\n",
              "\n",
              "          const docLinkHtml = 'Like what you see? Visit the ' +\n",
              "            '<a target=\"_blank\" href=https://colab.research.google.com/notebooks/data_table.ipynb>data table notebook</a>'\n",
              "            + ' to learn more about interactive tables.';\n",
              "          element.innerHTML = '';\n",
              "          dataTable['output_type'] = 'display_data';\n",
              "          await google.colab.output.renderOutput(dataTable, element);\n",
              "          const docLink = document.createElement('div');\n",
              "          docLink.innerHTML = docLinkHtml;\n",
              "          element.appendChild(docLink);\n",
              "        }\n",
              "      </script>\n",
              "    </div>\n",
              "  </div>\n",
              "  "
            ]
          },
          "metadata": {},
          "execution_count": 156
        }
      ]
    },
    {
      "cell_type": "code",
      "source": [
        "X = df.drop('Purchase', axis=1)\n",
        "y = df[['Purchase']]"
      ],
      "metadata": {
        "id": "J3IWB1ZudURS"
      },
      "execution_count": 157,
      "outputs": []
    },
    {
      "cell_type": "code",
      "source": [
        "from sklearn.model_selection import train_test_split\n",
        "X_train, X_test, y_train, y_test = train_test_split(X, y, test_size=0.2, random_state=42)"
      ],
      "metadata": {
        "id": "CUhD0h1XdURS"
      },
      "execution_count": 158,
      "outputs": []
    },
    {
      "cell_type": "code",
      "source": [
        "X_train.shape"
      ],
      "metadata": {
        "colab": {
          "base_uri": "https://localhost:8080/"
        },
        "outputId": "e5c47a03-3b1e-49b9-e52a-6fceb7dad56e",
        "id": "627ruyE-dURS"
      },
      "execution_count": 159,
      "outputs": [
        {
          "output_type": "execute_result",
          "data": {
            "text/plain": [
              "(4712, 9)"
            ]
          },
          "metadata": {},
          "execution_count": 159
        }
      ]
    },
    {
      "cell_type": "code",
      "source": [
        "from sklearn.preprocessing import StandardScaler, MinMaxScaler\n",
        "X_scaler = MinMaxScaler()\n",
        "X_train = X_scaler.fit_transform(X_train)\n",
        "X_test = X_scaler.transform(X_test)"
      ],
      "metadata": {
        "id": "rrDMFEBteu7K"
      },
      "execution_count": 160,
      "outputs": []
    },
    {
      "cell_type": "code",
      "source": [
        "y_scaler = MinMaxScaler()\n",
        "y_train = y_scaler.fit_transform(y_train)\n",
        "y_test = y_scaler.transform(y_test)"
      ],
      "metadata": {
        "id": "2U0Ft5e9dURT"
      },
      "execution_count": 161,
      "outputs": []
    },
    {
      "cell_type": "code",
      "source": [
        "keras.backend.clear_session()\n",
        "tf.random.set_seed(42)\n",
        "np.random.seed(42)\n",
        "\n",
        "model3 = Sequential()\n",
        "model3.add(Dense(500, input_shape=(9, ), activation='relu', name='dense1'))\n",
        "model3.add(BatchNormalization())\n",
        "model3.add(Dropout(0.2, name='dropout1'))\n",
        "model3.add(Dense(50, activation='relu', name='dense2'))\n",
        "model3.add(BatchNormalization())\n",
        "model3.add(Dropout(0.2, name='dropout2'))\n",
        "model3.add(Dense(10, activation='relu', name='dense3'))\n",
        "model3.add(Dense(1, activation='sigmoid', name='output'))"
      ],
      "metadata": {
        "id": "QpJ5L3uhdyo4"
      },
      "execution_count": 162,
      "outputs": []
    },
    {
      "cell_type": "code",
      "source": [
        "model3.summary()"
      ],
      "metadata": {
        "colab": {
          "base_uri": "https://localhost:8080/"
        },
        "outputId": "c95bb0a6-fe53-4649-ce64-38245016760f",
        "id": "yvOifPMOdyo4"
      },
      "execution_count": 163,
      "outputs": [
        {
          "output_type": "stream",
          "name": "stdout",
          "text": [
            "Model: \"sequential\"\n",
            "_________________________________________________________________\n",
            " Layer (type)                Output Shape              Param #   \n",
            "=================================================================\n",
            " dense1 (Dense)              (None, 500)               5000      \n",
            "                                                                 \n",
            " batch_normalization (BatchN  (None, 500)              2000      \n",
            " ormalization)                                                   \n",
            "                                                                 \n",
            " dropout1 (Dropout)          (None, 500)               0         \n",
            "                                                                 \n",
            " dense2 (Dense)              (None, 50)                25050     \n",
            "                                                                 \n",
            " batch_normalization_1 (Batc  (None, 50)               200       \n",
            " hNormalization)                                                 \n",
            "                                                                 \n",
            " dropout2 (Dropout)          (None, 50)                0         \n",
            "                                                                 \n",
            " dense3 (Dense)              (None, 10)                510       \n",
            "                                                                 \n",
            " output (Dense)              (None, 1)                 11        \n",
            "                                                                 \n",
            "=================================================================\n",
            "Total params: 32,771\n",
            "Trainable params: 31,671\n",
            "Non-trainable params: 1,100\n",
            "_________________________________________________________________\n"
          ]
        }
      ]
    },
    {
      "cell_type": "code",
      "source": [
        "optimizer = tf.keras.optimizers.Adam(lr=1e-4)\n",
        "model3.compile(loss='mse', optimizer= optimizer)"
      ],
      "metadata": {
        "id": "ktMk9vB4dyo4"
      },
      "execution_count": 164,
      "outputs": []
    },
    {
      "cell_type": "code",
      "source": [
        "model3.fit(X_train, y_train, epochs=100, batch_size=1000)"
      ],
      "metadata": {
        "colab": {
          "base_uri": "https://localhost:8080/"
        },
        "outputId": "7ab095b8-5c73-4a45-ddd9-937cca6bd527",
        "id": "Mam3HMi4dyo4"
      },
      "execution_count": 165,
      "outputs": [
        {
          "output_type": "stream",
          "name": "stdout",
          "text": [
            "Epoch 1/100\n",
            "5/5 [==============================] - 1s 9ms/step - loss: 0.2460\n",
            "Epoch 2/100\n",
            "5/5 [==============================] - 0s 5ms/step - loss: 0.2289\n",
            "Epoch 3/100\n",
            "5/5 [==============================] - 0s 5ms/step - loss: 0.2142\n",
            "Epoch 4/100\n",
            "5/5 [==============================] - 0s 5ms/step - loss: 0.2009\n",
            "Epoch 5/100\n",
            "5/5 [==============================] - 0s 5ms/step - loss: 0.1847\n",
            "Epoch 6/100\n",
            "5/5 [==============================] - 0s 7ms/step - loss: 0.1728\n",
            "Epoch 7/100\n",
            "5/5 [==============================] - 0s 5ms/step - loss: 0.1638\n",
            "Epoch 8/100\n",
            "5/5 [==============================] - 0s 5ms/step - loss: 0.1512\n",
            "Epoch 9/100\n",
            "5/5 [==============================] - 0s 5ms/step - loss: 0.1453\n",
            "Epoch 10/100\n",
            "5/5 [==============================] - 0s 5ms/step - loss: 0.1368\n",
            "Epoch 11/100\n",
            "5/5 [==============================] - 0s 5ms/step - loss: 0.1259\n",
            "Epoch 12/100\n",
            "5/5 [==============================] - 0s 5ms/step - loss: 0.1206\n",
            "Epoch 13/100\n",
            "5/5 [==============================] - 0s 5ms/step - loss: 0.1134\n",
            "Epoch 14/100\n",
            "5/5 [==============================] - 0s 5ms/step - loss: 0.1089\n",
            "Epoch 15/100\n",
            "5/5 [==============================] - 0s 5ms/step - loss: 0.1020\n",
            "Epoch 16/100\n",
            "5/5 [==============================] - 0s 5ms/step - loss: 0.0946\n",
            "Epoch 17/100\n",
            "5/5 [==============================] - 0s 5ms/step - loss: 0.0912\n",
            "Epoch 18/100\n",
            "5/5 [==============================] - 0s 5ms/step - loss: 0.0861\n",
            "Epoch 19/100\n",
            "5/5 [==============================] - 0s 5ms/step - loss: 0.0831\n",
            "Epoch 20/100\n",
            "5/5 [==============================] - 0s 5ms/step - loss: 0.0798\n",
            "Epoch 21/100\n",
            "5/5 [==============================] - 0s 5ms/step - loss: 0.0752\n",
            "Epoch 22/100\n",
            "5/5 [==============================] - 0s 5ms/step - loss: 0.0727\n",
            "Epoch 23/100\n",
            "5/5 [==============================] - 0s 5ms/step - loss: 0.0693\n",
            "Epoch 24/100\n",
            "5/5 [==============================] - 0s 5ms/step - loss: 0.0669\n",
            "Epoch 25/100\n",
            "5/5 [==============================] - 0s 5ms/step - loss: 0.0641\n",
            "Epoch 26/100\n",
            "5/5 [==============================] - 0s 5ms/step - loss: 0.0625\n",
            "Epoch 27/100\n",
            "5/5 [==============================] - 0s 5ms/step - loss: 0.0601\n",
            "Epoch 28/100\n",
            "5/5 [==============================] - 0s 5ms/step - loss: 0.0577\n",
            "Epoch 29/100\n",
            "5/5 [==============================] - 0s 5ms/step - loss: 0.0564\n",
            "Epoch 30/100\n",
            "5/5 [==============================] - 0s 5ms/step - loss: 0.0540\n",
            "Epoch 31/100\n",
            "5/5 [==============================] - 0s 5ms/step - loss: 0.0525\n",
            "Epoch 32/100\n",
            "5/5 [==============================] - 0s 5ms/step - loss: 0.0515\n",
            "Epoch 33/100\n",
            "5/5 [==============================] - 0s 5ms/step - loss: 0.0487\n",
            "Epoch 34/100\n",
            "5/5 [==============================] - 0s 5ms/step - loss: 0.0477\n",
            "Epoch 35/100\n",
            "5/5 [==============================] - 0s 6ms/step - loss: 0.0475\n",
            "Epoch 36/100\n",
            "5/5 [==============================] - 0s 5ms/step - loss: 0.0444\n",
            "Epoch 37/100\n",
            "5/5 [==============================] - 0s 5ms/step - loss: 0.0428\n",
            "Epoch 38/100\n",
            "5/5 [==============================] - 0s 6ms/step - loss: 0.0417\n",
            "Epoch 39/100\n",
            "5/5 [==============================] - 0s 5ms/step - loss: 0.0411\n",
            "Epoch 40/100\n",
            "5/5 [==============================] - 0s 5ms/step - loss: 0.0400\n",
            "Epoch 41/100\n",
            "5/5 [==============================] - 0s 5ms/step - loss: 0.0398\n",
            "Epoch 42/100\n",
            "5/5 [==============================] - 0s 5ms/step - loss: 0.0371\n",
            "Epoch 43/100\n",
            "5/5 [==============================] - 0s 5ms/step - loss: 0.0364\n",
            "Epoch 44/100\n",
            "5/5 [==============================] - 0s 5ms/step - loss: 0.0355\n",
            "Epoch 45/100\n",
            "5/5 [==============================] - 0s 5ms/step - loss: 0.0358\n",
            "Epoch 46/100\n",
            "5/5 [==============================] - 0s 5ms/step - loss: 0.0337\n",
            "Epoch 47/100\n",
            "5/5 [==============================] - 0s 5ms/step - loss: 0.0327\n",
            "Epoch 48/100\n",
            "5/5 [==============================] - 0s 5ms/step - loss: 0.0323\n",
            "Epoch 49/100\n",
            "5/5 [==============================] - 0s 5ms/step - loss: 0.0325\n",
            "Epoch 50/100\n",
            "5/5 [==============================] - 0s 5ms/step - loss: 0.0313\n",
            "Epoch 51/100\n",
            "5/5 [==============================] - 0s 7ms/step - loss: 0.0304\n",
            "Epoch 52/100\n",
            "5/5 [==============================] - 0s 5ms/step - loss: 0.0294\n",
            "Epoch 53/100\n",
            "5/5 [==============================] - 0s 5ms/step - loss: 0.0294\n",
            "Epoch 54/100\n",
            "5/5 [==============================] - 0s 5ms/step - loss: 0.0291\n",
            "Epoch 55/100\n",
            "5/5 [==============================] - 0s 5ms/step - loss: 0.0279\n",
            "Epoch 56/100\n",
            "5/5 [==============================] - 0s 5ms/step - loss: 0.0273\n",
            "Epoch 57/100\n",
            "5/5 [==============================] - 0s 5ms/step - loss: 0.0269\n",
            "Epoch 58/100\n",
            "5/5 [==============================] - 0s 5ms/step - loss: 0.0260\n",
            "Epoch 59/100\n",
            "5/5 [==============================] - 0s 5ms/step - loss: 0.0255\n",
            "Epoch 60/100\n",
            "5/5 [==============================] - 0s 5ms/step - loss: 0.0256\n",
            "Epoch 61/100\n",
            "5/5 [==============================] - 0s 5ms/step - loss: 0.0254\n",
            "Epoch 62/100\n",
            "5/5 [==============================] - 0s 6ms/step - loss: 0.0240\n",
            "Epoch 63/100\n",
            "5/5 [==============================] - 0s 5ms/step - loss: 0.0244\n",
            "Epoch 64/100\n",
            "5/5 [==============================] - 0s 5ms/step - loss: 0.0236\n",
            "Epoch 65/100\n",
            "5/5 [==============================] - 0s 5ms/step - loss: 0.0226\n",
            "Epoch 66/100\n",
            "5/5 [==============================] - 0s 5ms/step - loss: 0.0229\n",
            "Epoch 67/100\n",
            "5/5 [==============================] - 0s 5ms/step - loss: 0.0216\n",
            "Epoch 68/100\n",
            "5/5 [==============================] - 0s 5ms/step - loss: 0.0216\n",
            "Epoch 69/100\n",
            "5/5 [==============================] - 0s 7ms/step - loss: 0.0216\n",
            "Epoch 70/100\n",
            "5/5 [==============================] - 0s 5ms/step - loss: 0.0211\n",
            "Epoch 71/100\n",
            "5/5 [==============================] - 0s 5ms/step - loss: 0.0211\n",
            "Epoch 72/100\n",
            "5/5 [==============================] - 0s 5ms/step - loss: 0.0201\n",
            "Epoch 73/100\n",
            "5/5 [==============================] - 0s 6ms/step - loss: 0.0197\n",
            "Epoch 74/100\n",
            "5/5 [==============================] - 0s 5ms/step - loss: 0.0200\n",
            "Epoch 75/100\n",
            "5/5 [==============================] - 0s 5ms/step - loss: 0.0199\n",
            "Epoch 76/100\n",
            "5/5 [==============================] - 0s 5ms/step - loss: 0.0193\n",
            "Epoch 77/100\n",
            "5/5 [==============================] - 0s 5ms/step - loss: 0.0190\n",
            "Epoch 78/100\n",
            "5/5 [==============================] - 0s 5ms/step - loss: 0.0185\n",
            "Epoch 79/100\n",
            "5/5 [==============================] - 0s 5ms/step - loss: 0.0183\n",
            "Epoch 80/100\n",
            "5/5 [==============================] - 0s 5ms/step - loss: 0.0182\n",
            "Epoch 81/100\n",
            "5/5 [==============================] - 0s 5ms/step - loss: 0.0185\n",
            "Epoch 82/100\n",
            "5/5 [==============================] - 0s 5ms/step - loss: 0.0179\n",
            "Epoch 83/100\n",
            "5/5 [==============================] - 0s 5ms/step - loss: 0.0178\n",
            "Epoch 84/100\n",
            "5/5 [==============================] - 0s 6ms/step - loss: 0.0173\n",
            "Epoch 85/100\n",
            "5/5 [==============================] - 0s 5ms/step - loss: 0.0167\n",
            "Epoch 86/100\n",
            "5/5 [==============================] - 0s 5ms/step - loss: 0.0169\n",
            "Epoch 87/100\n",
            "5/5 [==============================] - 0s 5ms/step - loss: 0.0165\n",
            "Epoch 88/100\n",
            "5/5 [==============================] - 0s 5ms/step - loss: 0.0163\n",
            "Epoch 89/100\n",
            "5/5 [==============================] - 0s 6ms/step - loss: 0.0162\n",
            "Epoch 90/100\n",
            "5/5 [==============================] - 0s 6ms/step - loss: 0.0157\n",
            "Epoch 91/100\n",
            "5/5 [==============================] - 0s 6ms/step - loss: 0.0161\n",
            "Epoch 92/100\n",
            "5/5 [==============================] - 0s 6ms/step - loss: 0.0156\n",
            "Epoch 93/100\n",
            "5/5 [==============================] - 0s 5ms/step - loss: 0.0151\n",
            "Epoch 94/100\n",
            "5/5 [==============================] - 0s 6ms/step - loss: 0.0150\n",
            "Epoch 95/100\n",
            "5/5 [==============================] - 0s 5ms/step - loss: 0.0154\n",
            "Epoch 96/100\n",
            "5/5 [==============================] - 0s 5ms/step - loss: 0.0148\n",
            "Epoch 97/100\n",
            "5/5 [==============================] - 0s 6ms/step - loss: 0.0147\n",
            "Epoch 98/100\n",
            "5/5 [==============================] - 0s 5ms/step - loss: 0.0146\n",
            "Epoch 99/100\n",
            "5/5 [==============================] - 0s 6ms/step - loss: 0.0141\n",
            "Epoch 100/100\n",
            "5/5 [==============================] - 0s 5ms/step - loss: 0.0140\n"
          ]
        },
        {
          "output_type": "execute_result",
          "data": {
            "text/plain": [
              "<keras.callbacks.History at 0x7f0d10f537d0>"
            ]
          },
          "metadata": {},
          "execution_count": 165
        }
      ]
    },
    {
      "cell_type": "code",
      "source": [
        "from sklearn.metrics import mean_squared_error\n",
        "model3.evaluate(X_test ,y_test)"
      ],
      "metadata": {
        "colab": {
          "base_uri": "https://localhost:8080/"
        },
        "id": "Xj6sSdeqefQf",
        "outputId": "0b2d3779-7faf-4242-8d6f-c3eef968a0df"
      },
      "execution_count": 166,
      "outputs": [
        {
          "output_type": "stream",
          "name": "stdout",
          "text": [
            "37/37 [==============================] - 0s 2ms/step - loss: 0.0313\n"
          ]
        },
        {
          "output_type": "execute_result",
          "data": {
            "text/plain": [
              "0.03134939819574356"
            ]
          },
          "metadata": {},
          "execution_count": 166
        }
      ]
    },
    {
      "cell_type": "code",
      "source": [
        "from sklearn.metrics import mean_squared_error\n",
        "y_pred = y_scaler.inverse_transform(model3.predict(X_test))\n",
        "actual_y_test = y_scaler.inverse_transform(y_test)\n",
        "print(\"MSE: \", mean_squared_error(y_pred, actual_y_test))\n",
        "print(\"RMSE: \", mean_squared_error(y_pred, actual_y_test) ** 0.5)"
      ],
      "metadata": {
        "colab": {
          "base_uri": "https://localhost:8080/"
        },
        "outputId": "3d9db0ee-6fee-41e6-b479-17850bd4e9a0",
        "id": "bh5dLT6kdyo4"
      },
      "execution_count": 167,
      "outputs": [
        {
          "output_type": "stream",
          "name": "stdout",
          "text": [
            "37/37 [==============================] - 0s 2ms/step\n",
            "MSE:  3449840596405.191\n",
            "RMSE:  1857374.6515997227\n"
          ]
        }
      ]
    },
    {
      "cell_type": "markdown",
      "source": [
        "## 3"
      ],
      "metadata": {
        "id": "wgOVEYP9nAgB"
      }
    },
    {
      "cell_type": "code",
      "source": [],
      "metadata": {
        "id": "_VTB2UvOnBrT"
      },
      "execution_count": null,
      "outputs": []
    }
  ]
}